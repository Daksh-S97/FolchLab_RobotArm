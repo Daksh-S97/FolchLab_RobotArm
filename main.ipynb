{
 "cells": [
  {
   "cell_type": "code",
   "execution_count": 1,
   "metadata": {},
   "outputs": [],
   "source": [
    "from deps.dobot_api import DobotApiDashboard, DobotApiMove\n",
    "from deps import utils\n",
    "from deps import cv_core\n",
    "import numpy as np\n",
    "import matplotlib.pyplot as plt\n",
    "import cv2\n",
    "from pynput import keyboard\n",
    "import time"
   ]
  },
  {
   "cell_type": "code",
   "execution_count": 12,
   "metadata": {},
   "outputs": [],
   "source": [
    "def sort_anchors(inp):\n",
    "    maxx = sorted(np.squeeze(inp), key=lambda x: x[0])\n",
    "\n",
    "    left = maxx[:2]\n",
    "    right = maxx[-2:]\n",
    "\n",
    "    l_sorty = sorted(left, key=lambda x: x[1])\n",
    "    r_sorty = sorted(right, key=lambda x: x[1])\n",
    "\n",
    "    return np.vstack((l_sorty, r_sorty))"
   ]
  },
  {
   "cell_type": "code",
   "execution_count": 7,
   "metadata": {},
   "outputs": [],
   "source": [
    "dash = DobotApiDashboard('192.168.1.6', 29999)\n",
    "move = DobotApiMove('192.168.1.6', 30003)\n",
    "keys = utils.Keyboard(dash)"
   ]
  },
  {
   "cell_type": "code",
   "execution_count": 13,
   "metadata": {},
   "outputs": [
    {
     "data": {
      "text/plain": [
       "'0,{},EnableRobot();'"
      ]
     },
     "execution_count": 13,
     "metadata": {},
     "output_type": "execute_result"
    }
   ],
   "source": [
    "dash.ClearError()\n",
    "dash.EnableRobot()"
   ]
  },
  {
   "cell_type": "code",
   "execution_count": 8,
   "metadata": {},
   "outputs": [
    {
     "name": "stdout",
     "output_type": "stream",
     "text": [
      "Mode: ROBOT_MODE_ERROR\n",
      "\n",
      "|CODE: 70|\n",
      "__________________________________________________\n",
      "Possible reasons from ALARM SERVO:\n",
      "Invalid control mode.\n",
      "__________________________________________________\n",
      "Possible reasons from ALARM CONTROLLER:\n",
      "Positive limit alarm of Joint4.\n"
     ]
    }
   ],
   "source": [
    "utils.report_mode(dash)\n",
    "utils.report_error(dash)"
   ]
  },
  {
   "cell_type": "code",
   "execution_count": 53,
   "metadata": {},
   "outputs": [
    {
     "data": {
      "text/plain": [
       "'0,{},SetCollisionLevel(1);'"
      ]
     },
     "execution_count": 53,
     "metadata": {},
     "output_type": "execute_result"
    }
   ],
   "source": [
    "dash.SetCollisionLevel(1)"
   ]
  },
  {
   "cell_type": "code",
   "execution_count": 9,
   "metadata": {},
   "outputs": [
    {
     "data": {
      "text/plain": [
       "'0,{},DisableRobot();'"
      ]
     },
     "execution_count": 9,
     "metadata": {},
     "output_type": "execute_result"
    }
   ],
   "source": [
    "dash.DisableRobot()"
   ]
  },
  {
   "cell_type": "code",
   "execution_count": 55,
   "metadata": {},
   "outputs": [
    {
     "name": "stdout",
     "output_type": "stream",
     "text": [
      "X = 321.505463\n",
      "Y = 0.0\n",
      "Z = -34.254505\n",
      "r = 22.918932\n"
     ]
    },
    {
     "data": {
      "text/plain": [
       "array([321.505463,   0.      , -34.254505,  22.918932])"
      ]
     },
     "execution_count": 55,
     "metadata": {},
     "output_type": "execute_result"
    }
   ],
   "source": [
    "utils.get_pose(dash)"
   ]
  },
  {
   "cell_type": "code",
   "execution_count": 54,
   "metadata": {},
   "outputs": [
    {
     "data": {
      "text/plain": [
       "'0,{},MovL(321.505454,0.000000,-50.000000,22.918932);'"
      ]
     },
     "execution_count": 54,
     "metadata": {},
     "output_type": "execute_result"
    }
   ],
   "source": [
    "move.MovL(321.505454, 0, -50, 22.918932)"
   ]
  },
  {
   "cell_type": "code",
   "execution_count": 14,
   "metadata": {},
   "outputs": [
    {
     "name": "stdout",
     "output_type": "stream",
     "text": [
      "Position saved!\n",
      "Position saved!\n",
      "Position saved!\n",
      "Position saved!\n",
      "Special key pressed: Key.esc\n"
     ]
    }
   ],
   "source": [
    "keys.execute()"
   ]
  },
  {
   "cell_type": "code",
   "execution_count": 17,
   "metadata": {},
   "outputs": [],
   "source": [
    "cap = cv2.VideoCapture(0)\n",
    "cap = cv_core.set_res(cap, (1600, 1200))\n",
    "cv2.namedWindow('frame',  cv2.WINDOW_NORMAL)\n",
    "cv2.resizeWindow('frame', 1348, 1011)\n",
    "\n",
    "cameraMatrix = np.load('./cam_matrices/cam_mtx.npy')\n",
    "dist = np.load('./cam_matrices/dist.npy')\n",
    "newCameraMatrix = np.load('./cam_matrices/newcam_mtx.npy')\n",
    "\n",
    "all_anchors = []\n",
    "\n",
    "idx = 1\n",
    "while True:\n",
    "    ret, frame = cap.read()\n",
    "    frame = cv2.undistort(frame, cameraMatrix, dist, None, newCameraMatrix)\n",
    "    \n",
    "    gray = cv2.cvtColor(frame, cv2.COLOR_BGR2GRAY)\n",
    "    detected_circles = cv2.HoughCircles(image=gray,\n",
    "                                        method=cv2.HOUGH_GRADIENT,\n",
    "                                        dp=1,\n",
    "                                        minDist=30,\n",
    "                                        param1=100,\n",
    "                                        param2=40,\n",
    "                                        minRadius=20,\n",
    "                                        maxRadius=40\n",
    "                                        )\n",
    "\n",
    "\n",
    "    if detected_circles is not None:\n",
    "        plot_img = frame.copy()\n",
    "        circles = np.uint16(np.around(detected_circles))\n",
    "        if np.squeeze(circles).shape[0] == 4:\n",
    "            all_anchors.append(sort_anchors(circles))\n",
    "\n",
    "        for i in circles[0,:]:\n",
    "            center = (i[0], i[1])\n",
    "            cv2.circle(plot_img, center, 1, (255, 0 ,0), 3)\n",
    "            radius = i[2]\n",
    "            cv2.circle(plot_img, center, radius, (0, 255 ,0), 3)\n",
    "\n",
    "        cv2.putText(plot_img, f\"Frame {idx}\", (25,25), cv2.FONT_HERSHEY_SIMPLEX, 0.75, (0,255,0), 2)\n",
    "\n",
    "        # for i in all_anchors[0]:\n",
    "        #     center = (int(i[0]), int(i[1]))\n",
    "        #     cv2.circle(plot_img, center, 1, (0, 0 ,255), 3)\n",
    "        #     radius = i[2]\n",
    "        #     cv2.circle(plot_img, center, int(radius), (0, 255 ,0), 3)\n",
    "    idx += 1\n",
    "    cv2.imshow('frame', plot_img)\n",
    "    if cv2.waitKey(1) & 0xFF == ord('q'):\n",
    "        break\n",
    "\n",
    "cap.release()\n",
    "\n",
    "plot_img = frame.copy()\n",
    "means = np.mean(all_anchors, axis = 0)\n",
    "for i in means:\n",
    "    center = (int(i[0]), int(i[1]))\n",
    "    cv2.circle(plot_img, center, 1, (0, 0 ,255), 3)\n",
    "    radius = i[2]\n",
    "    cv2.circle(plot_img, center, int(radius), (0, 0, 255), 3)\n",
    "cv2.putText(plot_img, \"Captured:\", (25,25), cv2.FONT_HERSHEY_SIMPLEX, 0.75, (0,255,0), 2)\n",
    "cv2.imshow('frame', plot_img)\n",
    "cv2.waitKey(0)\n",
    "cv2.destroyAllWindows()"
   ]
  },
  {
   "cell_type": "code",
   "execution_count": 18,
   "metadata": {},
   "outputs": [
    {
     "data": {
      "text/plain": [
       "array([[ 291.08695652,  102.52173913,   30.86956522],\n",
       "       [ 299.36956522, 1129.45652174,   30.06521739],\n",
       "       [1317.17391304,   99.2173913 ,   32.63043478],\n",
       "       [1312.08695652, 1128.        ,   31.08695652]])"
      ]
     },
     "execution_count": 18,
     "metadata": {},
     "output_type": "execute_result"
    }
   ],
   "source": [
    "means"
   ]
  },
  {
   "cell_type": "code",
   "execution_count": 19,
   "metadata": {},
   "outputs": [],
   "source": [
    "centers = means[:, :-1]"
   ]
  },
  {
   "cell_type": "code",
   "execution_count": 20,
   "metadata": {},
   "outputs": [],
   "source": [
    "# print(\"Detecting Anchors\")\n",
    "# while True:\n",
    "#     cap = cv2.VideoCapture(0)\n",
    "#     cap = cv_core.set_res(cap, (1600, 1200))\n",
    "#     centers = cont.wait_for_anchors(cap, show = True)\n",
    "#     cap.release()\n",
    "#     if len(centers) == 4:\n",
    "#         break\n",
    "\n",
    "\n",
    "xys = [(arr[0], arr[1]) for arr in keys.coords]\n",
    "pix_coor = utils.assign_corners(centers)\n",
    "robot_coor = utils.assign_corners(xys, reverse=True)\n",
    "\n",
    "\n",
    "features_mm_to_pixels_dict = {}\n",
    "for key, value in robot_coor.items():\n",
    "    features_mm_to_pixels_dict[value] = pix_coor[key]\n",
    "\n",
    "\n",
    "tf_mtx = cv_core.compute_tf_mtx(features_mm_to_pixels_dict)"
   ]
  },
  {
   "cell_type": "code",
   "execution_count": 26,
   "metadata": {},
   "outputs": [],
   "source": [
    "cont = cv_core.Contours()\n",
    "\n",
    "def on_change(val): pass\n",
    "\n",
    "offset = 110\n",
    "cap = cv2.VideoCapture(0)\n",
    "cap = cv_core.set_res(cap, cv_core.camera_res_dict['1200'])\n",
    "#out = cv2.VideoWriter('out.avi',cv2.VideoWriter_fourcc('M','J','P','G'), 25, (640,480))\n",
    "cont = cv_core.Contours()\n",
    "\n",
    "cameraMatrix = np.load('./cam_matrices/cam_mtx.npy')\n",
    "dist = np.load('./cam_matrices/dist.npy')\n",
    "newCameraMatrix = np.load('./cam_matrices/newcam_mtx.npy')\n",
    "\n",
    "cv2.namedWindow('frame',  cv2.WINDOW_NORMAL)\n",
    "cv2.resizeWindow('frame', 1348, 1011)\n",
    "cv2.createTrackbar('Manual Lock', 'frame', 0, 1, on_change)\n",
    "cv2.setMouseCallback('frame', cont.mousecallback)\n",
    "\n",
    "idx = 0\n",
    "prev_point = (0,0,0)\n",
    "while(True):\n",
    "    ret, frame = cap.read()\n",
    "    frame = cv2.undistort(frame, cameraMatrix, dist, None, newCameraMatrix)\n",
    "    # frame = np.split(frame,2, axis = 1)[1]\n",
    "    val = cv2.getTrackbarPos('Manual Lock', 'frame')\n",
    "    if val == 1:\n",
    "        cont.locked = True\n",
    "    else:\n",
    "        cont.locked = False\n",
    "\n",
    "    pt = cont.find_contours(frame, 10, offset)\n",
    "    a,b,r = pt\n",
    "    plot_img = frame.copy()\n",
    "    cv2.circle(plot_img, (a, b), r, (0, 255, 0), 2)\n",
    "    cv2.circle(plot_img, (a, b), 1, (0, 0, 255), 3)\n",
    "    cv2.circle(plot_img, (a, b), r - offset, (0, 0, 255), 2)\n",
    "    cv2.drawContours(plot_img, cont.singular, -1,(0,255, 0),2)\n",
    "    cv2.drawContours(plot_img, cont.clusters, -1,(0,0,255),2)\n",
    "\n",
    "    if cont.selected:\n",
    "        cv2.drawContours(plot_img, cont.selected, -1,(255,0,0),2)\n",
    "\n",
    "    for c in cont.singular:\n",
    "        # compute the center of the contour\n",
    "        M = cv2.moments(c)\n",
    "        cX = int(M[\"m10\"] / M[\"m00\"])\n",
    "        cY = int(M[\"m01\"] / M[\"m00\"])\n",
    "        # draw the contour and center of the shape on the image\n",
    "        #cv2.drawContours(plot_img, [c], -1, (0, 255, 0), 2)\n",
    "        cv2.circle(plot_img, (cX, cY), 2, (0, 0, 255), -1)\n",
    "        cv2.putText(plot_img, f\"{cX},{cY}\", (cX - 20, cY - 20),\n",
    "        cv2.FONT_HERSHEY_SIMPLEX, 0.5, (0, 255, 0), 2)\n",
    "\n",
    "        # cv2.putText(plot_img, f\"{cv2.contourArea(c)}\", (cX - 20, cY - 20),\n",
    "        # cv2.FONT_HERSHEY_SIMPLEX, 0.7, (0, 255, 0), 1)\n",
    "    #out.write(with_contours)\n",
    "\n",
    "    for c in cont.clusters:\n",
    "        # compute the center of the contour\n",
    "        M = cv2.moments(c)\n",
    "        cX = int(M[\"m10\"] / M[\"m00\"])\n",
    "        cY = int(M[\"m01\"] / M[\"m00\"])\n",
    "        # draw the contour and center of the shape on the image\n",
    "        #cv2.drawContours(plot_img, [c], -1, (0, 255, 0), 2)\n",
    "        cv2.circle(plot_img, (cX, cY), 2, (0, 0, 255), -1)\n",
    "        # cv2.putText(plot_img, f\"{cX},{cY}\", (cX - 20, cY - 20),\n",
    "        # cv2.FONT_HERSHEY_SIMPLEX, 0.35, (0, 255, 0), 1)\n",
    "\n",
    "        # cv2.putText(plot_img, f\"{cv2.contourArea(c)}\", (cX - 20, cY - 20),\n",
    "        # cv2.FONT_HERSHEY_SIMPLEX, 0.7, (0, 0, 255), 1)\n",
    "\n",
    "\n",
    "    if prev_point is pt:\n",
    "        idx += 1\n",
    "    else:\n",
    "        idx = 0\n",
    "    prev_point = pt\n",
    "\n",
    "\n",
    "    if idx >= 30:\n",
    "        message = 'LOCKED'\n",
    "        color = (0,255,0)\n",
    "    else:\n",
    "        message = 'SEARCHING'\n",
    "        color = (0,0,255)\n",
    "\n",
    "    cv2.putText(plot_img, \"TARGET:\", (25,25), cv2.FONT_HERSHEY_SIMPLEX, 0.75, (0,255,0), 2)\n",
    "    cv2.putText(plot_img, f\"{message}\", (125,25), cv2.FONT_HERSHEY_SIMPLEX, 0.75, color, 2)\n",
    "    cv2.putText(plot_img, f\"Found: {len(cont.singular)}\", (25,50), cv2.FONT_HERSHEY_SIMPLEX, 0.75, (0,255,0), 2)\n",
    "\n",
    "    #cv2.setWindowProperty('frame', cv2.WND_PROP_FULLSCREEN, cv2.WINDOW_FULLSCREEN)\n",
    "    cv2.imshow('frame',plot_img)\n",
    "    if cv2.waitKey(1) & 0xFF == ord('q'):\n",
    "        break\n",
    "\n",
    "cap.release()\n",
    "cv2.destroyAllWindows()"
   ]
  },
  {
   "cell_type": "code",
   "execution_count": 11,
   "metadata": {},
   "outputs": [
    {
     "data": {
      "text/plain": [
       "'0,{},DisableRobot();'"
      ]
     },
     "execution_count": 11,
     "metadata": {},
     "output_type": "execute_result"
    }
   ],
   "source": [
    "dash.DisableRobot()"
   ]
  },
  {
   "cell_type": "code",
   "execution_count": 22,
   "metadata": {},
   "outputs": [
    {
     "data": {
      "text/plain": [
       "'0,{},EnableRobot();'"
      ]
     },
     "execution_count": 22,
     "metadata": {},
     "output_type": "execute_result"
    }
   ],
   "source": [
    "dash.ClearError()\n",
    "dash.EnableRobot()"
   ]
  },
  {
   "cell_type": "code",
   "execution_count": 28,
   "metadata": {},
   "outputs": [
    {
     "data": {
      "text/plain": [
       "'0,{},JointMovJ(0.000000,0.000000,0.000000,0.000000);'"
      ]
     },
     "execution_count": 28,
     "metadata": {},
     "output_type": "execute_result"
    }
   ],
   "source": [
    "#centers_cuboids = cont.contour_centers(cont.singular)\n",
    "centers_cuboids = cont.contour_centers(cont.selected)\n",
    "\n",
    "dash.ClearError()\n",
    "dash.EnableRobot()\n",
    "\n",
    "utils.default_pos(move)\n",
    "for center in centers_cuboids:\n",
    "    X, Y, _ = tf_mtx @ (center[0], center[1], 1)\n",
    "    move.MovL(X, Y, -70,  0)\n",
    "    time.sleep(0.5)\n",
    "    move.MovL(X, Y, -91,  0)\n",
    "    time.sleep(0.5)\n",
    "    move.MovL(X, Y, -70,  0)\n",
    "    time.sleep(0.5)\n",
    "utils.default_pos(move)"
   ]
  },
  {
   "cell_type": "code",
   "execution_count": 15,
   "metadata": {},
   "outputs": [
    {
     "name": "stdout",
     "output_type": "stream",
     "text": [
      "Position saved!\n",
      "Position saved!\n",
      "Position saved!\n",
      "Position saved!\n",
      "Special key pressed: Key.esc\n"
     ]
    }
   ],
   "source": [
    "keys = utils.Keyboard(dash)\n",
    "keys.execute()\n",
    "xys = [(arr[0], arr[1]) for arr in keys.coords]"
   ]
  },
  {
   "cell_type": "code",
   "execution_count": 17,
   "metadata": {},
   "outputs": [],
   "source": [
    "robot_coor = utils.assign_corners(xys, reverse=True)"
   ]
  },
  {
   "cell_type": "code",
   "execution_count": 18,
   "metadata": {},
   "outputs": [],
   "source": [
    "mean_ux = np.mean([robot_coor['ul'][0], robot_coor['ur'][0]])\n",
    "mean_lx = np.mean([robot_coor['ll'][0], robot_coor['lr'][0]])\n",
    "\n",
    "mean_uy = np.mean([robot_coor['ur'][1], robot_coor['lr'][1]])\n",
    "mean_ly = np.mean([robot_coor['ll'][1], robot_coor['ul'][1]])"
   ]
  },
  {
   "cell_type": "code",
   "execution_count": 19,
   "metadata": {},
   "outputs": [],
   "source": [
    "well_plate_xs = np.linspace(mean_ux, mean_lx, 12)\n",
    "well_plate_ys = np.linspace(mean_uy, mean_ly, 8)"
   ]
  },
  {
   "cell_type": "code",
   "execution_count": 20,
   "metadata": {},
   "outputs": [
    {
     "data": {
      "text/plain": [
       "'0,{},JointMovJ(0.000000,0.000000,0.000000,0.000000);'"
      ]
     },
     "execution_count": 20,
     "metadata": {},
     "output_type": "execute_result"
    }
   ],
   "source": [
    "dash.ClearError()\n",
    "dash.EnableRobot()\n",
    "\n",
    "utils.default_pos(move)\n",
    "for x in well_plate_xs:\n",
    "    for y in well_plate_ys:\n",
    "        move.MovL(x, y, -70,  0)\n",
    "        time.sleep(0.15)\n",
    "        move.MovL(x, y, -80,  0)\n",
    "        time.sleep(0.15)\n",
    "        move.MovL(x, y, -70,  0)\n",
    "        time.sleep(0.15)\n",
    "\n",
    "utils.default_pos(move)"
   ]
  },
  {
   "cell_type": "code",
   "execution_count": 44,
   "metadata": {},
   "outputs": [],
   "source": [
    "well_plate_coords = np.concatenate(np.stack(np.meshgrid(well_plate_xs, well_plate_ys), axis = 2))"
   ]
  },
  {
   "cell_type": "code",
   "execution_count": 55,
   "metadata": {},
   "outputs": [
    {
     "data": {
      "text/plain": [
       "'0,{},JointMovJ(0.000000,0.000000,0.000000,0.000000);'"
      ]
     },
     "execution_count": 55,
     "metadata": {},
     "output_type": "execute_result"
    }
   ],
   "source": [
    "dash.ClearError()\n",
    "dash.EnableRobot()\n",
    "\n",
    "utils.default_pos(move)\n",
    "for idx, center in enumerate(centers_cuboids):\n",
    "    X, Y, _ = tf_mtx @ (center[0], center[1], 1)\n",
    "    move.MovL(X, Y, -70,  0)\n",
    "    time.sleep(0.5)\n",
    "    move.MovL(X, Y, -95,  0)\n",
    "    time.sleep(0.5)\n",
    "    move.MovL(X, Y, -70,  0)\n",
    "    time.sleep(0.5)\n",
    "    \n",
    "    x,y = well_plate_coords[idx]\n",
    "    move.MovL(x, y, -70,  0)\n",
    "    time.sleep(0.5)\n",
    "    move.MovL(x, y, -90,  0)\n",
    "    time.sleep(0.5)\n",
    "    move.MovL(x, y, -70,  0)\n",
    "    time.sleep(0.5)\n",
    "\n",
    "utils.default_pos(move)"
   ]
  }
 ],
 "metadata": {
  "kernelspec": {
   "display_name": "Python ('robot')",
   "language": "python",
   "name": "python3"
  },
  "language_info": {
   "codemirror_mode": {
    "name": "ipython",
    "version": 3
   },
   "file_extension": ".py",
   "mimetype": "text/x-python",
   "name": "python",
   "nbconvert_exporter": "python",
   "pygments_lexer": "ipython3",
   "version": "3.9.12"
  },
  "orig_nbformat": 4,
  "vscode": {
   "interpreter": {
    "hash": "d173b489ab521b9601af30cf6d3a545463870cf66e6f35e203379ef2b30a8bb1"
   }
  }
 },
 "nbformat": 4,
 "nbformat_minor": 2
}
