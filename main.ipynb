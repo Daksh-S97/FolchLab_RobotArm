{
 "cells": [
  {
   "cell_type": "code",
   "execution_count": 1,
   "metadata": {},
   "outputs": [],
   "source": [
    "from deps.dobot_api import DobotApiDashboard, DobotApiMove\n",
    "from deps import utils\n",
    "from deps import cv_core\n",
    "import numpy as np\n",
    "import matplotlib.pyplot as plt\n",
    "import cv2\n",
    "from pynput import keyboard\n",
    "\n",
    "#Connect to robot sockets. \n",
    "dash = DobotApiDashboard('192.168.1.6', 29999)\n",
    "move = DobotApiMove('192.168.1.6', 30003)\n",
    "\n",
    "keys = utils.Keyboard(dash)\n",
    "cont = cv_core.Contours()\n",
    "\n",
    "\n"
   ]
  },
  {
   "cell_type": "code",
   "execution_count": 2,
   "metadata": {},
   "outputs": [
    {
     "data": {
      "text/plain": [
       "'0,{},EnableRobot();'"
      ]
     },
     "execution_count": 2,
     "metadata": {},
     "output_type": "execute_result"
    }
   ],
   "source": [
    "dash.ClearError()\n",
    "dash.EnableRobot()"
   ]
  },
  {
   "cell_type": "code",
   "execution_count": 7,
   "metadata": {},
   "outputs": [
    {
     "name": "stdout",
     "output_type": "stream",
     "text": [
      "Position saved!\n",
      "Position saved!\n",
      "Position saved!\n",
      "Position saved!\n",
      "Special key pressed: Key.esc\n"
     ]
    }
   ],
   "source": [
    "keys.execute()"
   ]
  },
  {
   "cell_type": "code",
   "execution_count": 8,
   "metadata": {},
   "outputs": [
    {
     "name": "stdout",
     "output_type": "stream",
     "text": [
      "Detecting Anchors\n"
     ]
    },
    {
     "data": {
      "text/plain": [
       "'0,{},JointMovJ(0.000000,0.000000,0.000000,0.000000);'"
      ]
     },
     "execution_count": 8,
     "metadata": {},
     "output_type": "execute_result"
    }
   ],
   "source": [
    "print(\"Detecting Anchors\")\n",
    "while True:\n",
    "    cap = cv2.VideoCapture(0)\n",
    "    cap = cv_core.set_res(cap, (1024, 768))\n",
    "    centers = cont.wait_for_anchors(cap, show = True)\n",
    "    cap.release()\n",
    "    if len(centers) == 4:\n",
    "        break\n",
    "\n",
    "\n",
    "xys = [(arr[0], arr[1]) for arr in keys.coords]\n",
    "pix_coor = utils.assign_corners(centers)\n",
    "robot_coor = utils.assign_corners(xys, reverse=True)\n",
    "\n",
    "\n",
    "features_mm_to_pixels_dict = {}\n",
    "for key, value in robot_coor.items():\n",
    "    features_mm_to_pixels_dict[value] = pix_coor[key]\n",
    "\n",
    "\n",
    "tf_mtx = cv_core.compute_tf_mtx(features_mm_to_pixels_dict)"
   ]
  },
  {
   "cell_type": "code",
   "execution_count": null,
   "metadata": {},
   "outputs": [],
   "source": [
    "cap = cv2.VideoCapture(0)\n",
    "cap = cv_core.set_res(cap, (1024, 768))\n",
    "#out = cv2.VideoWriter('out.avi',cv2.VideoWriter_fourcc('M','J','P','G'), 25, (640,480))\n",
    "cont = cv_core.Contours()\n",
    "\n",
    "idx = 0\n",
    "prev_point = (0,0,0)\n",
    "while(True):\n",
    "    ret, frame = cap.read()\n",
    "\n",
    "    pt, sorted_contours = cont.find_contours(frame, 3)\n",
    "    a,b,r = pt\n",
    "    plot_img = frame.copy()\n",
    "    cv2.circle(plot_img, (a, b), r, (0, 255, 0), 2)\n",
    "    cv2.circle(plot_img, (a, b), 1, (0, 0, 255), 3)\n",
    "    #with_contours = cv2.drawContours(plot_img, sorted_contours, -1,(0,255, 0),2)\n",
    "\n",
    "    for c in sorted_contours:\n",
    "        # compute the center of the contour\n",
    "        M = cv2.moments(c)\n",
    "        cX = int(M[\"m10\"] / M[\"m00\"])\n",
    "        cY = int(M[\"m01\"] / M[\"m00\"])\n",
    "        # draw the contour and center of the shape on the image\n",
    "        #cv2.drawContours(plot_img, [c], -1, (0, 255, 0), 2)\n",
    "        cv2.circle(plot_img, (cX, cY), 2, (0, 0, 255), -1)\n",
    "        cv2.putText(plot_img, f\"{cX},{cY}\", (cX - 20, cY - 20),\n",
    "        cv2.FONT_HERSHEY_SIMPLEX, 0.35, (0, 255, 0), 1)\n",
    "    #out.write(with_contours)\n",
    "\n",
    "    if prev_point is pt:\n",
    "        idx += 1\n",
    "    else:\n",
    "        idx = 0\n",
    "    prev_point = pt\n",
    "\n",
    "\n",
    "    if idx >= 30:\n",
    "        message = 'LOCKED'\n",
    "        color = (0,255,0)\n",
    "    else:\n",
    "        message = 'SEARCHING'\n",
    "        color = (0,0,255)\n",
    "\n",
    "    cv2.rectangle(plot_img, (15,10), (200, 30), (0, 0, 0), -1)\n",
    "    cv2.putText(plot_img, \"TARGET:\", (25,25), cv2.FONT_HERSHEY_SIMPLEX, 0.5, (0,255,0), 1)\n",
    "    cv2.putText(plot_img, f\"{message}\", (100,25), cv2.FONT_HERSHEY_SIMPLEX, 0.5, color, 1)\n",
    "\n",
    "\n",
    "    cv2.imshow('frame',plot_img)\n",
    "    if cv2.waitKey(1) & 0xFF == ord('q'):\n",
    "        break\n",
    "\n",
    "cap.release()\n",
    "#out.release()\n",
    "cv2.destroyAllWindows()\n",
    "\n",
    "centers_cuboids = cont.contour_centers(sorted_contours)\n",
    "\n",
    "dash.ClearError()\n",
    "dash.EnableRobot()\n",
    "\n",
    "utils.default_pos(move)\n",
    "for center in centers_cuboids:\n",
    "    X, Y, _ = tf_mtx @ (center[0], center[1], 1)\n",
    "    move.MovL(X, Y, -70,  0)\n",
    "    move.MovL(X, Y, -90,  0)\n",
    "    move.MovL(X, Y, -70,  0)\n",
    "utils.default_pos(move)\n",
    "\n",
    "#dash.DisableRobot()"
   ]
  },
  {
   "cell_type": "code",
   "execution_count": 4,
   "metadata": {},
   "outputs": [
    {
     "name": "stdout",
     "output_type": "stream",
     "text": [
      "\n",
      "|CODE: 50|\n",
      "__________________________________________________\n",
      "Possible reasons from ALARM SERVO:\n",
      "Invalid velocity or acceleration values.\n",
      "__________________________________________________\n",
      "Possible reasons from ALARM CONTROLLER:\n",
      "Joint3 overspeed.\n"
     ]
    }
   ],
   "source": [
    "utils.report_error(dash)"
   ]
  },
  {
   "cell_type": "code",
   "execution_count": 13,
   "metadata": {},
   "outputs": [
    {
     "data": {
      "text/plain": [
       "'0,{},EnableRobot();'"
      ]
     },
     "execution_count": 13,
     "metadata": {},
     "output_type": "execute_result"
    }
   ],
   "source": [
    "dash.ClearError()\n",
    "dash.EnableRobot()"
   ]
  }
 ],
 "metadata": {
  "kernelspec": {
   "display_name": "Python ('robot')",
   "language": "python",
   "name": "python3"
  },
  "language_info": {
   "codemirror_mode": {
    "name": "ipython",
    "version": 3
   },
   "file_extension": ".py",
   "mimetype": "text/x-python",
   "name": "python",
   "nbconvert_exporter": "python",
   "pygments_lexer": "ipython3",
   "version": "3.9.7"
  },
  "orig_nbformat": 4,
  "vscode": {
   "interpreter": {
    "hash": "d173b489ab521b9601af30cf6d3a545463870cf66e6f35e203379ef2b30a8bb1"
   }
  }
 },
 "nbformat": 4,
 "nbformat_minor": 2
}
