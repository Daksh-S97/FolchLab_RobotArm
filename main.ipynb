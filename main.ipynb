{
 "cells": [
  {
   "cell_type": "code",
   "execution_count": 1,
   "metadata": {},
   "outputs": [],
   "source": [
    "from deps.dobot_api import DobotApiDashboard, DobotApiMove\n",
    "from deps import utils\n",
    "from deps import cv_core\n",
    "import numpy as np\n",
    "import matplotlib.pyplot as plt\n",
    "import cv2\n",
    "from pynput import keyboard\n",
    "import time\n",
    "import ipyparallel as ipp"
   ]
  },
  {
   "cell_type": "code",
   "execution_count": 6,
   "metadata": {},
   "outputs": [
    {
     "name": "stdout",
     "output_type": "stream",
     "text": [
      "Starting 1 engines with <class 'ipyparallel.cluster.launcher.LocalEngineSetLauncher'>\n",
      "100%|██████████| 1/1 [00:05<00:00,  5.52s/engine]\n"
     ]
    }
   ],
   "source": [
    "rc = ipp.Cluster(n=1).start_and_connect_sync()\n",
    "e0 = rc[0]\n",
    "e0.block = False\n",
    "e0.activate('0')"
   ]
  },
  {
   "cell_type": "code",
   "execution_count": null,
   "metadata": {},
   "outputs": [],
   "source": [
    "def sort_anchors(inp):\n",
    "    maxx = sorted(np.squeeze(inp), key=lambda x: x[0])\n",
    "\n",
    "    left = maxx[:2]\n",
    "    right = maxx[-2:]\n",
    "\n",
    "    l_sorty = sorted(left, key=lambda x: x[1])\n",
    "    r_sorty = sorted(right, key=lambda x: x[1])\n",
    "\n",
    "    return np.vstack((l_sorty, r_sorty))"
   ]
  },
  {
   "cell_type": "code",
   "execution_count": 15,
   "metadata": {},
   "outputs": [],
   "source": [
    "dash = DobotApiDashboard('192.168.1.6', 29999)\n",
    "move = DobotApiMove('192.168.1.6', 30003)\n",
    "keys = utils.Keyboard(dash)"
   ]
  },
  {
   "cell_type": "code",
   "execution_count": 16,
   "metadata": {},
   "outputs": [
    {
     "data": {
      "text/plain": [
       "'0,{},EnableRobot();'"
      ]
     },
     "execution_count": 16,
     "metadata": {},
     "output_type": "execute_result"
    }
   ],
   "source": [
    "dash.ClearError()\n",
    "dash.EnableRobot()"
   ]
  },
  {
   "cell_type": "code",
   "execution_count": null,
   "metadata": {},
   "outputs": [],
   "source": [
    "utils.report_mode(dash)\n",
    "utils.report_error(dash)"
   ]
  },
  {
   "cell_type": "code",
   "execution_count": null,
   "metadata": {},
   "outputs": [],
   "source": [
    "dash.DisableRobot()"
   ]
  },
  {
   "cell_type": "code",
   "execution_count": null,
   "metadata": {},
   "outputs": [],
   "source": [
    "utils.get_pose(dash)"
   ]
  },
  {
   "cell_type": "code",
   "execution_count": null,
   "metadata": {},
   "outputs": [],
   "source": [
    "keys = utils.Keyboard(dash)\n",
    "keys.execute()"
   ]
  },
  {
   "cell_type": "code",
   "execution_count": 14,
   "metadata": {},
   "outputs": [
    {
     "name": "stdout",
     "output_type": "stream",
     "text": [
      "Special key pressed: Key.left\n",
      "Special key pressed: Key.left\n",
      "Special key pressed: Key.left\n",
      "Special key pressed: Key.left\n",
      "Special key pressed: Key.left\n",
      "Special key pressed: Key.left\n",
      "Special key pressed: Key.left\n",
      "Special key pressed: Key.left\n",
      "Special key pressed: Key.left\n",
      "Special key pressed: Key.left\n",
      "Special key pressed: Key.left\n",
      "Special key pressed: Key.left\n",
      "Special key pressed: Key.left\n",
      "Special key pressed: Key.left\n",
      "Special key pressed: Key.left\n",
      "Special key pressed: Key.left\n",
      "Special key pressed: Key.left\n",
      "Special key pressed: Key.left\n",
      "Special key pressed: Key.left\n",
      "Special key pressed: Key.left\n",
      "Special key pressed: Key.left\n",
      "Special key pressed: Key.left\n",
      "Special key pressed: Key.left\n",
      "Special key pressed: Key.left\n",
      "Special key pressed: Key.left\n",
      "Special key pressed: Key.left\n",
      "Special key pressed: Key.left\n",
      "Special key pressed: Key.left\n",
      "Special key pressed: Key.left\n",
      "Special key pressed: Key.left\n",
      "Special key pressed: Key.left\n",
      "Special key pressed: Key.left\n",
      "Special key pressed: Key.left\n",
      "Special key pressed: Key.left\n",
      "Special key pressed: Key.esc\n",
      "wow\n"
     ]
    }
   ],
   "source": [
    "manmove = utils.ManualMove(move, dash)\n",
    "manmove.execute()"
   ]
  },
  {
   "cell_type": "code",
   "execution_count": 18,
   "metadata": {},
   "outputs": [],
   "source": [
    "w = 1600\n",
    "h = 1200\n",
    "xys = [(arr[0], arr[1]) for arr in coords]\n",
    "robot_coor = utils.assign_corners(xys, reverse=True)\n",
    "pix_coor = utils.assign_corners([(w/4, h/4), (3*w/4, h/4), (w/4, 3*h/4), (3*w/4, 3*h/4)])"
   ]
  },
  {
   "cell_type": "code",
   "execution_count": 8,
   "metadata": {},
   "outputs": [
    {
     "data": {
      "text/plain": [
       "{'ul': (250.834315, -7.259071),\n",
       " 'ur': (256.516215, 45.54948),\n",
       " 'lr': (297.274674, 46.244652),\n",
       " 'll': (292.467159, -7.257414)}"
      ]
     },
     "execution_count": 8,
     "metadata": {},
     "output_type": "execute_result"
    }
   ],
   "source": [
    "robot_coor"
   ]
  },
  {
   "cell_type": "code",
   "execution_count": 19,
   "metadata": {},
   "outputs": [],
   "source": [
    "features_mm_to_pixels_dict = {}\n",
    "for key, value in robot_coor.items():\n",
    "    features_mm_to_pixels_dict[value] = pix_coor[key]\n",
    "\n",
    "\n",
    "tf_mtx = cv_core.compute_tf_mtx(features_mm_to_pixels_dict)"
   ]
  },
  {
   "cell_type": "code",
   "execution_count": null,
   "metadata": {},
   "outputs": [],
   "source": [
    "print(np.array(robot_coor['ul']) - np.array(robot_coor['ur']))\n",
    "print(np.array(robot_coor['ul']) - np.array(robot_coor['ll']))\n",
    "print(np.array(robot_coor['ur']) - np.array(robot_coor['lr']))\n",
    "print(np.array(robot_coor['lr']) - np.array(robot_coor['ll']))"
   ]
  },
  {
   "cell_type": "markdown",
   "metadata": {},
   "source": [
    "## Get the anchors coordinates:"
   ]
  },
  {
   "cell_type": "code",
   "execution_count": null,
   "metadata": {},
   "outputs": [],
   "source": [
    "cap = cv2.VideoCapture(0)\n",
    "cap = cv_core.set_res(cap, (1600, 1200))\n",
    "cv2.namedWindow('frame',  cv2.WINDOW_NORMAL)\n",
    "cv2.resizeWindow('frame', 1348, 1011)\n",
    "\n",
    "cameraMatrix = np.load('./cam_matrices/cam_mtx.npy')\n",
    "dist = np.load('./cam_matrices/dist.npy')\n",
    "newCameraMatrix = np.load('./cam_matrices/newcam_mtx.npy')\n",
    "\n",
    "all_anchors = []\n",
    "\n",
    "idx = 1\n",
    "while True:\n",
    "    ret, frame = cap.read()\n",
    "    frame = cv2.undistort(frame, cameraMatrix, dist, None, newCameraMatrix)\n",
    "    \n",
    "    gray = cv2.cvtColor(frame, cv2.COLOR_BGR2GRAY)\n",
    "    detected_circles = cv2.HoughCircles(image=gray,\n",
    "                                        method=cv2.HOUGH_GRADIENT,\n",
    "                                        dp=1,\n",
    "                                        minDist=30,\n",
    "                                        param1=100,\n",
    "                                        param2=40,\n",
    "                                        minRadius=20,\n",
    "                                        maxRadius=40\n",
    "                                        )\n",
    "\n",
    "\n",
    "    if detected_circles is not None:\n",
    "        plot_img = frame.copy()\n",
    "        circles = np.uint16(np.around(detected_circles))\n",
    "        if np.squeeze(circles).shape[0] == 4:\n",
    "            all_anchors.append(sort_anchors(circles))\n",
    "\n",
    "        for i in circles[0,:]:\n",
    "            center = (i[0], i[1])\n",
    "            cv2.circle(plot_img, center, 1, (255, 0 ,0), 3)\n",
    "            radius = i[2]\n",
    "            cv2.circle(plot_img, center, radius, (0, 255 ,0), 3)\n",
    "\n",
    "        cv2.putText(plot_img, f\"Frame {idx}\", (25,25), cv2.FONT_HERSHEY_SIMPLEX, 0.75, (0,255,0), 2)\n",
    "\n",
    "        # for i in all_anchors[0]:\n",
    "        #     center = (int(i[0]), int(i[1]))\n",
    "        #     cv2.circle(plot_img, center, 1, (0, 0 ,255), 3)\n",
    "        #     radius = i[2]\n",
    "        #     cv2.circle(plot_img, center, int(radius), (0, 255 ,0), 3)\n",
    "    idx += 1\n",
    "    cv2.imshow('frame', plot_img)\n",
    "    if cv2.waitKey(1) & 0xFF == ord('q'):\n",
    "        break\n",
    "\n",
    "cap.release()\n",
    "\n",
    "plot_img = frame.copy()\n",
    "means = np.mean(all_anchors, axis = 0)\n",
    "for i in means:\n",
    "    center = (int(i[0]), int(i[1]))\n",
    "    cv2.circle(plot_img, center, 1, (0, 0 ,255), 3)\n",
    "    radius = i[2]\n",
    "    cv2.circle(plot_img, center, int(radius), (0, 0, 255), 3)\n",
    "cv2.putText(plot_img, \"Captured:\", (25,25), cv2.FONT_HERSHEY_SIMPLEX, 0.75, (0,255,0), 2)\n",
    "cv2.imshow('frame', plot_img)\n",
    "cv2.waitKey(0)\n",
    "cv2.destroyAllWindows()"
   ]
  },
  {
   "cell_type": "code",
   "execution_count": null,
   "metadata": {},
   "outputs": [],
   "source": [
    "# print(\"Detecting Anchors\")\n",
    "# while True:\n",
    "#     cap = cv2.VideoCapture(0)\n",
    "#     cap = cv_core.set_res(cap, (1600, 1200))\n",
    "#     centers = cont.wait_for_anchors(cap, show = True)\n",
    "#     cap.release()\n",
    "#     if len(centers) == 4:\n",
    "#         break\n",
    "\n",
    "centers = means[:, :-1]\n",
    "xys = [(arr[0], arr[1]) for arr in keys.coords]\n",
    "pix_coor = utils.assign_corners(centers)\n",
    "robot_coor = utils.assign_corners(xys, reverse=True)\n",
    "\n",
    "\n",
    "features_mm_to_pixels_dict = {}\n",
    "for key, value in robot_coor.items():\n",
    "    features_mm_to_pixels_dict[value] = pix_coor[key]\n",
    "\n",
    "\n",
    "tf_mtx = cv_core.compute_tf_mtx(features_mm_to_pixels_dict)"
   ]
  },
  {
   "cell_type": "code",
   "execution_count": 10,
   "metadata": {},
   "outputs": [
    {
     "data": {
      "text/plain": [
       "{(250.834315, -7.259071): (400.0, 300.0),\n",
       " (256.516215, 45.54948): (1200.0, 300.0),\n",
       " (297.274674, 46.244652): (1200.0, 900.0),\n",
       " (292.467159, -7.257414): (400.0, 900.0)}"
      ]
     },
     "execution_count": 10,
     "metadata": {},
     "output_type": "execute_result"
    }
   ],
   "source": [
    "features_mm_to_pixels_dict"
   ]
  },
  {
   "cell_type": "code",
   "execution_count": 45,
   "metadata": {},
   "outputs": [
    {
     "name": "stdout",
     "output_type": "stream",
     "text": [
      "X = 338.326466\n",
      "Y = 38.617479\n",
      "Z = -73.43631\n",
      "r = -1.208932\n"
     ]
    },
    {
     "data": {
      "text/plain": [
       "array([338.326466,  38.617479, -73.43631 ,  -1.208932])"
      ]
     },
     "execution_count": 45,
     "metadata": {},
     "output_type": "execute_result"
    }
   ],
   "source": [
    "utils.get_pose(dash)"
   ]
  },
  {
   "cell_type": "code",
   "execution_count": 12,
   "metadata": {},
   "outputs": [
    {
     "name": "stderr",
     "output_type": "stream",
     "text": [
      "[ WARN:0@2910.763] global /opt/conda/conda-bld/opencv-suite_1656606573658/work/modules/videoio/src/cap_gstreamer.cpp (862) isPipelinePlaying OpenCV | GStreamer warning: GStreamer: pipeline have not been created\n"
     ]
    },
    {
     "name": "stdout",
     "output_type": "stream",
     "text": [
      "[790 572 444]\n",
      "<class 'numpy.ndarray'>\n",
      "[790 572 444]\n",
      "<class 'numpy.ndarray'>\n",
      "[790 572 444]\n",
      "<class 'numpy.ndarray'>\n",
      "[790 572 444]\n",
      "<class 'numpy.ndarray'>\n",
      "[790 572 444]\n",
      "<class 'numpy.ndarray'>\n",
      "[783 574 438]\n",
      "<class 'numpy.ndarray'>\n",
      "[783 574 438]\n",
      "<class 'numpy.ndarray'>\n",
      "[783 574 438]\n",
      "<class 'numpy.ndarray'>\n",
      "[783 574 438]\n",
      "<class 'numpy.ndarray'>\n",
      "[783 574 438]\n",
      "<class 'numpy.ndarray'>\n",
      "[783 574 438]\n",
      "<class 'numpy.ndarray'>\n",
      "[783 574 438]\n",
      "<class 'numpy.ndarray'>\n",
      "[783 574 438]\n",
      "<class 'numpy.ndarray'>\n",
      "[783 574 438]\n",
      "<class 'numpy.ndarray'>\n",
      "[783 574 438]\n",
      "<class 'numpy.ndarray'>\n",
      "[783 574 438]\n",
      "<class 'numpy.ndarray'>\n",
      "[783 574 438]\n",
      "<class 'numpy.ndarray'>\n",
      "[783 574 438]\n",
      "<class 'numpy.ndarray'>\n",
      "[783 574 438]\n",
      "<class 'numpy.ndarray'>\n",
      "[783 574 438]\n",
      "<class 'numpy.ndarray'>\n",
      "[783 574 438]\n",
      "<class 'numpy.ndarray'>\n",
      "[783 574 438]\n",
      "<class 'numpy.ndarray'>\n",
      "[783 574 438]\n",
      "<class 'numpy.ndarray'>\n",
      "[783 574 438]\n",
      "<class 'numpy.ndarray'>\n",
      "[796 569 394]\n",
      "<class 'numpy.ndarray'>\n",
      "[796 569 394]\n",
      "<class 'numpy.ndarray'>\n",
      "[796 569 394]\n",
      "<class 'numpy.ndarray'>\n",
      "[796 569 394]\n",
      "<class 'numpy.ndarray'>\n",
      "[796 569 394]\n",
      "<class 'numpy.ndarray'>\n",
      "[796 569 394]\n",
      "<class 'numpy.ndarray'>\n",
      "[796 569 394]\n",
      "<class 'numpy.ndarray'>\n",
      "[796 569 394]\n",
      "<class 'numpy.ndarray'>\n",
      "[796 569 394]\n",
      "<class 'numpy.ndarray'>\n",
      "[796 569 394]\n",
      "<class 'numpy.ndarray'>\n",
      "[796 569 394]\n",
      "<class 'numpy.ndarray'>\n",
      "[796 569 394]\n",
      "<class 'numpy.ndarray'>\n",
      "[796 569 394]\n",
      "<class 'numpy.ndarray'>\n",
      "[796 569 394]\n",
      "<class 'numpy.ndarray'>\n",
      "[796 569 394]\n",
      "<class 'numpy.ndarray'>\n",
      "[796 569 394]\n",
      "<class 'numpy.ndarray'>\n",
      "[796 569 394]\n",
      "<class 'numpy.ndarray'>\n",
      "[796 569 394]\n",
      "<class 'numpy.ndarray'>\n",
      "[796 569 394]\n",
      "<class 'numpy.ndarray'>\n",
      "[796 569 394]\n",
      "<class 'numpy.ndarray'>\n",
      "[796 569 394]\n",
      "<class 'numpy.ndarray'>\n",
      "[796 569 394]\n",
      "<class 'numpy.ndarray'>\n",
      "[796 569 394]\n",
      "<class 'numpy.ndarray'>\n",
      "[796 569 394]\n",
      "<class 'numpy.ndarray'>\n",
      "[796 569 394]\n",
      "<class 'numpy.ndarray'>\n",
      "[796 569 394]\n",
      "<class 'numpy.ndarray'>\n",
      "[796 569 394]\n",
      "<class 'numpy.ndarray'>\n",
      "[796 569 394]\n",
      "<class 'numpy.ndarray'>\n",
      "[796 569 394]\n",
      "<class 'numpy.ndarray'>\n",
      "[796 569 394]\n",
      "<class 'numpy.ndarray'>\n",
      "[796 569 394]\n",
      "<class 'numpy.ndarray'>\n",
      "[796 569 394]\n",
      "<class 'numpy.ndarray'>\n",
      "[796 569 394]\n",
      "<class 'numpy.ndarray'>\n",
      "[796 569 394]\n",
      "<class 'numpy.ndarray'>\n",
      "[796 569 394]\n",
      "<class 'numpy.ndarray'>\n"
     ]
    }
   ],
   "source": [
    "cont = cv_core.Contours()\n",
    "\n",
    "def on_change(val): pass\n",
    "\n",
    "offset = 40\n",
    "cap = cv2.VideoCapture(0)\n",
    "cap = cv_core.set_res(cap, cv_core.camera_res_dict['1200'])\n",
    "\n",
    "cameraMatrix = np.load('./cam_matrices/cam_mtx.npy')\n",
    "dist = np.load('./cam_matrices/dist.npy')\n",
    "newCameraMatrix = np.load('./cam_matrices/newcam_mtx.npy')\n",
    "\n",
    "cv2.namedWindow('frame',  cv2.WINDOW_NORMAL)\n",
    "cv2.resizeWindow('frame', 1348, 1011)\n",
    "cv2.createTrackbar('Manual Lock', 'frame', 0, 1, on_change)\n",
    "cv2.createTrackbar('Mask Offset', 'frame', offset, 150, on_change)\n",
    "cv2.setMouseCallback('frame', cont.mousecallback)\n",
    "\n",
    "idx = 0\n",
    "prev_point = (0,0,0)\n",
    "while(True):\n",
    "    ret, frame = cap.read()\n",
    "    #frame = cv2.undistort(frame, cameraMatrix, dist, None, newCameraMatrix)\n",
    "    val = cv2.getTrackbarPos('Manual Lock', 'frame')\n",
    "    offset = cv2.getTrackbarPos('Mask Offset', 'frame')\n",
    "    if val == 1:\n",
    "        cont.locked = True\n",
    "    else:\n",
    "        cont.locked = False\n",
    "\n",
    "    if cont.best_circ is None:\n",
    "        while cont.best_circ is None:\n",
    "            pt = cont.find_contours(frame, 10, offset)\n",
    "    else:\n",
    "        pt = cont.find_contours(frame, 10, offset)\n",
    "    print(pt)\n",
    "    print(type(pt))\n",
    "    if pt is None:\n",
    "        pt = (800, 600, 300)\n",
    "        \n",
    "    a,b,r = pt\n",
    "    plot_img = frame.copy()\n",
    "    cv2.circle(plot_img, (a, b), r, (3, 162, 255), 2)\n",
    "    cv2.circle(plot_img, (a, b), 1, (0, 0, 255), 3)\n",
    "    cv2.circle(plot_img, (a, b), r - offset, (0, 255, 0), 2)\n",
    "    cv2.circle(plot_img, cont.big_circ[:2], cont.big_circ[2], (0, 0, 255), 2)\n",
    "    cv2.putText(plot_img, f\"{cont.big_circ[2]*2}px = 60mm\", (cont.big_circ[0]-25, cont.big_circ[1] - cont.big_circ[2] - 10),\n",
    "        cv2.FONT_HERSHEY_SIMPLEX, 0.75, (0, 0, 255), 2)\n",
    "    \n",
    "    cv2.drawContours(plot_img, cont.singular, -1,(0,255, 0),2)\n",
    "    cv2.drawContours(plot_img, cont.clusters, -1,(0,0,255),2)\n",
    "\n",
    "    if cont.selected:\n",
    "        cv2.drawContours(plot_img, cont.selected, -1,(255,0,0),2)\n",
    "\n",
    "    for c in cont.singular:\n",
    "        # compute the center of the contour\n",
    "        M = cv2.moments(c)\n",
    "        cX = int(M[\"m10\"] / M[\"m00\"])\n",
    "        cY = int(M[\"m01\"] / M[\"m00\"])\n",
    "        # draw the contour and center of the shape on the image\n",
    "        #cv2.drawContours(plot_img, [c], -1, (0, 255, 0), 2)\n",
    "        cv2.circle(plot_img, (cX, cY), 2, (0, 0, 255), -1)\n",
    "        # cv2.putText(plot_img, f\"{cX},{cY}\", (cX - 20, cY - 20),\n",
    "        # cv2.FONT_HERSHEY_SIMPLEX, 0.5, (0, 255, 0), 2)\n",
    "\n",
    "        cv2.putText(plot_img, f\"{cv2.contourArea(c)}\", (cX - 20, cY - 20),\n",
    "        cv2.FONT_HERSHEY_SIMPLEX, 0.7, (0, 255, 0), 1)\n",
    "    #out.write(with_contours)\n",
    "\n",
    "    for c in cont.clusters:\n",
    "        # compute the center of the contour\n",
    "        M = cv2.moments(c)\n",
    "        cX = int(M[\"m10\"] / M[\"m00\"])\n",
    "        cY = int(M[\"m01\"] / M[\"m00\"])\n",
    "        # draw the contour and center of the shape on the image\n",
    "        #cv2.drawContours(plot_img, [c], -1, (0, 255, 0), 2)\n",
    "        cv2.circle(plot_img, (cX, cY), 2, (0, 0, 255), -1)\n",
    "        # cv2.putText(plot_img, f\"{cX},{cY}\", (cX - 20, cY - 20),\n",
    "        # cv2.FONT_HERSHEY_SIMPLEX, 0.35, (0, 255, 0), 1)\n",
    "\n",
    "        # cv2.putText(plot_img, f\"{cv2.contourArea(c)}\", (cX - 20, cY - 20),\n",
    "        # cv2.FONT_HERSHEY_SIMPLEX, 0.7, (0, 0, 255), 1)\n",
    "\n",
    "\n",
    "    if prev_point is pt:\n",
    "        idx += 1\n",
    "    else:\n",
    "        idx = 0\n",
    "    prev_point = pt\n",
    "\n",
    "\n",
    "    if idx >= 30:\n",
    "        message = 'LOCKED'\n",
    "        color = (0,255,0)\n",
    "    else:\n",
    "        message = 'SEARCHING'\n",
    "        color = (0,0,255)\n",
    "\n",
    "    cv2.putText(plot_img, \"TARGET:\", (25,25), cv2.FONT_HERSHEY_SIMPLEX, 0.75, (0,255,0), 2)\n",
    "    cv2.putText(plot_img, f\"{message}\", (125,25), cv2.FONT_HERSHEY_SIMPLEX, 0.75, color, 2)\n",
    "    cv2.putText(plot_img, f\"Found: {len(cont.singular)}\", (25,50), cv2.FONT_HERSHEY_SIMPLEX, 0.75, (0,255,0), 2)\n",
    "\n",
    "    #cv2.setWindowProperty('frame', cv2.WND_PROP_FULLSCREEN, cv2.WINDOW_FULLSCREEN)\n",
    "    cv2.imshow('frame',plot_img)\n",
    "    if cv2.waitKey(1) & 0xFF == ord('q'):\n",
    "        break\n",
    "\n",
    "cap.release()\n",
    "cv2.destroyAllWindows()"
   ]
  },
  {
   "cell_type": "code",
   "execution_count": 72,
   "metadata": {},
   "outputs": [
    {
     "data": {
      "text/plain": [
       "'0,{},DisableRobot();'"
      ]
     },
     "execution_count": 72,
     "metadata": {},
     "output_type": "execute_result"
    }
   ],
   "source": [
    "dash.DisableRobot()"
   ]
  },
  {
   "cell_type": "code",
   "execution_count": 14,
   "metadata": {},
   "outputs": [
    {
     "ename": "NameError",
     "evalue": "name 'dash' is not defined",
     "output_type": "error",
     "traceback": [
      "\u001b[0;31m---------------------------------------------------------------------------\u001b[0m",
      "\u001b[0;31mNameError\u001b[0m                                 Traceback (most recent call last)",
      "\u001b[1;32m/home/dobot/github/FolchLab_RobotArm/main.ipynb Cell 22\u001b[0m in \u001b[0;36m<cell line: 1>\u001b[0;34m()\u001b[0m\n\u001b[0;32m----> <a href='vscode-notebook-cell:/home/dobot/github/FolchLab_RobotArm/main.ipynb#X30sZmlsZQ%3D%3D?line=0'>1</a>\u001b[0m dash\u001b[39m.\u001b[39mClearError()\n\u001b[1;32m      <a href='vscode-notebook-cell:/home/dobot/github/FolchLab_RobotArm/main.ipynb#X30sZmlsZQ%3D%3D?line=1'>2</a>\u001b[0m dash\u001b[39m.\u001b[39mEnableRobot()\n",
      "\u001b[0;31mNameError\u001b[0m: name 'dash' is not defined"
     ]
    }
   ],
   "source": [
    "dash.ClearError()\n",
    "dash.EnableRobot()"
   ]
  },
  {
   "cell_type": "code",
   "execution_count": 70,
   "metadata": {},
   "outputs": [
    {
     "data": {
      "text/plain": [
       "'0,{},MoveJog(Z+);'"
      ]
     },
     "execution_count": 70,
     "metadata": {},
     "output_type": "execute_result"
    }
   ],
   "source": [
    "move.MoveJog('Z+')"
   ]
  },
  {
   "cell_type": "code",
   "execution_count": 71,
   "metadata": {},
   "outputs": [
    {
     "data": {
      "text/plain": [
       "'0,{},ResetRobot();'"
      ]
     },
     "execution_count": 71,
     "metadata": {},
     "output_type": "execute_result"
    }
   ],
   "source": [
    "dash.ResetRobot()"
   ]
  },
  {
   "cell_type": "code",
   "execution_count": 20,
   "metadata": {},
   "outputs": [],
   "source": [
    "#centers_cuboids = cont.contour_centers(cont.singular)\n",
    "centers_cuboids = cont.contour_centers(cont.selected)\n",
    "\n",
    "dash.ClearError()\n",
    "dash.EnableRobot()\n",
    "\n",
    "#utils.default_pos(move)\n",
    "for center in centers_cuboids:\n",
    "    X, Y, _ = tf_mtx @ (center[0], center[1], 1)\n",
    "    move.MovL(X+3.16, Y+0.32, -97.593536,  0)\n",
    "\n",
    "    # move.MovL(X, Y, -91,  0)\n",
    "    # time.sleep(0.5)\n",
    "    break\n",
    "    move.MovL(X, Y, -70,  0)\n",
    "\n",
    "#utils.default_pos(move)"
   ]
  },
  {
   "cell_type": "code",
   "execution_count": 58,
   "metadata": {},
   "outputs": [
    {
     "name": "stdout",
     "output_type": "stream",
     "text": [
      "Special key pressed: Key.down\n",
      "Special key pressed: Key.down\n",
      "Special key pressed: Key.right\n",
      "Special key pressed: Key.left\n",
      "Special key pressed: Key.right\n",
      "Special key pressed: Key.left\n",
      "Special key pressed: Key.left\n",
      "Special key pressed: Key.right\n",
      "Special key pressed: Key.esc\n",
      "wow\n"
     ]
    }
   ],
   "source": [
    "manmove = utils.ManualMove(move, dash)\n",
    "manmove.execute()"
   ]
  },
  {
   "cell_type": "code",
   "execution_count": 59,
   "metadata": {},
   "outputs": [
    {
     "name": "stdout",
     "output_type": "stream",
     "text": [
      "X = 306.646639\n",
      "Y = 5.535293\n",
      "Z = -76.166901\n",
      "r = 0.0\n"
     ]
    },
    {
     "data": {
      "text/plain": [
       "array([306.646639,   5.535293, -76.166901,   0.      ])"
      ]
     },
     "execution_count": 59,
     "metadata": {},
     "output_type": "execute_result"
    }
   ],
   "source": [
    "utils.get_pose(dash)"
   ]
  },
  {
   "cell_type": "code",
   "execution_count": 57,
   "metadata": {},
   "outputs": [
    {
     "name": "stdout",
     "output_type": "stream",
     "text": [
      "X = 303.478346\n",
      "Y = 5.212162\n",
      "Z = -76.168182\n",
      "r = 0.0\n"
     ]
    },
    {
     "data": {
      "text/plain": [
       "array([303.478346,   5.212162, -76.168182,   0.      ])"
      ]
     },
     "execution_count": 57,
     "metadata": {},
     "output_type": "execute_result"
    }
   ],
   "source": [
    "utils.get_pose(dash)"
   ]
  },
  {
   "cell_type": "code",
   "execution_count": 60,
   "metadata": {},
   "outputs": [
    {
     "data": {
      "text/plain": [
       "3.1682930000000056"
      ]
     },
     "execution_count": 60,
     "metadata": {},
     "output_type": "execute_result"
    }
   ],
   "source": [
    "306.646639 - 303.478346"
   ]
  },
  {
   "cell_type": "code",
   "execution_count": 61,
   "metadata": {},
   "outputs": [
    {
     "data": {
      "text/plain": [
       "0.32313100000000006"
      ]
     },
     "execution_count": 61,
     "metadata": {},
     "output_type": "execute_result"
    }
   ],
   "source": [
    "5.535293 - 5.212162"
   ]
  },
  {
   "cell_type": "code",
   "execution_count": null,
   "metadata": {},
   "outputs": [],
   "source": [
    "keys = utils.Keyboard(dash)\n",
    "keys.execute()\n",
    "xys = [(arr[0], arr[1]) for arr in keys.coords]"
   ]
  },
  {
   "cell_type": "code",
   "execution_count": null,
   "metadata": {},
   "outputs": [],
   "source": [
    "robot_coor = utils.assign_corners(xys, reverse=True)"
   ]
  },
  {
   "cell_type": "code",
   "execution_count": null,
   "metadata": {},
   "outputs": [],
   "source": [
    "mean_ux = np.mean([robot_coor['ul'][0], robot_coor['ur'][0]])\n",
    "mean_lx = np.mean([robot_coor['ll'][0], robot_coor['lr'][0]])\n",
    "\n",
    "mean_uy = np.mean([robot_coor['ur'][1], robot_coor['lr'][1]])\n",
    "mean_ly = np.mean([robot_coor['ll'][1], robot_coor['ul'][1]])"
   ]
  },
  {
   "cell_type": "code",
   "execution_count": null,
   "metadata": {},
   "outputs": [],
   "source": [
    "well_plate_xs = np.linspace(mean_ux, mean_lx, 24)\n",
    "well_plate_ys = np.linspace(mean_uy, mean_ly, 16)"
   ]
  },
  {
   "cell_type": "code",
   "execution_count": null,
   "metadata": {},
   "outputs": [],
   "source": [
    "utils.report_error(dash)"
   ]
  },
  {
   "cell_type": "code",
   "execution_count": null,
   "metadata": {},
   "outputs": [],
   "source": [
    "dash.ClearError()\n",
    "dash.EnableRobot()\n",
    "\n",
    "utils.default_pos(move)\n",
    "time.sleep(0.5)\n",
    "for x in well_plate_xs:\n",
    "    for y in well_plate_ys:\n",
    "        move.MovL(x, y, -70,  0)\n",
    "        time.sleep(0.5)\n",
    "        move.MovL(x, y, -75,  0)\n",
    "        time.sleep(0.5)\n",
    "        move.MovL(x, y, -70,  0)\n",
    "        time.sleep(0.5)\n",
    "\n",
    "utils.default_pos(move)"
   ]
  },
  {
   "cell_type": "code",
   "execution_count": null,
   "metadata": {},
   "outputs": [],
   "source": [
    "utils.default_pos(move)"
   ]
  },
  {
   "cell_type": "code",
   "execution_count": null,
   "metadata": {},
   "outputs": [],
   "source": [
    "well_plate_coords = np.concatenate(np.stack(np.meshgrid(well_plate_xs, well_plate_ys), axis = 2))"
   ]
  },
  {
   "cell_type": "code",
   "execution_count": null,
   "metadata": {},
   "outputs": [],
   "source": [
    "dash.ClearError()\n",
    "dash.EnableRobot()\n",
    "centers_cuboids = cont.contour_centers(cont.singular)\n",
    "\n",
    "utils.default_pos(move)\n",
    "for idx, center in enumerate(centers_cuboids):\n",
    "    X, Y, _ = tf_mtx @ (center[0], center[1], 1)\n",
    "    move.MovL(X, Y, -70,  0)\n",
    "    time.sleep(0.5)\n",
    "    move.MovL(X, Y, -90,  0)\n",
    "    time.sleep(0.5)\n",
    "    move.MovL(X, Y, -70,  0)\n",
    "    time.sleep(0.5)\n",
    "    \n",
    "    x,y = well_plate_coords[idx]\n",
    "    move.MovL(x, y, -70,  0)\n",
    "    time.sleep(0.5)\n",
    "    move.MovL(x, y, -80,  0)\n",
    "    time.sleep(0.5)\n",
    "    move.MovL(x, y, -70,  0)\n",
    "    time.sleep(0.5)\n",
    "\n",
    "utils.default_pos(move)"
   ]
  },
  {
   "cell_type": "code",
   "execution_count": 8,
   "metadata": {},
   "outputs": [
    {
     "data": {
      "text/plain": [
       "<AsyncResult(%px): pending>"
      ]
     },
     "execution_count": 8,
     "metadata": {},
     "output_type": "execute_result"
    }
   ],
   "source": [
    "%%px0\n",
    "from deps import utils\n",
    "from deps.dobot_api import DobotApiDashboard, DobotApiMove\n",
    "dash = DobotApiDashboard('192.168.1.6', 29999)\n",
    "move = DobotApiMove('192.168.1.6', 30003)\n",
    "manmove = utils.ManualMove(move, dash)\n",
    "manmove.execute()\n",
    "coords = manmove.coords"
   ]
  },
  {
   "cell_type": "code",
   "execution_count": 10,
   "metadata": {},
   "outputs": [],
   "source": [
    "ar = e0.pull('coords')\n",
    "coords = ar.get()"
   ]
  },
  {
   "cell_type": "code",
   "execution_count": 11,
   "metadata": {},
   "outputs": [
    {
     "data": {
      "text/plain": [
       "[array([241.580408,  -7.801041, -97.593536, -17.605   ]),\n",
       " array([283.247129,  -7.798385, -97.55735 , -17.604952]),\n",
       " array([288.427727,  44.163045, -97.551666, -17.604927]),\n",
       " array([247.754079,  43.223319, -97.523239, -17.604847])]"
      ]
     },
     "execution_count": 11,
     "metadata": {},
     "output_type": "execute_result"
    }
   ],
   "source": [
    "coords"
   ]
  },
  {
   "cell_type": "code",
   "execution_count": 22,
   "metadata": {},
   "outputs": [
    {
     "name": "stderr",
     "output_type": "stream",
     "text": [
      "[ WARN:0@6155.187] global /opt/conda/conda-bld/opencv-suite_1656606573658/work/modules/videoio/src/cap_gstreamer.cpp (862) isPipelinePlaying OpenCV | GStreamer warning: GStreamer: pipeline have not been created\n"
     ]
    }
   ],
   "source": [
    "def draw_cross(w,h,frame):\n",
    "    w = int(w)\n",
    "    h = int(h)\n",
    "    frame[h-5:h+6, w-1:w+2] = [0, 255, 0]\n",
    "    frame[h-1:h+2, w-5:w+6] = [0, 255, 0]\n",
    "    return frame\n",
    "\n",
    "cameraMatrix = np.load('./cam_matrices/cam_mtx.npy')\n",
    "dist = np.load('./cam_matrices/dist.npy')\n",
    "newCameraMatrix = np.load('./cam_matrices/newcam_mtx.npy')\n",
    "\n",
    "cap = cv2.VideoCapture(0)\n",
    "cap = cv_core.set_res(cap, cv_core.camera_res_dict['1200'])\n",
    "cv2.namedWindow('frame',  cv2.WINDOW_NORMAL)\n",
    "cv2.resizeWindow('frame', 1348, 1011)\n",
    "\n",
    "coords = []\n",
    "\n",
    "while(True):\n",
    "    ret, frame = cap.read()\n",
    "    h,w = frame.shape[:-1]\n",
    "    frame = cv2.undistort(frame, cameraMatrix, dist, None, newCameraMatrix)\n",
    "    # gray = cv2.cvtColor(frame, cv2.COLOR_BGR2GRAY)s\n",
    "\n",
    "    # dst = cv2.cornerHarris(gray, blockSize=2, ksize=3, k=0.04)\n",
    "    # frame[dst > 0.01 * dst.max()] = [0, 255, 0]\n",
    "    frame = draw_cross(w/2, h/2, frame)\n",
    "    frame = draw_cross(w/4, h/4, frame)\n",
    "    frame = draw_cross(3*w/4, h/4, frame)\n",
    "    frame = draw_cross(w/4, 3*h/4, frame)\n",
    "    frame = draw_cross(3*w/4, 3*h/4, frame)\n",
    "    cv2.imshow('frame',frame)\n",
    "\n",
    "    k = cv2.waitKey(1)\n",
    "    if k == ord('q'):\n",
    "        break\n",
    "\n",
    "cap.release()\n",
    "cv2.destroyAllWindows()"
   ]
  },
  {
   "cell_type": "code",
   "execution_count": 53,
   "metadata": {},
   "outputs": [
    {
     "data": {
      "text/plain": [
       "'0,{},EnableRobot();'"
      ]
     },
     "execution_count": 53,
     "metadata": {},
     "output_type": "execute_result"
    }
   ],
   "source": [
    "dash.ClearError()\n",
    "dash.EnableRobot()"
   ]
  },
  {
   "cell_type": "code",
   "execution_count": 54,
   "metadata": {},
   "outputs": [
    {
     "data": {
      "text/plain": [
       "'0,{},MovL(303.122401,23.493025,-76.168182,0.000000);'"
      ]
     },
     "execution_count": 54,
     "metadata": {},
     "output_type": "execute_result"
    }
   ],
   "source": [
    "X, Y, _ = tf_mtx @ (999,434, 1)\n",
    "move.MovL(X, Y, -76.168182,  0)"
   ]
  },
  {
   "cell_type": "code",
   "execution_count": null,
   "metadata": {},
   "outputs": [],
   "source": [
    "utils.default_pos(move)"
   ]
  },
  {
   "cell_type": "code",
   "execution_count": null,
   "metadata": {},
   "outputs": [],
   "source": [
    "frame.shape"
   ]
  },
  {
   "cell_type": "code",
   "execution_count": null,
   "metadata": {},
   "outputs": [],
   "source": []
  }
 ],
 "metadata": {
  "kernelspec": {
   "display_name": "Python 3.9.12 ('stock')",
   "language": "python",
   "name": "python3"
  },
  "language_info": {
   "codemirror_mode": {
    "name": "ipython",
    "version": 3
   },
   "file_extension": ".py",
   "mimetype": "text/x-python",
   "name": "python",
   "nbconvert_exporter": "python",
   "pygments_lexer": "ipython3",
   "version": "3.9.12"
  },
  "orig_nbformat": 4,
  "vscode": {
   "interpreter": {
    "hash": "8375749a1bafb386f34ea9f0dd7e55daf2784b2541aa2e32281e1f53a27462d2"
   }
  }
 },
 "nbformat": 4,
 "nbformat_minor": 2
}
