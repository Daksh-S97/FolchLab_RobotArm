{
 "cells": [
  {
   "cell_type": "code",
   "execution_count": 2,
   "metadata": {},
   "outputs": [],
   "source": [
    "from deps.dobot_api import DobotApiDashboard, DobotApiMove\n",
    "from deps import utils\n",
    "from deps import cv_core\n",
    "import numpy as np\n",
    "import matplotlib.pyplot as plt\n",
    "import cv2\n",
    "from pynput import keyboard\n",
    "import time\n",
    "\n",
    "cont = cv_core.Contours()"
   ]
  },
  {
   "cell_type": "code",
   "execution_count": 2,
   "metadata": {},
   "outputs": [],
   "source": [
    "dash = DobotApiDashboard('192.168.1.6', 29999)\n",
    "move = DobotApiMove('192.168.1.6', 30003)\n",
    "keys = utils.Keyboard(dash)"
   ]
  },
  {
   "cell_type": "code",
   "execution_count": 3,
   "metadata": {},
   "outputs": [
    {
     "data": {
      "text/plain": [
       "'0,{},EnableRobot();'"
      ]
     },
     "execution_count": 3,
     "metadata": {},
     "output_type": "execute_result"
    }
   ],
   "source": [
    "dash.ClearError()\n",
    "dash.EnableRobot()"
   ]
  },
  {
   "cell_type": "code",
   "execution_count": 33,
   "metadata": {},
   "outputs": [
    {
     "name": "stdout",
     "output_type": "stream",
     "text": [
      "Mode: ROBOT_MODE_ENABLE\n"
     ]
    }
   ],
   "source": [
    "utils.report_mode(dash)"
   ]
  },
  {
   "cell_type": "code",
   "execution_count": 53,
   "metadata": {},
   "outputs": [
    {
     "data": {
      "text/plain": [
       "'0,{},SetCollisionLevel(1);'"
      ]
     },
     "execution_count": 53,
     "metadata": {},
     "output_type": "execute_result"
    }
   ],
   "source": [
    "dash.SetCollisionLevel(1)"
   ]
  },
  {
   "cell_type": "code",
   "execution_count": 57,
   "metadata": {},
   "outputs": [
    {
     "data": {
      "text/plain": [
       "'0,{},DisableRobot();'"
      ]
     },
     "execution_count": 57,
     "metadata": {},
     "output_type": "execute_result"
    }
   ],
   "source": [
    "dash.DisableRobot()"
   ]
  },
  {
   "cell_type": "code",
   "execution_count": 55,
   "metadata": {},
   "outputs": [
    {
     "name": "stdout",
     "output_type": "stream",
     "text": [
      "X = 321.505463\n",
      "Y = 0.0\n",
      "Z = -34.254505\n",
      "r = 22.918932\n"
     ]
    },
    {
     "data": {
      "text/plain": [
       "array([321.505463,   0.      , -34.254505,  22.918932])"
      ]
     },
     "execution_count": 55,
     "metadata": {},
     "output_type": "execute_result"
    }
   ],
   "source": [
    "utils.get_pose(dash)"
   ]
  },
  {
   "cell_type": "code",
   "execution_count": 54,
   "metadata": {},
   "outputs": [
    {
     "data": {
      "text/plain": [
       "'0,{},MovL(321.505454,0.000000,-50.000000,22.918932);'"
      ]
     },
     "execution_count": 54,
     "metadata": {},
     "output_type": "execute_result"
    }
   ],
   "source": [
    "move.MovL(321.505454, 0, -50, 22.918932)"
   ]
  },
  {
   "cell_type": "code",
   "execution_count": 4,
   "metadata": {},
   "outputs": [
    {
     "name": "stdout",
     "output_type": "stream",
     "text": [
      "Position saved!\n",
      "Position saved!\n",
      "Position saved!\n",
      "Position saved!\n",
      "Special key pressed: Key.esc\n"
     ]
    }
   ],
   "source": [
    "keys.execute()"
   ]
  },
  {
   "cell_type": "code",
   "execution_count": 5,
   "metadata": {},
   "outputs": [
    {
     "name": "stdout",
     "output_type": "stream",
     "text": [
      "Detecting Anchors\n"
     ]
    },
    {
     "name": "stderr",
     "output_type": "stream",
     "text": [
      "qt.qpa.plugin: Could not find the Qt platform plugin \"wayland\" in \"/home/dobot/anaconda3/lib/python3.9/site-packages/cv2/qt/plugins\"\n",
      "QObject::moveToThread: Current thread (0x55b9b2173d10) is not the object's thread (0x55b9b2ab9760).\n",
      "Cannot move to target thread (0x55b9b2173d10)\n",
      "\n",
      "QObject::moveToThread: Current thread (0x55b9b2173d10) is not the object's thread (0x55b9b2ab9760).\n",
      "Cannot move to target thread (0x55b9b2173d10)\n",
      "\n",
      "Qt: Session management error: Could not open network socket\n",
      "QObject::moveToThread: Current thread (0x55b9b2173d10) is not the object's thread (0x55b9b2ab9760).\n",
      "Cannot move to target thread (0x55b9b2173d10)\n",
      "\n",
      "QObject::moveToThread: Current thread (0x55b9b2173d10) is not the object's thread (0x55b9b2ab9760).\n",
      "Cannot move to target thread (0x55b9b2173d10)\n",
      "\n",
      "QObject::moveToThread: Current thread (0x55b9b2173d10) is not the object's thread (0x55b9b2ab9760).\n",
      "Cannot move to target thread (0x55b9b2173d10)\n",
      "\n",
      "QObject::moveToThread: Current thread (0x55b9b2173d10) is not the object's thread (0x55b9b2ab9760).\n",
      "Cannot move to target thread (0x55b9b2173d10)\n",
      "\n",
      "QObject::moveToThread: Current thread (0x55b9b2173d10) is not the object's thread (0x55b9b2ab9760).\n",
      "Cannot move to target thread (0x55b9b2173d10)\n",
      "\n",
      "QObject::moveToThread: Current thread (0x55b9b2173d10) is not the object's thread (0x55b9b2ab9760).\n",
      "Cannot move to target thread (0x55b9b2173d10)\n",
      "\n",
      "QObject::moveToThread: Current thread (0x55b9b2173d10) is not the object's thread (0x55b9b2ab9760).\n",
      "Cannot move to target thread (0x55b9b2173d10)\n",
      "\n",
      "QObject::moveToThread: Current thread (0x55b9b2173d10) is not the object's thread (0x55b9b2ab9760).\n",
      "Cannot move to target thread (0x55b9b2173d10)\n",
      "\n",
      "QObject::moveToThread: Current thread (0x55b9b2173d10) is not the object's thread (0x55b9b2ab9760).\n",
      "Cannot move to target thread (0x55b9b2173d10)\n",
      "\n",
      "QObject::moveToThread: Current thread (0x55b9b2173d10) is not the object's thread (0x55b9b2ab9760).\n",
      "Cannot move to target thread (0x55b9b2173d10)\n",
      "\n",
      "QObject::moveToThread: Current thread (0x55b9b2173d10) is not the object's thread (0x55b9b2ab9760).\n",
      "Cannot move to target thread (0x55b9b2173d10)\n",
      "\n",
      "QObject::moveToThread: Current thread (0x55b9b2173d10) is not the object's thread (0x55b9b2ab9760).\n",
      "Cannot move to target thread (0x55b9b2173d10)\n",
      "\n",
      "QObject::moveToThread: Current thread (0x55b9b2173d10) is not the object's thread (0x55b9b2ab9760).\n",
      "Cannot move to target thread (0x55b9b2173d10)\n",
      "\n",
      "QObject::moveToThread: Current thread (0x55b9b2173d10) is not the object's thread (0x55b9b2ab9760).\n",
      "Cannot move to target thread (0x55b9b2173d10)\n",
      "\n",
      "QObject::moveToThread: Current thread (0x55b9b2173d10) is not the object's thread (0x55b9b2ab9760).\n",
      "Cannot move to target thread (0x55b9b2173d10)\n",
      "\n",
      "QObject::moveToThread: Current thread (0x55b9b2173d10) is not the object's thread (0x55b9b2ab9760).\n",
      "Cannot move to target thread (0x55b9b2173d10)\n",
      "\n",
      "QObject::moveToThread: Current thread (0x55b9b2173d10) is not the object's thread (0x55b9b2ab9760).\n",
      "Cannot move to target thread (0x55b9b2173d10)\n",
      "\n",
      "QObject::moveToThread: Current thread (0x55b9b2173d10) is not the object's thread (0x55b9b2ab9760).\n",
      "Cannot move to target thread (0x55b9b2173d10)\n",
      "\n",
      "QObject::moveToThread: Current thread (0x55b9b2173d10) is not the object's thread (0x55b9b2ab9760).\n",
      "Cannot move to target thread (0x55b9b2173d10)\n",
      "\n",
      "QObject::moveToThread: Current thread (0x55b9b2173d10) is not the object's thread (0x55b9b2ab9760).\n",
      "Cannot move to target thread (0x55b9b2173d10)\n",
      "\n",
      "QObject::moveToThread: Current thread (0x55b9b2173d10) is not the object's thread (0x55b9b2ab9760).\n",
      "Cannot move to target thread (0x55b9b2173d10)\n",
      "\n",
      "QObject::moveToThread: Current thread (0x55b9b2173d10) is not the object's thread (0x55b9b2ab9760).\n",
      "Cannot move to target thread (0x55b9b2173d10)\n",
      "\n",
      "QObject::moveToThread: Current thread (0x55b9b2173d10) is not the object's thread (0x55b9b2ab9760).\n",
      "Cannot move to target thread (0x55b9b2173d10)\n",
      "\n",
      "QObject::moveToThread: Current thread (0x55b9b2173d10) is not the object's thread (0x55b9b2ab9760).\n",
      "Cannot move to target thread (0x55b9b2173d10)\n",
      "\n",
      "QObject::moveToThread: Current thread (0x55b9b2173d10) is not the object's thread (0x55b9b2ab9760).\n",
      "Cannot move to target thread (0x55b9b2173d10)\n",
      "\n",
      "QObject::moveToThread: Current thread (0x55b9b2173d10) is not the object's thread (0x55b9b2ab9760).\n",
      "Cannot move to target thread (0x55b9b2173d10)\n",
      "\n",
      "QObject::moveToThread: Current thread (0x55b9b2173d10) is not the object's thread (0x55b9b2ab9760).\n",
      "Cannot move to target thread (0x55b9b2173d10)\n",
      "\n",
      "QObject::moveToThread: Current thread (0x55b9b2173d10) is not the object's thread (0x55b9b2ab9760).\n",
      "Cannot move to target thread (0x55b9b2173d10)\n",
      "\n",
      "QObject::moveToThread: Current thread (0x55b9b2173d10) is not the object's thread (0x55b9b2ab9760).\n",
      "Cannot move to target thread (0x55b9b2173d10)\n",
      "\n",
      "QObject::moveToThread: Current thread (0x55b9b2173d10) is not the object's thread (0x55b9b2ab9760).\n",
      "Cannot move to target thread (0x55b9b2173d10)\n",
      "\n",
      "QObject::moveToThread: Current thread (0x55b9b2173d10) is not the object's thread (0x55b9b2ab9760).\n",
      "Cannot move to target thread (0x55b9b2173d10)\n",
      "\n",
      "QObject::moveToThread: Current thread (0x55b9b2173d10) is not the object's thread (0x55b9b2ab9760).\n",
      "Cannot move to target thread (0x55b9b2173d10)\n",
      "\n",
      "QObject::moveToThread: Current thread (0x55b9b2173d10) is not the object's thread (0x55b9b2ab9760).\n",
      "Cannot move to target thread (0x55b9b2173d10)\n",
      "\n",
      "QObject::moveToThread: Current thread (0x55b9b2173d10) is not the object's thread (0x55b9b2ab9760).\n",
      "Cannot move to target thread (0x55b9b2173d10)\n",
      "\n",
      "QObject::moveToThread: Current thread (0x55b9b2173d10) is not the object's thread (0x55b9b2ab9760).\n",
      "Cannot move to target thread (0x55b9b2173d10)\n",
      "\n",
      "QObject::moveToThread: Current thread (0x55b9b2173d10) is not the object's thread (0x55b9b2ab9760).\n",
      "Cannot move to target thread (0x55b9b2173d10)\n",
      "\n",
      "QObject::moveToThread: Current thread (0x55b9b2173d10) is not the object's thread (0x55b9b2ab9760).\n",
      "Cannot move to target thread (0x55b9b2173d10)\n",
      "\n",
      "QObject::moveToThread: Current thread (0x55b9b2173d10) is not the object's thread (0x55b9b2ab9760).\n",
      "Cannot move to target thread (0x55b9b2173d10)\n",
      "\n",
      "QObject::moveToThread: Current thread (0x55b9b2173d10) is not the object's thread (0x55b9b2ab9760).\n",
      "Cannot move to target thread (0x55b9b2173d10)\n",
      "\n",
      "QObject::moveToThread: Current thread (0x55b9b2173d10) is not the object's thread (0x55b9b2ab9760).\n",
      "Cannot move to target thread (0x55b9b2173d10)\n",
      "\n",
      "QObject::moveToThread: Current thread (0x55b9b2173d10) is not the object's thread (0x55b9b2ab9760).\n",
      "Cannot move to target thread (0x55b9b2173d10)\n",
      "\n",
      "QObject::moveToThread: Current thread (0x55b9b2173d10) is not the object's thread (0x55b9b2ab9760).\n",
      "Cannot move to target thread (0x55b9b2173d10)\n",
      "\n",
      "QObject::moveToThread: Current thread (0x55b9b2173d10) is not the object's thread (0x55b9b2ab9760).\n",
      "Cannot move to target thread (0x55b9b2173d10)\n",
      "\n",
      "QObject::moveToThread: Current thread (0x55b9b2173d10) is not the object's thread (0x55b9b2ab9760).\n",
      "Cannot move to target thread (0x55b9b2173d10)\n",
      "\n",
      "QObject::moveToThread: Current thread (0x55b9b2173d10) is not the object's thread (0x55b9b2ab9760).\n",
      "Cannot move to target thread (0x55b9b2173d10)\n",
      "\n",
      "QObject::moveToThread: Current thread (0x55b9b2173d10) is not the object's thread (0x55b9b2ab9760).\n",
      "Cannot move to target thread (0x55b9b2173d10)\n",
      "\n",
      "QObject::moveToThread: Current thread (0x55b9b2173d10) is not the object's thread (0x55b9b2ab9760).\n",
      "Cannot move to target thread (0x55b9b2173d10)\n",
      "\n",
      "QObject::moveToThread: Current thread (0x55b9b2173d10) is not the object's thread (0x55b9b2ab9760).\n",
      "Cannot move to target thread (0x55b9b2173d10)\n",
      "\n",
      "QObject::moveToThread: Current thread (0x55b9b2173d10) is not the object's thread (0x55b9b2ab9760).\n",
      "Cannot move to target thread (0x55b9b2173d10)\n",
      "\n",
      "QObject::moveToThread: Current thread (0x55b9b2173d10) is not the object's thread (0x55b9b2ab9760).\n",
      "Cannot move to target thread (0x55b9b2173d10)\n",
      "\n",
      "QObject::moveToThread: Current thread (0x55b9b2173d10) is not the object's thread (0x55b9b2ab9760).\n",
      "Cannot move to target thread (0x55b9b2173d10)\n",
      "\n",
      "QObject::moveToThread: Current thread (0x55b9b2173d10) is not the object's thread (0x55b9b2ab9760).\n",
      "Cannot move to target thread (0x55b9b2173d10)\n",
      "\n",
      "QObject::moveToThread: Current thread (0x55b9b2173d10) is not the object's thread (0x55b9b2ab9760).\n",
      "Cannot move to target thread (0x55b9b2173d10)\n",
      "\n",
      "QObject::moveToThread: Current thread (0x55b9b2173d10) is not the object's thread (0x55b9b2ab9760).\n",
      "Cannot move to target thread (0x55b9b2173d10)\n",
      "\n",
      "QObject::moveToThread: Current thread (0x55b9b2173d10) is not the object's thread (0x55b9b2ab9760).\n",
      "Cannot move to target thread (0x55b9b2173d10)\n",
      "\n",
      "QObject::moveToThread: Current thread (0x55b9b2173d10) is not the object's thread (0x55b9b2ab9760).\n",
      "Cannot move to target thread (0x55b9b2173d10)\n",
      "\n",
      "QObject::moveToThread: Current thread (0x55b9b2173d10) is not the object's thread (0x55b9b2ab9760).\n",
      "Cannot move to target thread (0x55b9b2173d10)\n",
      "\n",
      "QObject::moveToThread: Current thread (0x55b9b2173d10) is not the object's thread (0x55b9b2ab9760).\n",
      "Cannot move to target thread (0x55b9b2173d10)\n",
      "\n",
      "QObject::moveToThread: Current thread (0x55b9b2173d10) is not the object's thread (0x55b9b2ab9760).\n",
      "Cannot move to target thread (0x55b9b2173d10)\n",
      "\n",
      "QObject::moveToThread: Current thread (0x55b9b2173d10) is not the object's thread (0x55b9b2ab9760).\n",
      "Cannot move to target thread (0x55b9b2173d10)\n",
      "\n",
      "QObject::moveToThread: Current thread (0x55b9b2173d10) is not the object's thread (0x55b9b2ab9760).\n",
      "Cannot move to target thread (0x55b9b2173d10)\n",
      "\n",
      "QObject::moveToThread: Current thread (0x55b9b2173d10) is not the object's thread (0x55b9b2ab9760).\n",
      "Cannot move to target thread (0x55b9b2173d10)\n",
      "\n",
      "QObject::moveToThread: Current thread (0x55b9b2173d10) is not the object's thread (0x55b9b2ab9760).\n",
      "Cannot move to target thread (0x55b9b2173d10)\n",
      "\n",
      "QObject::moveToThread: Current thread (0x55b9b2173d10) is not the object's thread (0x55b9b2ab9760).\n",
      "Cannot move to target thread (0x55b9b2173d10)\n",
      "\n",
      "QObject::moveToThread: Current thread (0x55b9b2173d10) is not the object's thread (0x55b9b2ab9760).\n",
      "Cannot move to target thread (0x55b9b2173d10)\n",
      "\n",
      "QObject::moveToThread: Current thread (0x55b9b2173d10) is not the object's thread (0x55b9b2ab9760).\n",
      "Cannot move to target thread (0x55b9b2173d10)\n",
      "\n",
      "QObject::moveToThread: Current thread (0x55b9b2173d10) is not the object's thread (0x55b9b2ab9760).\n",
      "Cannot move to target thread (0x55b9b2173d10)\n",
      "\n",
      "QObject::moveToThread: Current thread (0x55b9b2173d10) is not the object's thread (0x55b9b2ab9760).\n",
      "Cannot move to target thread (0x55b9b2173d10)\n",
      "\n",
      "QObject::moveToThread: Current thread (0x55b9b2173d10) is not the object's thread (0x55b9b2ab9760).\n",
      "Cannot move to target thread (0x55b9b2173d10)\n",
      "\n",
      "QObject::moveToThread: Current thread (0x55b9b2173d10) is not the object's thread (0x55b9b2ab9760).\n",
      "Cannot move to target thread (0x55b9b2173d10)\n",
      "\n",
      "QObject::moveToThread: Current thread (0x55b9b2173d10) is not the object's thread (0x55b9b2ab9760).\n",
      "Cannot move to target thread (0x55b9b2173d10)\n",
      "\n",
      "QObject::moveToThread: Current thread (0x55b9b2173d10) is not the object's thread (0x55b9b2ab9760).\n",
      "Cannot move to target thread (0x55b9b2173d10)\n",
      "\n",
      "QObject::moveToThread: Current thread (0x55b9b2173d10) is not the object's thread (0x55b9b2ab9760).\n",
      "Cannot move to target thread (0x55b9b2173d10)\n",
      "\n",
      "QObject::moveToThread: Current thread (0x55b9b2173d10) is not the object's thread (0x55b9b2ab9760).\n",
      "Cannot move to target thread (0x55b9b2173d10)\n",
      "\n",
      "QObject::moveToThread: Current thread (0x55b9b2173d10) is not the object's thread (0x55b9b2ab9760).\n",
      "Cannot move to target thread (0x55b9b2173d10)\n",
      "\n",
      "QObject::moveToThread: Current thread (0x55b9b2173d10) is not the object's thread (0x55b9b2ab9760).\n",
      "Cannot move to target thread (0x55b9b2173d10)\n",
      "\n",
      "QObject::moveToThread: Current thread (0x55b9b2173d10) is not the object's thread (0x55b9b2ab9760).\n",
      "Cannot move to target thread (0x55b9b2173d10)\n",
      "\n",
      "QObject::moveToThread: Current thread (0x55b9b2173d10) is not the object's thread (0x55b9b2ab9760).\n",
      "Cannot move to target thread (0x55b9b2173d10)\n",
      "\n",
      "QObject::moveToThread: Current thread (0x55b9b2173d10) is not the object's thread (0x55b9b2ab9760).\n",
      "Cannot move to target thread (0x55b9b2173d10)\n",
      "\n",
      "QObject::moveToThread: Current thread (0x55b9b2173d10) is not the object's thread (0x55b9b2ab9760).\n",
      "Cannot move to target thread (0x55b9b2173d10)\n",
      "\n",
      "QObject::moveToThread: Current thread (0x55b9b2173d10) is not the object's thread (0x55b9b2ab9760).\n",
      "Cannot move to target thread (0x55b9b2173d10)\n",
      "\n",
      "QObject::moveToThread: Current thread (0x55b9b2173d10) is not the object's thread (0x55b9b2ab9760).\n",
      "Cannot move to target thread (0x55b9b2173d10)\n",
      "\n",
      "QObject::moveToThread: Current thread (0x55b9b2173d10) is not the object's thread (0x55b9b2ab9760).\n",
      "Cannot move to target thread (0x55b9b2173d10)\n",
      "\n",
      "QObject::moveToThread: Current thread (0x55b9b2173d10) is not the object's thread (0x55b9b2ab9760).\n",
      "Cannot move to target thread (0x55b9b2173d10)\n",
      "\n",
      "QObject::moveToThread: Current thread (0x55b9b2173d10) is not the object's thread (0x55b9b2ab9760).\n",
      "Cannot move to target thread (0x55b9b2173d10)\n",
      "\n",
      "QObject::moveToThread: Current thread (0x55b9b2173d10) is not the object's thread (0x55b9b2ab9760).\n",
      "Cannot move to target thread (0x55b9b2173d10)\n",
      "\n",
      "QObject::moveToThread: Current thread (0x55b9b2173d10) is not the object's thread (0x55b9b2ab9760).\n",
      "Cannot move to target thread (0x55b9b2173d10)\n",
      "\n",
      "QObject::moveToThread: Current thread (0x55b9b2173d10) is not the object's thread (0x55b9b2ab9760).\n",
      "Cannot move to target thread (0x55b9b2173d10)\n",
      "\n",
      "QObject::moveToThread: Current thread (0x55b9b2173d10) is not the object's thread (0x55b9b2ab9760).\n",
      "Cannot move to target thread (0x55b9b2173d10)\n",
      "\n",
      "QObject::moveToThread: Current thread (0x55b9b2173d10) is not the object's thread (0x55b9b2ab9760).\n",
      "Cannot move to target thread (0x55b9b2173d10)\n",
      "\n",
      "QObject::moveToThread: Current thread (0x55b9b2173d10) is not the object's thread (0x55b9b2ab9760).\n",
      "Cannot move to target thread (0x55b9b2173d10)\n",
      "\n",
      "QObject::moveToThread: Current thread (0x55b9b2173d10) is not the object's thread (0x55b9b2ab9760).\n",
      "Cannot move to target thread (0x55b9b2173d10)\n",
      "\n",
      "QObject::moveToThread: Current thread (0x55b9b2173d10) is not the object's thread (0x55b9b2ab9760).\n",
      "Cannot move to target thread (0x55b9b2173d10)\n",
      "\n",
      "QObject::moveToThread: Current thread (0x55b9b2173d10) is not the object's thread (0x55b9b2ab9760).\n",
      "Cannot move to target thread (0x55b9b2173d10)\n",
      "\n",
      "QObject::moveToThread: Current thread (0x55b9b2173d10) is not the object's thread (0x55b9b2ab9760).\n",
      "Cannot move to target thread (0x55b9b2173d10)\n",
      "\n",
      "QObject::moveToThread: Current thread (0x55b9b2173d10) is not the object's thread (0x55b9b2ab9760).\n",
      "Cannot move to target thread (0x55b9b2173d10)\n",
      "\n",
      "QObject::moveToThread: Current thread (0x55b9b2173d10) is not the object's thread (0x55b9b2ab9760).\n",
      "Cannot move to target thread (0x55b9b2173d10)\n",
      "\n",
      "QObject::moveToThread: Current thread (0x55b9b2173d10) is not the object's thread (0x55b9b2ab9760).\n",
      "Cannot move to target thread (0x55b9b2173d10)\n",
      "\n",
      "QObject::moveToThread: Current thread (0x55b9b2173d10) is not the object's thread (0x55b9b2ab9760).\n",
      "Cannot move to target thread (0x55b9b2173d10)\n",
      "\n",
      "QObject::moveToThread: Current thread (0x55b9b2173d10) is not the object's thread (0x55b9b2ab9760).\n",
      "Cannot move to target thread (0x55b9b2173d10)\n",
      "\n",
      "QObject::moveToThread: Current thread (0x55b9b2173d10) is not the object's thread (0x55b9b2ab9760).\n",
      "Cannot move to target thread (0x55b9b2173d10)\n",
      "\n",
      "QObject::moveToThread: Current thread (0x55b9b2173d10) is not the object's thread (0x55b9b2ab9760).\n",
      "Cannot move to target thread (0x55b9b2173d10)\n",
      "\n",
      "QObject::moveToThread: Current thread (0x55b9b2173d10) is not the object's thread (0x55b9b2ab9760).\n",
      "Cannot move to target thread (0x55b9b2173d10)\n",
      "\n",
      "QObject::moveToThread: Current thread (0x55b9b2173d10) is not the object's thread (0x55b9b2ab9760).\n",
      "Cannot move to target thread (0x55b9b2173d10)\n",
      "\n",
      "QObject::moveToThread: Current thread (0x55b9b2173d10) is not the object's thread (0x55b9b2ab9760).\n",
      "Cannot move to target thread (0x55b9b2173d10)\n",
      "\n",
      "QObject::moveToThread: Current thread (0x55b9b2173d10) is not the object's thread (0x55b9b2ab9760).\n",
      "Cannot move to target thread (0x55b9b2173d10)\n",
      "\n",
      "QObject::moveToThread: Current thread (0x55b9b2173d10) is not the object's thread (0x55b9b2ab9760).\n",
      "Cannot move to target thread (0x55b9b2173d10)\n",
      "\n",
      "QObject::moveToThread: Current thread (0x55b9b2173d10) is not the object's thread (0x55b9b2ab9760).\n",
      "Cannot move to target thread (0x55b9b2173d10)\n",
      "\n",
      "QObject::moveToThread: Current thread (0x55b9b2173d10) is not the object's thread (0x55b9b2ab9760).\n",
      "Cannot move to target thread (0x55b9b2173d10)\n",
      "\n",
      "QObject::moveToThread: Current thread (0x55b9b2173d10) is not the object's thread (0x55b9b2ab9760).\n",
      "Cannot move to target thread (0x55b9b2173d10)\n",
      "\n",
      "QObject::moveToThread: Current thread (0x55b9b2173d10) is not the object's thread (0x55b9b2ab9760).\n",
      "Cannot move to target thread (0x55b9b2173d10)\n",
      "\n",
      "QObject::moveToThread: Current thread (0x55b9b2173d10) is not the object's thread (0x55b9b2ab9760).\n",
      "Cannot move to target thread (0x55b9b2173d10)\n",
      "\n",
      "QObject::moveToThread: Current thread (0x55b9b2173d10) is not the object's thread (0x55b9b2ab9760).\n",
      "Cannot move to target thread (0x55b9b2173d10)\n",
      "\n",
      "QObject::moveToThread: Current thread (0x55b9b2173d10) is not the object's thread (0x55b9b2ab9760).\n",
      "Cannot move to target thread (0x55b9b2173d10)\n",
      "\n",
      "QObject::moveToThread: Current thread (0x55b9b2173d10) is not the object's thread (0x55b9b2ab9760).\n",
      "Cannot move to target thread (0x55b9b2173d10)\n",
      "\n",
      "QObject::moveToThread: Current thread (0x55b9b2173d10) is not the object's thread (0x55b9b2ab9760).\n",
      "Cannot move to target thread (0x55b9b2173d10)\n",
      "\n",
      "QObject::moveToThread: Current thread (0x55b9b2173d10) is not the object's thread (0x55b9b2ab9760).\n",
      "Cannot move to target thread (0x55b9b2173d10)\n",
      "\n",
      "QObject::moveToThread: Current thread (0x55b9b2173d10) is not the object's thread (0x55b9b2ab9760).\n",
      "Cannot move to target thread (0x55b9b2173d10)\n",
      "\n",
      "QObject::moveToThread: Current thread (0x55b9b2173d10) is not the object's thread (0x55b9b2ab9760).\n",
      "Cannot move to target thread (0x55b9b2173d10)\n",
      "\n",
      "QObject::moveToThread: Current thread (0x55b9b2173d10) is not the object's thread (0x55b9b2ab9760).\n",
      "Cannot move to target thread (0x55b9b2173d10)\n",
      "\n",
      "QObject::moveToThread: Current thread (0x55b9b2173d10) is not the object's thread (0x55b9b2ab9760).\n",
      "Cannot move to target thread (0x55b9b2173d10)\n",
      "\n",
      "QObject::moveToThread: Current thread (0x55b9b2173d10) is not the object's thread (0x55b9b2ab9760).\n",
      "Cannot move to target thread (0x55b9b2173d10)\n",
      "\n",
      "QObject::moveToThread: Current thread (0x55b9b2173d10) is not the object's thread (0x55b9b2ab9760).\n",
      "Cannot move to target thread (0x55b9b2173d10)\n",
      "\n",
      "QObject::moveToThread: Current thread (0x55b9b2173d10) is not the object's thread (0x55b9b2ab9760).\n",
      "Cannot move to target thread (0x55b9b2173d10)\n",
      "\n",
      "QObject::moveToThread: Current thread (0x55b9b2173d10) is not the object's thread (0x55b9b2ab9760).\n",
      "Cannot move to target thread (0x55b9b2173d10)\n",
      "\n",
      "QObject::moveToThread: Current thread (0x55b9b2173d10) is not the object's thread (0x55b9b2ab9760).\n",
      "Cannot move to target thread (0x55b9b2173d10)\n",
      "\n",
      "QObject::moveToThread: Current thread (0x55b9b2173d10) is not the object's thread (0x55b9b2ab9760).\n",
      "Cannot move to target thread (0x55b9b2173d10)\n",
      "\n",
      "QObject::moveToThread: Current thread (0x55b9b2173d10) is not the object's thread (0x55b9b2ab9760).\n",
      "Cannot move to target thread (0x55b9b2173d10)\n",
      "\n"
     ]
    }
   ],
   "source": [
    "print(\"Detecting Anchors\")\n",
    "while True:\n",
    "    cap = cv2.VideoCapture(0)\n",
    "    cap = cv_core.set_res(cap, (1600, 1200))\n",
    "    centers = cont.wait_for_anchors(cap, show = True)\n",
    "    cap.release()\n",
    "    if len(centers) == 4:\n",
    "        break\n",
    "\n",
    "\n",
    "xys = [(arr[0], arr[1]) for arr in keys.coords]\n",
    "pix_coor = utils.assign_corners(centers)\n",
    "robot_coor = utils.assign_corners(xys, reverse=True)\n",
    "\n",
    "\n",
    "features_mm_to_pixels_dict = {}\n",
    "for key, value in robot_coor.items():\n",
    "    features_mm_to_pixels_dict[value] = pix_coor[key]\n",
    "\n",
    "\n",
    "tf_mtx = cv_core.compute_tf_mtx(features_mm_to_pixels_dict)"
   ]
  },
  {
   "cell_type": "code",
   "execution_count": 6,
   "metadata": {},
   "outputs": [
    {
     "data": {
      "text/plain": [
       "[(94, 1118), (1488, 1108), (1491, 100), (90, 81)]"
      ]
     },
     "execution_count": 6,
     "metadata": {},
     "output_type": "execute_result"
    }
   ],
   "source": [
    "centers"
   ]
  },
  {
   "cell_type": "code",
   "execution_count": 4,
   "metadata": {},
   "outputs": [
    {
     "ename": "KeyboardInterrupt",
     "evalue": "",
     "output_type": "error",
     "traceback": [
      "\u001b[0;31m---------------------------------------------------------------------------\u001b[0m",
      "\u001b[0;31mKeyboardInterrupt\u001b[0m                         Traceback (most recent call last)",
      "\u001b[1;32m/home/dobot/github/FolchLab_RobotArm/main.ipynb Cell 9'\u001b[0m in \u001b[0;36m<cell line: 20>\u001b[0;34m()\u001b[0m\n\u001b[1;32m     <a href='vscode-notebook-cell:/home/dobot/github/FolchLab_RobotArm/main.ipynb#ch0000008?line=25'>26</a>\u001b[0m \u001b[39melse\u001b[39;00m:\n\u001b[1;32m     <a href='vscode-notebook-cell:/home/dobot/github/FolchLab_RobotArm/main.ipynb#ch0000008?line=26'>27</a>\u001b[0m     cont\u001b[39m.\u001b[39mlocked \u001b[39m=\u001b[39m \u001b[39mFalse\u001b[39;00m\n\u001b[0;32m---> <a href='vscode-notebook-cell:/home/dobot/github/FolchLab_RobotArm/main.ipynb#ch0000008?line=28'>29</a>\u001b[0m pt, sorted_contours, clusters \u001b[39m=\u001b[39m cont\u001b[39m.\u001b[39;49mfind_contours(frame, \u001b[39m10\u001b[39;49m, offset)\n\u001b[1;32m     <a href='vscode-notebook-cell:/home/dobot/github/FolchLab_RobotArm/main.ipynb#ch0000008?line=29'>30</a>\u001b[0m a,b,r \u001b[39m=\u001b[39m pt\n\u001b[1;32m     <a href='vscode-notebook-cell:/home/dobot/github/FolchLab_RobotArm/main.ipynb#ch0000008?line=30'>31</a>\u001b[0m plot_img \u001b[39m=\u001b[39m frame\u001b[39m.\u001b[39mcopy()\n",
      "File \u001b[0;32m~/github/FolchLab_RobotArm/deps/cv_core.py:156\u001b[0m, in \u001b[0;36mContours.find_contours\u001b[0;34m(self, frame, eps, offset)\u001b[0m\n\u001b[1;32m    153\u001b[0m opening \u001b[39m=\u001b[39m cv2\u001b[39m.\u001b[39mmorphologyEx(thresh, cv2\u001b[39m.\u001b[39mMORPH_OPEN, kernel)\n\u001b[1;32m    155\u001b[0m \u001b[39mif\u001b[39;00m \u001b[39mnot\u001b[39;00m \u001b[39mself\u001b[39m\u001b[39m.\u001b[39mlocked:\n\u001b[0;32m--> 156\u001b[0m     \u001b[39mself\u001b[39;49m\u001b[39m.\u001b[39;49mget_circles(gray)\n\u001b[1;32m    157\u001b[0m \u001b[39m#result = mask_frame(thresh, self.best_circ, offset)\u001b[39;00m\n\u001b[1;32m    158\u001b[0m result \u001b[39m=\u001b[39m mask_frame(opening, \u001b[39mself\u001b[39m\u001b[39m.\u001b[39mbest_circ, offset)\n",
      "File \u001b[0;32m~/github/FolchLab_RobotArm/deps/cv_core.py:98\u001b[0m, in \u001b[0;36mContours.get_circles\u001b[0;34m(self, frame)\u001b[0m\n\u001b[1;32m     95\u001b[0m dilation \u001b[39m=\u001b[39m cv2\u001b[39m.\u001b[39mdilate(thresh,kernel,iterations \u001b[39m=\u001b[39m \u001b[39m3\u001b[39m)\n\u001b[1;32m     97\u001b[0m blur2 \u001b[39m=\u001b[39m cv2\u001b[39m.\u001b[39mblur(dilation, (\u001b[39m7\u001b[39m, \u001b[39m7\u001b[39m))\n\u001b[0;32m---> 98\u001b[0m detected_circles \u001b[39m=\u001b[39m cv2\u001b[39m.\u001b[39;49mHoughCircles(image\u001b[39m=\u001b[39;49mblur2,\n\u001b[1;32m     99\u001b[0m                                     method\u001b[39m=\u001b[39;49mcv2\u001b[39m.\u001b[39;49mHOUGH_GRADIENT,\n\u001b[1;32m    100\u001b[0m                                     dp\u001b[39m=\u001b[39;49m\u001b[39m1.2\u001b[39;49m,\n\u001b[1;32m    101\u001b[0m                                     minDist\u001b[39m=\u001b[39;49m\u001b[39m500\u001b[39;49m,\n\u001b[1;32m    102\u001b[0m                                     param1\u001b[39m=\u001b[39;49m\u001b[39m100\u001b[39;49m,\n\u001b[1;32m    103\u001b[0m                                     param2\u001b[39m=\u001b[39;49m\u001b[39m50\u001b[39;49m,\n\u001b[1;32m    104\u001b[0m                                     minRadius\u001b[39m=\u001b[39;49m\u001b[39m300\u001b[39;49m,\n\u001b[1;32m    105\u001b[0m                                     maxRadius\u001b[39m=\u001b[39;49m\u001b[39m600\u001b[39;49m\n\u001b[1;32m    106\u001b[0m                                     )\n\u001b[1;32m    108\u001b[0m \u001b[39mif\u001b[39;00m detected_circles \u001b[39mis\u001b[39;00m \u001b[39mnot\u001b[39;00m \u001b[39mNone\u001b[39;00m:\n\u001b[1;32m    109\u001b[0m     \u001b[39m# Convert the circle parameters a, b and r to integers.\u001b[39;00m\n\u001b[1;32m    110\u001b[0m     detected_circles \u001b[39m=\u001b[39m np\u001b[39m.\u001b[39muint16(np\u001b[39m.\u001b[39maround(detected_circles))\n",
      "\u001b[0;31mKeyboardInterrupt\u001b[0m: "
     ]
    }
   ],
   "source": [
    "def on_change(val): pass\n",
    "\n",
    "offset = 110\n",
    "cap = cv2.VideoCapture(0)\n",
    "cap = cv_core.set_res(cap, cv_core.camera_res_dict['1200'])\n",
    "#out = cv2.VideoWriter('out.avi',cv2.VideoWriter_fourcc('M','J','P','G'), 25, (640,480))\n",
    "cont = cv_core.Contours()\n",
    "\n",
    "cameraMatrix = np.load('./cam_matrices/cam_mtx.npy')\n",
    "dist = np.load('./cam_matrices/dist.npy')\n",
    "newCameraMatrix = np.load('./cam_matrices/newcam_mtx.npy')\n",
    "\n",
    "cv2.namedWindow('frame',  cv2.WINDOW_NORMAL)\n",
    "cv2.resizeWindow('frame', 1348, 1011)\n",
    "cv2.createTrackbar('Manual Lock', 'frame', 0, 1, on_change)\n",
    "\n",
    "idx = 0\n",
    "prev_point = (0,0,0)\n",
    "while(True):\n",
    "    ret, frame = cap.read()\n",
    "    # frame = cv2.undistort(frame, cameraMatrix, dist, None, newCameraMatrix)\n",
    "    # frame = np.split(frame,2, axis = 1)[1]\n",
    "    val = cv2.getTrackbarPos('Manual Lock', 'frame')\n",
    "    if val == 1:\n",
    "        cont.locked = True\n",
    "    else:\n",
    "        cont.locked = False\n",
    "\n",
    "    pt, sorted_contours, clusters = cont.find_contours(frame, 10, offset)\n",
    "    a,b,r = pt\n",
    "    plot_img = frame.copy()\n",
    "    cv2.circle(plot_img, (a, b), r, (0, 255, 0), 2)\n",
    "    cv2.circle(plot_img, (a, b), 1, (0, 0, 255), 3)\n",
    "    cv2.circle(plot_img, (a, b), r - offset, (0, 0, 255), 2)\n",
    "    cv2.drawContours(plot_img, sorted_contours, -1,(0,255, 0),2)\n",
    "    cv2.drawContours(plot_img, clusters, -1,(0,0,255),2)\n",
    "\n",
    "    for c in sorted_contours:\n",
    "        # compute the center of the contour\n",
    "        M = cv2.moments(c)\n",
    "        cX = int(M[\"m10\"] / M[\"m00\"])\n",
    "        cY = int(M[\"m01\"] / M[\"m00\"])\n",
    "        # draw the contour and center of the shape on the image\n",
    "        #cv2.drawContours(plot_img, [c], -1, (0, 255, 0), 2)\n",
    "        cv2.circle(plot_img, (cX, cY), 2, (0, 0, 255), -1)\n",
    "        cv2.putText(plot_img, f\"{cX},{cY}\", (cX - 20, cY - 20),\n",
    "        cv2.FONT_HERSHEY_SIMPLEX, 0.5, (0, 255, 0), 2)\n",
    "\n",
    "        # cv2.putText(plot_img, f\"{cv2.contourArea(c)}\", (cX - 20, cY - 20),\n",
    "        # cv2.FONT_HERSHEY_SIMPLEX, 0.7, (0, 255, 0), 1)\n",
    "    #out.write(with_contours)\n",
    "\n",
    "    for c in clusters:\n",
    "        # compute the center of the contour\n",
    "        M = cv2.moments(c)\n",
    "        cX = int(M[\"m10\"] / M[\"m00\"])\n",
    "        cY = int(M[\"m01\"] / M[\"m00\"])\n",
    "        # draw the contour and center of the shape on the image\n",
    "        #cv2.drawContours(plot_img, [c], -1, (0, 255, 0), 2)\n",
    "        cv2.circle(plot_img, (cX, cY), 2, (0, 0, 255), -1)\n",
    "        # cv2.putText(plot_img, f\"{cX},{cY}\", (cX - 20, cY - 20),\n",
    "        # cv2.FONT_HERSHEY_SIMPLEX, 0.35, (0, 255, 0), 1)\n",
    "\n",
    "        # cv2.putText(plot_img, f\"{cv2.contourArea(c)}\", (cX - 20, cY - 20),\n",
    "        # cv2.FONT_HERSHEY_SIMPLEX, 0.7, (0, 0, 255), 1)\n",
    "\n",
    "    if prev_point is pt:\n",
    "        idx += 1\n",
    "    else:\n",
    "        idx = 0\n",
    "    prev_point = pt\n",
    "\n",
    "\n",
    "    if idx >= 30:\n",
    "        message = 'LOCKED'\n",
    "        color = (0,255,0)\n",
    "    else:\n",
    "        message = 'SEARCHING'\n",
    "        color = (0,0,255)\n",
    "\n",
    "    cv2.putText(plot_img, \"TARGET:\", (25,25), cv2.FONT_HERSHEY_SIMPLEX, 0.75, (0,255,0), 2)\n",
    "    cv2.putText(plot_img, f\"{message}\", (125,25), cv2.FONT_HERSHEY_SIMPLEX, 0.75, color, 2)\n",
    "    cv2.putText(plot_img, f\"Found: {len(sorted_contours)}\", (25,50), cv2.FONT_HERSHEY_SIMPLEX, 0.75, (0,255,0), 2)\n",
    "\n",
    "    #cv2.setWindowProperty('frame', cv2.WND_PROP_FULLSCREEN, cv2.WINDOW_FULLSCREEN)\n",
    "    cv2.imshow('frame',plot_img)\n",
    "    if cv2.waitKey(1) & 0xFF == ord('q'):\n",
    "        break\n",
    "\n",
    "cap.release()\n",
    "#out.release()\n",
    "cv2.destroyAllWindows()\n",
    "\n",
    "centers_cuboids = cont.contour_centers(sorted_contours)\n",
    "\n",
    "# dash.ClearError()\n",
    "# dash.EnableRobot()\n",
    "\n",
    "# utils.default_pos(move)\n",
    "# for center in centers_cuboids:\n",
    "#     X, Y, _ = tf_mtx @ (center[0], center[1], 1)\n",
    "#     move.MovL(X, Y, -70,  0)\n",
    "#     move.MovL(X, Y, -95,  0)\n",
    "#     move.MovL(X, Y, -70,  0)\n",
    "# utils.default_pos(move)\n",
    "\n",
    "#dash.DisableRobot()"
   ]
  },
  {
   "cell_type": "code",
   "execution_count": 9,
   "metadata": {},
   "outputs": [
    {
     "data": {
      "text/plain": [
       "49"
      ]
     },
     "execution_count": 9,
     "metadata": {},
     "output_type": "execute_result"
    }
   ],
   "source": [
    "len(centers_cuboids)"
   ]
  },
  {
   "cell_type": "code",
   "execution_count": 56,
   "metadata": {},
   "outputs": [
    {
     "data": {
      "text/plain": [
       "'0,{},DisableRobot();'"
      ]
     },
     "execution_count": 56,
     "metadata": {},
     "output_type": "execute_result"
    }
   ],
   "source": [
    "dash.DisableRobot()"
   ]
  },
  {
   "cell_type": "code",
   "execution_count": 12,
   "metadata": {},
   "outputs": [
    {
     "data": {
      "text/plain": [
       "'0,{},EnableRobot();'"
      ]
     },
     "execution_count": 12,
     "metadata": {},
     "output_type": "execute_result"
    }
   ],
   "source": [
    "dash.ClearError()\n",
    "dash.EnableRobot()"
   ]
  },
  {
   "cell_type": "code",
   "execution_count": 7,
   "metadata": {},
   "outputs": [
    {
     "data": {
      "text/plain": [
       "'0,{},JointMovJ(0.000000,0.000000,0.000000,0.000000);'"
      ]
     },
     "execution_count": 7,
     "metadata": {},
     "output_type": "execute_result"
    }
   ],
   "source": [
    "for center in centers_cuboids:\n",
    "    X, Y, _ = tf_mtx @ (center[0], center[1], 1)\n",
    "    move.MovL(X, Y, -70,  0)\n",
    "    move.MovL(X, Y, -95,  0)\n",
    "    move.MovL(X, Y, -70,  0)\n",
    "utils.default_pos(move)"
   ]
  },
  {
   "cell_type": "code",
   "execution_count": 6,
   "metadata": {},
   "outputs": [],
   "source": [
    "cap = cv2.VideoCapture(0)\n",
    "cap = cv_core.set_res(cap, (1024, 768))\n",
    "\n",
    "while True:\n",
    "    ret, frame = cap.read()\n",
    "\n",
    "    img = frame.copy()\n",
    "    gray = cv2.cvtColor(img, cv2.COLOR_BGR2GRAY)\n",
    "    # ret, thresh = cv2.threshold(gray,0,255,cv2.THRESH_BINARY+cv2.THRESH_OTSU)\n",
    "    # blur = cv2.GaussianBlur(thresh, (5,5), 0)\n",
    "    # kernel = np.ones((4,4), np.uint8)\n",
    "    # erosion = cv2.erode(blur, kernel, iterations=1)\n",
    "\n",
    "    # kernel = np.ones((3,3),np.uint8)\n",
    "    # #closing = cv2.morphologyEx(thresh, cv2.MORPH_CLOSE, kernel)\n",
    "    # #opening = cv2.morphologyEx(thresh, cv2.MORPH_OPEN, kernel)\n",
    "    # dilation = cv2.dilate(thresh,kernel,iterations = 3)\n",
    "\n",
    "    # blurred = cv2.blur(dilation, (7, 7))\n",
    "    detected_circles = cv2.HoughCircles(image=gray,\n",
    "                                        method=cv2.HOUGH_GRADIENT,\n",
    "                                        dp=1,\n",
    "                                        minDist=30,\n",
    "                                        param1=100,\n",
    "                                        param2=40,\n",
    "                                        minRadius=1,\n",
    "                                        maxRadius=30\n",
    "                                        )\n",
    "\n",
    "    if detected_circles is not None and detected_circles.shape[1] == 96:\n",
    "        break\n",
    "cap.release()\n",
    "plot_img = frame.copy()\n",
    "circles = np.uint16(np.around(detected_circles))\n",
    "for i in circles[0,:]:\n",
    "    center = (i[0], i[1])\n",
    "\n",
    "    cv2.circle(plot_img, center, 1, (255, 0 ,0), 3)\n",
    "    radius = i[2]\n",
    "    cv2.circle(plot_img, center, radius, (0, 255 ,0), 3)\n",
    "\n",
    "cv2.imshow('frame', plot_img)\n",
    "cv2.waitKey(0)\n",
    "cv2.destroyAllWindows()"
   ]
  },
  {
   "cell_type": "code",
   "execution_count": 7,
   "metadata": {},
   "outputs": [],
   "source": [
    "well_centers = circles[0][:,:-1]\n",
    "well_centers = np.array(sorted(well_centers, key = lambda x: x[1]))\n",
    "well_centers = np.split(well_centers, 12)\n",
    "well_centers = np.concatenate(np.array([sorted(wells, key = lambda y: y[0]) for wells in well_centers]))"
   ]
  },
  {
   "cell_type": "code",
   "execution_count": 9,
   "metadata": {},
   "outputs": [
    {
     "data": {
      "text/plain": [
       "'0,{},MovL(345.072610,-49.365929,-70.000000,0.000000);'"
      ]
     },
     "execution_count": 9,
     "metadata": {},
     "output_type": "execute_result"
    }
   ],
   "source": [
    "dash.ClearError()\n",
    "dash.EnableRobot()\n",
    "\n",
    "for center in well_centers:\n",
    "    X, Y, _ = tf_mtx @ (center[0], center[1], 1)\n",
    "    move.MovL(X, Y, -70,  0)\n",
    "    time.sleep(0.15)\n",
    "    move.MovL(X, Y, -80,  0)\n",
    "    time.sleep(0.15)\n",
    "    move.MovL(X, Y, -70,  0)\n",
    "    time.sleep(0.15)\n",
    "utils.default_pos(move)"
   ]
  },
  {
   "cell_type": "code",
   "execution_count": 49,
   "metadata": {},
   "outputs": [
    {
     "name": "stdout",
     "output_type": "stream",
     "text": [
      "(48, 2)\n"
     ]
    }
   ],
   "source": [
    "print(well_centers[48:].shape)"
   ]
  },
  {
   "cell_type": "code",
   "execution_count": 31,
   "metadata": {},
   "outputs": [
    {
     "name": "stdout",
     "output_type": "stream",
     "text": [
      "\n",
      "|CODE: 50|\n",
      "__________________________________________________\n",
      "Possible reasons from ALARM SERVO:\n",
      "Invalid velocity or acceleration values.\n",
      "__________________________________________________\n",
      "Possible reasons from ALARM CONTROLLER:\n",
      "Joint3 overspeed.\n"
     ]
    }
   ],
   "source": [
    "utils.report_error(dash)"
   ]
  },
  {
   "cell_type": "code",
   "execution_count": 15,
   "metadata": {},
   "outputs": [
    {
     "name": "stdout",
     "output_type": "stream",
     "text": [
      "Position saved!\n",
      "Position saved!\n",
      "Position saved!\n",
      "Position saved!\n",
      "Special key pressed: Key.esc\n"
     ]
    }
   ],
   "source": [
    "keys = utils.Keyboard(dash)\n",
    "keys.execute()\n",
    "xys = [(arr[0], arr[1]) for arr in keys.coords]"
   ]
  },
  {
   "cell_type": "code",
   "execution_count": 16,
   "metadata": {},
   "outputs": [
    {
     "data": {
      "text/plain": [
       "[array([ 344.984307, -114.147626,  -85.914696,    7.495909]),\n",
       " array([ 245.974027, -113.540254,  -82.485573,    1.026354]),\n",
       " array([246.632716, -49.664539, -81.510056,  14.440699]),\n",
       " array([345.928205, -50.466672, -82.685738,  17.520424])]"
      ]
     },
     "execution_count": 16,
     "metadata": {},
     "output_type": "execute_result"
    }
   ],
   "source": [
    "keys.coords"
   ]
  },
  {
   "cell_type": "code",
   "execution_count": 17,
   "metadata": {},
   "outputs": [],
   "source": [
    "robot_coor = utils.assign_corners(xys, reverse=True)"
   ]
  },
  {
   "cell_type": "code",
   "execution_count": 18,
   "metadata": {},
   "outputs": [],
   "source": [
    "mean_ux = np.mean([robot_coor['ul'][0], robot_coor['ur'][0]])\n",
    "mean_lx = np.mean([robot_coor['ll'][0], robot_coor['lr'][0]])\n",
    "\n",
    "mean_uy = np.mean([robot_coor['ur'][1], robot_coor['lr'][1]])\n",
    "mean_ly = np.mean([robot_coor['ll'][1], robot_coor['ul'][1]])"
   ]
  },
  {
   "cell_type": "code",
   "execution_count": 19,
   "metadata": {},
   "outputs": [],
   "source": [
    "well_plate_xs = np.linspace(mean_ux, mean_lx, 12)\n",
    "well_plate_ys = np.linspace(mean_uy, mean_ly, 8)"
   ]
  },
  {
   "cell_type": "code",
   "execution_count": 20,
   "metadata": {},
   "outputs": [
    {
     "data": {
      "text/plain": [
       "'0,{},JointMovJ(0.000000,0.000000,0.000000,0.000000);'"
      ]
     },
     "execution_count": 20,
     "metadata": {},
     "output_type": "execute_result"
    }
   ],
   "source": [
    "dash.ClearError()\n",
    "dash.EnableRobot()\n",
    "\n",
    "utils.default_pos(move)\n",
    "for x in well_plate_xs:\n",
    "    for y in well_plate_ys:\n",
    "        move.MovL(x, y, -70,  0)\n",
    "        time.sleep(0.15)\n",
    "        move.MovL(x, y, -80,  0)\n",
    "        time.sleep(0.15)\n",
    "        move.MovL(x, y, -70,  0)\n",
    "        time.sleep(0.15)\n",
    "\n",
    "utils.default_pos(move)"
   ]
  },
  {
   "cell_type": "code",
   "execution_count": 21,
   "metadata": {},
   "outputs": [
    {
     "data": {
      "text/plain": [
       "'0,{},JointMovJ(0.000000,0.000000,0.000000,0.000000);'"
      ]
     },
     "execution_count": 21,
     "metadata": {},
     "output_type": "execute_result"
    }
   ],
   "source": [
    "move.JointMovJ(0,0,0,0)"
   ]
  },
  {
   "cell_type": "code",
   "execution_count": 44,
   "metadata": {},
   "outputs": [],
   "source": [
    "well_plate_coords = np.concatenate(np.stack(np.meshgrid(well_plate_xs, well_plate_ys), axis = 2))"
   ]
  },
  {
   "cell_type": "code",
   "execution_count": 55,
   "metadata": {},
   "outputs": [
    {
     "data": {
      "text/plain": [
       "'0,{},JointMovJ(0.000000,0.000000,0.000000,0.000000);'"
      ]
     },
     "execution_count": 55,
     "metadata": {},
     "output_type": "execute_result"
    }
   ],
   "source": [
    "dash.ClearError()\n",
    "dash.EnableRobot()\n",
    "\n",
    "utils.default_pos(move)\n",
    "for idx, center in enumerate(centers_cuboids):\n",
    "    X, Y, _ = tf_mtx @ (center[0], center[1], 1)\n",
    "    move.MovL(X, Y, -70,  0)\n",
    "    time.sleep(0.5)\n",
    "    move.MovL(X, Y, -95,  0)\n",
    "    time.sleep(0.5)\n",
    "    move.MovL(X, Y, -70,  0)\n",
    "    time.sleep(0.5)\n",
    "    \n",
    "    x,y = well_plate_coords[idx]\n",
    "    move.MovL(x, y, -70,  0)\n",
    "    time.sleep(0.5)\n",
    "    move.MovL(x, y, -90,  0)\n",
    "    time.sleep(0.5)\n",
    "    move.MovL(x, y, -70,  0)\n",
    "    time.sleep(0.5)\n",
    "\n",
    "utils.default_pos(move)"
   ]
  }
 ],
 "metadata": {
  "kernelspec": {
   "display_name": "Python ('robot')",
   "language": "python",
   "name": "python3"
  },
  "language_info": {
   "codemirror_mode": {
    "name": "ipython",
    "version": 3
   },
   "file_extension": ".py",
   "mimetype": "text/x-python",
   "name": "python",
   "nbconvert_exporter": "python",
   "pygments_lexer": "ipython3",
   "version": "3.9.12"
  },
  "orig_nbformat": 4,
  "vscode": {
   "interpreter": {
    "hash": "d173b489ab521b9601af30cf6d3a545463870cf66e6f35e203379ef2b30a8bb1"
   }
  }
 },
 "nbformat": 4,
 "nbformat_minor": 2
}
