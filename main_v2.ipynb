{
 "cells": [
  {
   "cell_type": "code",
   "execution_count": 1,
   "metadata": {},
   "outputs": [],
   "source": [
    "from deps.dobot_api import DobotApiDashboard, DobotApiMove\n",
    "from deps import utils\n",
    "from deps import cv_core\n",
    "import numpy as np\n",
    "import matplotlib.pyplot as plt\n",
    "import cv2\n",
    "from pynput import keyboard\n",
    "import time\n",
    "import ipyparallel as ipp"
   ]
  },
  {
   "cell_type": "code",
   "execution_count": null,
   "metadata": {},
   "outputs": [],
   "source": []
  },
  {
   "cell_type": "code",
   "execution_count": 2,
   "metadata": {},
   "outputs": [
    {
     "name": "stdout",
     "output_type": "stream",
     "text": [
      "Starting 1 engines with <class 'ipyparallel.cluster.launcher.LocalEngineSetLauncher'>\n",
      "100%|██████████| 1/1 [00:05<00:00,  5.52s/engine]\n"
     ]
    }
   ],
   "source": [
    "rc = ipp.Cluster(n=1).start_and_connect_sync()\n",
    "e0 = rc[0]\n",
    "e0.block = False\n",
    "e0.activate('0')"
   ]
  },
  {
   "cell_type": "code",
   "execution_count": 46,
   "metadata": {},
   "outputs": [],
   "source": [
    "dash = DobotApiDashboard('192.168.1.6', 29999)\n",
    "move = DobotApiMove('192.168.1.6', 30003)\n",
    "#keys = utils.Keyboard(dash)"
   ]
  },
  {
   "cell_type": "code",
   "execution_count": 47,
   "metadata": {},
   "outputs": [
    {
     "data": {
      "text/plain": [
       "'0,{},EnableRobot();'"
      ]
     },
     "execution_count": 47,
     "metadata": {},
     "output_type": "execute_result"
    }
   ],
   "source": [
    "dash.ClearError()\n",
    "dash.EnableRobot()"
   ]
  },
  {
   "cell_type": "code",
   "execution_count": 21,
   "metadata": {},
   "outputs": [
    {
     "name": "stdout",
     "output_type": "stream",
     "text": [
      "Position saved!\n",
      "Position saved!\n",
      "Position saved!\n",
      "Position saved!\n",
      "Special key pressed: Key.esc\n"
     ]
    }
   ],
   "source": [
    "keys = utils.Keyboard(dash)\n",
    "keys.execute()"
   ]
  },
  {
   "cell_type": "code",
   "execution_count": 22,
   "metadata": {},
   "outputs": [],
   "source": [
    "well_plate = utils.assign_corners(keys.coords, reverse=True)\n",
    "left_side_points = np.linspace(well_plate['ul'], well_plate['ll'], 12)[:,:2]\n",
    "right_side_points = np.linspace(well_plate['ur'], well_plate['lr'], 12)[:,:2]\n",
    "grid = []\n",
    "for i in range(len(left_side_points)):\n",
    "    x1, y1 = left_side_points[i]\n",
    "    x2, y2 = right_side_points[i]\n",
    "    a = (x2-x1)/(y2-y1)\n",
    "    b = x1 - a*y1\n",
    "    ys = np.linspace(y1,y2,8) \n",
    "    xs = a*ys + b\n",
    "    grid += (list(zip(xs,ys)))"
   ]
  },
  {
   "cell_type": "code",
   "execution_count": 47,
   "metadata": {},
   "outputs": [],
   "source": [
    "dash.ClearError()\n",
    "dash.EnableRobot()\n",
    "for coord in grid:\n",
    "    x,y = coord\n",
    "    move.MovL(x,y,-60,0)\n",
    "    move.Sync()\n",
    "    move.MovL(x,y,-80,0)\n",
    "    move.Sync()\n",
    "    move.MovL(x,y,-60,0)\n",
    "    move.Sync()"
   ]
  },
  {
   "cell_type": "code",
   "execution_count": 132,
   "metadata": {},
   "outputs": [],
   "source": [
    "xs = np.linspace(keys.coords[0][0], keys.coords[1][0], 8)\n",
    "ys = np.linspace(keys.coords[0][1], keys.coords[1][1], 8)\n",
    "\n",
    "for i, y in enumerate(ys):\n",
    "    move.MovL(xs[i],y,-60,0)\n",
    "    move.Sync()\n",
    "    move.MovL(xs[i],y,-87,0)\n",
    "    move.Sync()\n",
    "    move.MovL(xs[i],y,-60,0)\n",
    "    move.Sync()"
   ]
  },
  {
   "cell_type": "code",
   "execution_count": 30,
   "metadata": {},
   "outputs": [],
   "source": [
    "dash.SpeedL(95)\n",
    "for i in range(10):\n",
    "    move.MovL(350, 0,0,0)\n",
    "    move.MovL(250, 0, 0 ,0)\n",
    "    move.Sync()"
   ]
  },
  {
   "cell_type": "code",
   "execution_count": 8,
   "metadata": {},
   "outputs": [
    {
     "data": {
      "text/plain": [
       "'0,{},MovJ(220.000000,100.000000,50.000000,0.000000);'"
      ]
     },
     "execution_count": 8,
     "metadata": {},
     "output_type": "execute_result"
    }
   ],
   "source": [
    "\n",
    "move.MovJ(220,100,50,0)"
   ]
  },
  {
   "cell_type": "code",
   "execution_count": 37,
   "metadata": {},
   "outputs": [
    {
     "data": {
      "text/plain": [
       "'0,{3.198121,31.791796,56.391380,-0.024719,0.000000,0.000000},GetAngle();'"
      ]
     },
     "execution_count": 37,
     "metadata": {},
     "output_type": "execute_result"
    }
   ],
   "source": [
    "dash.GetAngle()"
   ]
  },
  {
   "cell_type": "code",
   "execution_count": 129,
   "metadata": {},
   "outputs": [
    {
     "data": {
      "text/plain": [
       "'0,{},Sync();0,{},MovL(278.608141,-139.504253,-95.000000,0.000000);'"
      ]
     },
     "execution_count": 129,
     "metadata": {},
     "output_type": "execute_result"
    }
   ],
   "source": [
    "dash.ClearError()\n",
    "dash.EnableRobot()\n",
    "#utils.correct_J4_angle(0, dash, move)\n",
    "#move.RelJointMovJ(0,0,0,100,0,0)\n",
    "#move.RelJointMovJ(0,0,0,60,0,0)\n",
    "move.MovL(300, -20, -90,  0)"
   ]
  },
  {
   "cell_type": "code",
   "execution_count": 21,
   "metadata": {},
   "outputs": [
    {
     "name": "stdout",
     "output_type": "stream",
     "text": [
      "X = 287.026297\n",
      "Y = 9.547903\n",
      "Z = -89.366798\n",
      "r = 101.883568\n"
     ]
    },
    {
     "data": {
      "text/plain": [
       "array([287.026297,   9.547903, -89.366798, 101.883568])"
      ]
     },
     "execution_count": 21,
     "metadata": {},
     "output_type": "execute_result"
    }
   ],
   "source": [
    "utils.get_pose(dash)"
   ]
  },
  {
   "cell_type": "code",
   "execution_count": 32,
   "metadata": {},
   "outputs": [],
   "source": [
    "dash.SpeedJ(95)\n",
    "for i in range(10):\n",
    "    move.RelMovJ(0,0,0,90)\n",
    "    move.RelMovJ(0,0,0,-90)\n",
    "    move.Sync()"
   ]
  },
  {
   "cell_type": "code",
   "execution_count": 56,
   "metadata": {},
   "outputs": [
    {
     "data": {
      "text/plain": [
       "'0,{},DisableRobot();'"
      ]
     },
     "execution_count": 56,
     "metadata": {},
     "output_type": "execute_result"
    }
   ],
   "source": [
    "dash.DisableRobot()"
   ]
  },
  {
   "cell_type": "code",
   "execution_count": 20,
   "metadata": {},
   "outputs": [],
   "source": [
    "manmove = utils.ManualMove(move, dash)\n",
    "manmove.execute()"
   ]
  },
  {
   "cell_type": "code",
   "execution_count": 7,
   "metadata": {},
   "outputs": [
    {
     "data": {
      "text/plain": [
       "[array([251.906637, -20.562883, -90.098404,  -2.104246]),\n",
       " array([299.749476, -20.560973, -90.091187,  -2.104246]),\n",
       " array([307.674435,  39.513099, -90.083763,  -2.104259]),\n",
       " array([260.530755,  39.508798, -90.073135,  -2.104261])]"
      ]
     },
     "execution_count": 7,
     "metadata": {},
     "output_type": "execute_result"
    }
   ],
   "source": [
    "manmove.coords"
   ]
  },
  {
   "cell_type": "code",
   "execution_count": 3,
   "metadata": {},
   "outputs": [
    {
     "data": {
      "text/plain": [
       "'0,{},MovL(250.000000,0.000000,-90.000000,0.000000);'"
      ]
     },
     "execution_count": 3,
     "metadata": {},
     "output_type": "execute_result"
    }
   ],
   "source": [
    "utils.calib_pos(move)"
   ]
  },
  {
   "cell_type": "code",
   "execution_count": 22,
   "metadata": {},
   "outputs": [
    {
     "data": {
      "text/plain": [
       "<AsyncResult(%px): pending>"
      ]
     },
     "execution_count": 22,
     "metadata": {},
     "output_type": "execute_result"
    }
   ],
   "source": [
    "%%px0\n",
    "from deps import utils\n",
    "from deps.dobot_api import DobotApiDashboard, DobotApiMove\n",
    "dash = DobotApiDashboard('192.168.1.6', 29999)\n",
    "move = DobotApiMove('192.168.1.6', 30003)\n",
    "manmove = utils.ManualMove(move, dash)\n",
    "manmove.execute()\n",
    "coords = manmove.coords"
   ]
  },
  {
   "cell_type": "code",
   "execution_count": 23,
   "metadata": {},
   "outputs": [
    {
     "name": "stderr",
     "output_type": "stream",
     "text": [
      "[ WARN:0@418.942] global /opt/conda/conda-bld/opencv-suite_1656606573658/work/modules/videoio/src/cap_gstreamer.cpp (862) isPipelinePlaying OpenCV | GStreamer warning: GStreamer: pipeline have not been created\n"
     ]
    }
   ],
   "source": [
    "def draw_cross(w,h,frame):\n",
    "    w = int(w)\n",
    "    h = int(h)\n",
    "    frame[h-5:h+6, w-1:w+2] = [0, 255, 0]\n",
    "    frame[h-1:h+2, w-5:w+6] = [0, 255, 0]\n",
    "    return frame\n",
    "\n",
    "cameraMatrix = np.load('./cam_matrices/cam_mtx.npy')\n",
    "dist = np.load('./cam_matrices/dist.npy')\n",
    "newCameraMatrix = np.load('./cam_matrices/newcam_mtx.npy')\n",
    "\n",
    "cap = cv2.VideoCapture(0)\n",
    "cap = cv_core.set_res(cap, cv_core.camera_res_dict['1200'])\n",
    "cv2.namedWindow('frame',  cv2.WINDOW_NORMAL)\n",
    "cv2.resizeWindow('frame', 1348, 1011)\n",
    "\n",
    "coords = []\n",
    "\n",
    "while(True):\n",
    "    ret, frame = cap.read()\n",
    "    h,w = frame.shape[:-1]\n",
    "    frame = cv2.undistort(frame, cameraMatrix, dist, None, newCameraMatrix)\n",
    "    # gray = cv2.cvtColor(frame, cv2.COLOR_BGR2GRAY)s\n",
    "\n",
    "    # dst = cv2.cornerHarris(gray, blockSize=2, ksize=3, k=0.04)\n",
    "    # frame[dst > 0.01 * dst.max()] = [0, 255, 0]\n",
    "    frame = draw_cross(w/2, h/2, frame)\n",
    "    frame = draw_cross(w/4, h/4, frame)\n",
    "    frame = draw_cross(3*w/4, h/4, frame)\n",
    "    frame = draw_cross(w/4, 3*h/4, frame)\n",
    "    frame = draw_cross(3*w/4, 3*h/4, frame)\n",
    "    cv2.imshow('frame',frame)\n",
    "\n",
    "    k = cv2.waitKey(1)\n",
    "    if k == ord('q'):\n",
    "        break\n",
    "\n",
    "cap.release()\n",
    "cv2.destroyAllWindows()"
   ]
  },
  {
   "cell_type": "code",
   "execution_count": 5,
   "metadata": {},
   "outputs": [
    {
     "data": {
      "text/plain": [
       "[array([256.062558, -17.195119, -90.033806, -17.456869]),\n",
       " array([297.919911, -17.01596 , -90.018532, -17.456888]),\n",
       " array([304.430722,  37.666581, -90.009521, -17.456944]),\n",
       " array([263.810049,  37.101424, -89.996956, -17.457005])]"
      ]
     },
     "execution_count": 5,
     "metadata": {},
     "output_type": "execute_result"
    }
   ],
   "source": [
    "ar = e0.pull('coords')\n",
    "coords = ar.get()\n",
    "coords"
   ]
  },
  {
   "cell_type": "code",
   "execution_count": 22,
   "metadata": {},
   "outputs": [
    {
     "name": "stderr",
     "output_type": "stream",
     "text": [
      "[ WARN:0@2017.813] global /opt/conda/conda-bld/opencv-suite_1656606573658/work/modules/videoio/src/cap_gstreamer.cpp (862) isPipelinePlaying OpenCV | GStreamer warning: GStreamer: pipeline have not been created\n"
     ]
    }
   ],
   "source": [
    "cap = cv2.VideoCapture(0)\n",
    "cap = cv_core.set_res(cap, cv_core.camera_res_dict['1200'])\n",
    "\n",
    "cameraMatrix = np.load('./cam_matrices/cam_mtx.npy')\n",
    "dist = np.load('./cam_matrices/dist.npy')\n",
    "newCameraMatrix = np.load('./cam_matrices/newcam_mtx.npy')\n",
    "\n",
    "cv2.namedWindow('frame',  cv2.WINDOW_NORMAL)\n",
    "cv2.resizeWindow('frame', 1348, 1011)\n",
    "template = cv2.imread('template.png', 0)\n",
    "\n",
    "# anchors = [np.array([260,  40, -90,  0]),\n",
    "#  np.array([250, -20, -90,  0]),\n",
    "#  np.array([300, -20, -90,  0]),\n",
    "#  np.array([307,  40, -90,  0])]\n",
    "\n",
    "anchors = [np.array([307,  40, -90,  0]),\n",
    " np.array([260,  40, -90,  0]),\n",
    " np.array([250, -20, -90,  0]),\n",
    " np.array([300, -20, -90,  0])]\n",
    "\n",
    "frame_num = 0\n",
    "inter_idx = 0\n",
    "recorded = []\n",
    "x,y,z,r = anchors[0]\n",
    "# move.MovL(x,y,z,r)\n",
    "while(True):\n",
    "\n",
    "\n",
    "    ret, frame = cap.read()\n",
    "    frame = cv2.undistort(frame, cameraMatrix, dist, None, newCameraMatrix)\n",
    "    gray = cv2.cvtColor(frame, cv2.COLOR_BGR2GRAY)\n",
    "    plot_img = frame.copy()\n",
    "    gray_copy = gray.copy()\n",
    "\n",
    "    res = cv2.matchTemplate(gray_copy,template, cv2.TM_CCOEFF_NORMED)\n",
    "    min_val, max_val, min_loc, max_loc = cv2.minMaxLoc(res)\n",
    "    top_left = max_loc\n",
    "    bottom_right = (top_left[0] + w, top_left[1] + h)\n",
    "    cv2.rectangle(plot_img,top_left, bottom_right, 255, 2)\n",
    "\n",
    "    # if frame_num % 15 == 0:\n",
    "    #     x,y,z,r = anchors[inter_idx]\n",
    "    #     move.MovL(x,y,z,r)\n",
    "    #     move.Sync()\n",
    "    #     inter_idx+=1\n",
    "    #     if inter_idx == 4:\n",
    "    #         inter_idx = 0\n",
    "    #     if len(recorded) < 4:\n",
    "    #         ret, frame = cap.read()\n",
    "    #         frame = cv2.undistort(frame, cameraMatrix, dist, None, newCameraMatrix)\n",
    "    #         plot_img = frame.copy()\n",
    "    #         gray = cv2.cvtColor(frame, cv2.COLOR_BGR2GRAY)\n",
    "    #         (minVal, maxVal, minLoc, maxLoc)=cv2.minMaxLoc(gray)\n",
    "    #         recorded.append(maxLoc)\n",
    "\n",
    "    # frame_num += 1\n",
    "\n",
    "    # for anchor in recorded:\n",
    "    #     cv2.circle(plot_img, anchor, 5, (255, 0, 0), 2)\n",
    "\n",
    "    cv2.imshow('frame',plot_img)\n",
    "    if cv2.waitKey(1) & 0xFF == ord('q'):\n",
    "        break\n",
    "\n",
    "cap.release()\n",
    "\n",
    "# for anchor in recorded:\n",
    "#     cv2.circle(frame, anchor, 5, (0, 255, 0), 2)\n",
    "cv2.imshow('frame',frame)\n",
    "cv2.waitKey(0)\n",
    "cv2.destroyAllWindows()"
   ]
  },
  {
   "cell_type": "code",
   "execution_count": 28,
   "metadata": {},
   "outputs": [
    {
     "name": "stderr",
     "output_type": "stream",
     "text": [
      "[ WARN:0@2223.131] global /opt/conda/conda-bld/opencv-suite_1656606573658/work/modules/videoio/src/cap_gstreamer.cpp (862) isPipelinePlaying OpenCV | GStreamer warning: GStreamer: pipeline have not been created\n",
      "[ WARN:0@2226.004] global /opt/conda/conda-bld/opencv-suite_1656606573658/work/modules/videoio/src/cap_gstreamer.cpp (862) isPipelinePlaying OpenCV | GStreamer warning: GStreamer: pipeline have not been created\n",
      "[ WARN:0@2228.271] global /opt/conda/conda-bld/opencv-suite_1656606573658/work/modules/videoio/src/cap_gstreamer.cpp (862) isPipelinePlaying OpenCV | GStreamer warning: GStreamer: pipeline have not been created\n",
      "[ WARN:0@2230.467] global /opt/conda/conda-bld/opencv-suite_1656606573658/work/modules/videoio/src/cap_gstreamer.cpp (862) isPipelinePlaying OpenCV | GStreamer warning: GStreamer: pipeline have not been created\n"
     ]
    }
   ],
   "source": [
    "anchors = [np.array([307,  40, -90,  0]),\n",
    "           np.array([260,  40, -90,  0]),\n",
    "           np.array([250, -20, -90,  0]),\n",
    "           np.array([300, -20, -90,  0])]\n",
    "\n",
    "cameraMatrix = np.load('./cam_matrices/cam_mtx.npy')\n",
    "dist = np.load('./cam_matrices/dist.npy')\n",
    "newCameraMatrix = np.load('./cam_matrices/newcam_mtx.npy')\n",
    "template = cv2.imread('template.png', 0)\n",
    "w, h = template.shape[::-1]\n",
    "\n",
    "# cap = cv2.VideoCapture(0)\n",
    "# cap = cv_core.set_res(cap, cv_core.camera_res_dict['1200'])\n",
    "\n",
    "# cv2.namedWindow('frame',  cv2.WINDOW_NORMAL)\n",
    "# cv2.resizeWindow('frame', 1348, 1011)\n",
    "\n",
    "dash.ClearError()\n",
    "dash.EnableRobot()\n",
    "\n",
    "\n",
    "recorded = []\n",
    "for anchor in anchors:\n",
    "    x,y,z,r = anchor\n",
    "    move.MovL(x,y,z,r)\n",
    "    move.Sync()\n",
    "\n",
    "    #while(True):\n",
    "    cap = cv2.VideoCapture(0)\n",
    "    cap = cv_core.set_res(cap, cv_core.camera_res_dict['1200'])\n",
    "\n",
    "    cv2.namedWindow('frame',  cv2.WINDOW_NORMAL)\n",
    "    cv2.resizeWindow('frame', 1348, 1011)\n",
    "\n",
    "    ret, frame = cap.read()\n",
    "    frame = cv2.undistort(frame, cameraMatrix, dist, None, newCameraMatrix)\n",
    "    plot_img = frame.copy()\n",
    "    gray = cv2.cvtColor(frame, cv2.COLOR_BGR2GRAY)\n",
    "    (minVal, maxVal, minLoc, maxLoc)=cv2.minMaxLoc(gray)\n",
    "\n",
    "    res = cv2.matchTemplate(gray,template, cv2.TM_CCOEFF_NORMED)\n",
    "    min_val, max_val, min_loc, max_loc = cv2.minMaxLoc(res)\n",
    "    top_left = max_loc\n",
    "    bottom_right = (top_left[0] + w, top_left[1] + h)\n",
    "\n",
    "    mask = np.zeros_like(frame)\n",
    "    cv2.rectangle(mask,top_left, bottom_right, (255,255,255), -1)\n",
    "    result = cv2.bitwise_and(frame.astype('uint8'), mask.astype('uint8'))\n",
    "    gray_result = cv2.cvtColor(result, cv2.COLOR_BGR2GRAY)\n",
    "    ret, thresh = cv2.threshold(gray_result,240,255,cv2.THRESH_BINARY)\n",
    "    M = cv2.moments(thresh)\n",
    "    if M[\"m00\"] != 0:\n",
    "        cX = int(M[\"m10\"] / M[\"m00\"])\n",
    "        cY = int(M[\"m01\"] / M[\"m00\"])\n",
    "        cv2.circle(plot_img, (cX, cY), 5, (0, 255, 0), 2)\n",
    "        recorded.append((cX, cY))\n",
    "\n",
    "    #cv2.circle(plot_img, maxLoc, 5, (0, 255, 0), 2)\n",
    "    cv2.imshow('frame',plot_img)\n",
    "    cv2.waitKey(0)\n",
    "    cap.release()\n",
    "    #cv2.destroyAllWindows()\n",
    "    # if cv2.waitKey(1) & 0xFF == ord('q'):\n",
    "    #     break\n",
    "    \n",
    "    #recorded.append(maxLoc)\n",
    "#cap.release()\n",
    "cv2.destroyAllWindows()"
   ]
  },
  {
   "cell_type": "code",
   "execution_count": 23,
   "metadata": {},
   "outputs": [
    {
     "data": {
      "text/plain": [
       "'0,{},RelMovJ(0.000000,0.000000,0.000000,300.000000);'"
      ]
     },
     "execution_count": 23,
     "metadata": {},
     "output_type": "execute_result"
    }
   ],
   "source": [
    "move.RelMovJ(0,  0, 0,  300)"
   ]
  },
  {
   "cell_type": "code",
   "execution_count": 24,
   "metadata": {},
   "outputs": [
    {
     "name": "stdout",
     "output_type": "stream",
     "text": [
      "X = 233.030666\n",
      "Y = 34.727492\n",
      "Z = 22.414635\n",
      "r = 358.830139\n"
     ]
    },
    {
     "data": {
      "text/plain": [
       "array([233.030666,  34.727492,  22.414635, 358.830139])"
      ]
     },
     "execution_count": 24,
     "metadata": {},
     "output_type": "execute_result"
    }
   ],
   "source": [
    "utils.get_pose(dash)"
   ]
  },
  {
   "cell_type": "code",
   "execution_count": 29,
   "metadata": {},
   "outputs": [],
   "source": [
    "# w = 1600\n",
    "# h = 1200\n",
    "xys = [(arr[0], arr[1]) for arr in anchors]\n",
    "robot_coor = utils.assign_corners(xys, reverse=True)\n",
    "#pix_coor = utils.assign_corners([(w/4, h/4), (3*w/4, h/4), (w/4, 3*h/4), (3*w/4, 3*h/4)])\n",
    "pix_coor = utils.assign_corners(recorded)\n",
    "\n",
    "features_mm_to_pixels_dict = {}\n",
    "for key, value in robot_coor.items():\n",
    "    features_mm_to_pixels_dict[value] = pix_coor[key]\n",
    "\n",
    "\n",
    "tf_mtx = cv_core.compute_tf_mtx(features_mm_to_pixels_dict)"
   ]
  },
  {
   "cell_type": "code",
   "execution_count": 54,
   "metadata": {},
   "outputs": [
    {
     "name": "stderr",
     "output_type": "stream",
     "text": [
      "[ WARN:0@3676.347] global /opt/conda/conda-bld/opencv-suite_1656606573658/work/modules/videoio/src/cap_gstreamer.cpp (862) isPipelinePlaying OpenCV | GStreamer warning: GStreamer: pipeline have not been created\n"
     ]
    }
   ],
   "source": [
    "cont = cv_core.Contours()\n",
    "\n",
    "def on_change(val): pass\n",
    "\n",
    "offset = 40\n",
    "cap = cv2.VideoCapture(0)\n",
    "cap = cv_core.set_res(cap, cv_core.camera_res_dict['1200'])\n",
    "\n",
    "cameraMatrix = np.load('./cam_matrices/cam_mtx.npy')\n",
    "dist = np.load('./cam_matrices/dist.npy')\n",
    "newCameraMatrix = np.load('./cam_matrices/newcam_mtx.npy')\n",
    "\n",
    "cv2.namedWindow('frame',  cv2.WINDOW_NORMAL)\n",
    "cv2.resizeWindow('frame', 1348, 1011)\n",
    "cv2.createTrackbar('Manual Lock', 'frame', 0, 1, on_change)\n",
    "cv2.createTrackbar('Mask Offset', 'frame', offset, 150, on_change)\n",
    "cv2.setMouseCallback('frame', cont.mousecallback)\n",
    "\n",
    "idx = 0\n",
    "prev_point = (0,0,0)\n",
    "while(True):\n",
    "    ret, frame = cap.read()\n",
    "    frame = cv2.undistort(frame, cameraMatrix, dist, None, newCameraMatrix)\n",
    "    val = cv2.getTrackbarPos('Manual Lock', 'frame')\n",
    "    offset = cv2.getTrackbarPos('Mask Offset', 'frame')\n",
    "    if val == 1:\n",
    "        cont.locked = True\n",
    "    else:\n",
    "        cont.locked = False\n",
    "\n",
    "    if cont.best_circ is None:\n",
    "        while cont.best_circ is None:\n",
    "            pt = cont.find_contours(frame, 10, offset)\n",
    "    else:\n",
    "        pt = cont.find_contours(frame, 10, offset)\n",
    "        \n",
    "    a,b,r = pt\n",
    "    plot_img = frame.copy()\n",
    "    cv2.circle(plot_img, (a, b), r, (3, 162, 255), 2)\n",
    "    cv2.circle(plot_img, (a, b), 1, (0, 0, 255), 3)\n",
    "    cv2.circle(plot_img, (a, b), r - offset, (0, 255, 0), 2)\n",
    "    cv2.circle(plot_img, cont.big_circ[:2], cont.big_circ[2], (0, 0, 255), 2)\n",
    "    cv2.putText(plot_img, f\"{cont.big_circ[2]*2}px = 60mm\", (cont.big_circ[0]-25, cont.big_circ[1] - cont.big_circ[2] - 10),\n",
    "        cv2.FONT_HERSHEY_SIMPLEX, 0.75, (0, 0, 255), 2)\n",
    "    \n",
    "    cv2.drawContours(plot_img, cont.singular, -1,(0,255, 0),2)\n",
    "    cv2.drawContours(plot_img, cont.clusters, -1,(0,0,255),2)\n",
    "\n",
    "    if cont.selected:\n",
    "        cv2.drawContours(plot_img, cont.selected, -1,(255,0,0),2)\n",
    "\n",
    "    for c in cont.singular:\n",
    "        # compute the center of the contour\n",
    "        M = cv2.moments(c)\n",
    "        cX = int(M[\"m10\"] / M[\"m00\"])\n",
    "        cY = int(M[\"m01\"] / M[\"m00\"])\n",
    "        # draw the contour and center of the shape on the image\n",
    "        #cv2.drawContours(plot_img, [c], -1, (0, 255, 0), 2)\n",
    "        cv2.circle(plot_img, (cX, cY), 2, (0, 0, 255), -1)\n",
    "        # cv2.putText(plot_img, f\"{cX},{cY}\", (cX - 20, cY - 20),\n",
    "        # cv2.FONT_HERSHEY_SIMPLEX, 0.5, (0, 255, 0), 2)\n",
    "\n",
    "        cv2.putText(plot_img, f\"{cv2.contourArea(c)}\", (cX - 20, cY - 20),\n",
    "        cv2.FONT_HERSHEY_SIMPLEX, 0.7, (0, 255, 0), 1)\n",
    "    #out.write(with_contours)\n",
    "\n",
    "    for c in cont.clusters:\n",
    "        # compute the center of the contour\n",
    "        M = cv2.moments(c)\n",
    "        cX = int(M[\"m10\"] / M[\"m00\"])\n",
    "        cY = int(M[\"m01\"] / M[\"m00\"])\n",
    "        # draw the contour and center of the shape on the image\n",
    "        #cv2.drawContours(plot_img, [c], -1, (0, 255, 0), 2)\n",
    "        cv2.circle(plot_img, (cX, cY), 2, (0, 0, 255), -1)\n",
    "        # cv2.putText(plot_img, f\"{cX},{cY}\", (cX - 20, cY - 20),\n",
    "        # cv2.FONT_HERSHEY_SIMPLEX, 0.35, (0, 255, 0), 1)\n",
    "\n",
    "        # cv2.putText(plot_img, f\"{cv2.contourArea(c)}\", (cX - 20, cY - 20),\n",
    "        # cv2.FONT_HERSHEY_SIMPLEX, 0.7, (0, 0, 255), 1)\n",
    "\n",
    "\n",
    "    if prev_point is pt:\n",
    "        idx += 1\n",
    "    else:\n",
    "        idx = 0\n",
    "    prev_point = pt\n",
    "\n",
    "\n",
    "    if idx >= 30:\n",
    "        message = 'LOCKED'\n",
    "        color = (0,255,0)\n",
    "    else:\n",
    "        message = 'SEARCHING'\n",
    "        color = (0,0,255)\n",
    "\n",
    "    cv2.putText(plot_img, \"TARGET:\", (25,25), cv2.FONT_HERSHEY_SIMPLEX, 0.75, (0,255,0), 2)\n",
    "    cv2.putText(plot_img, f\"{message}\", (125,25), cv2.FONT_HERSHEY_SIMPLEX, 0.75, color, 2)\n",
    "    cv2.putText(plot_img, f\"Found: {len(cont.singular)}\", (25,50), cv2.FONT_HERSHEY_SIMPLEX, 0.75, (0,255,0), 2)\n",
    "\n",
    "    #cv2.setWindowProperty('frame', cv2.WND_PROP_FULLSCREEN, cv2.WINDOW_FULLSCREEN)\n",
    "    cv2.imshow('frame',plot_img)\n",
    "    if cv2.waitKey(1) & 0xFF == ord('q'):\n",
    "        break\n",
    "\n",
    "cap.release()\n",
    "cv2.destroyAllWindows()"
   ]
  },
  {
   "cell_type": "code",
   "execution_count": 59,
   "metadata": {},
   "outputs": [
    {
     "name": "stdout",
     "output_type": "stream",
     "text": [
      "276.28277862707824 16.918359994713697\n"
     ]
    }
   ],
   "source": [
    "dash.ClearError()\n",
    "dash.EnableRobot()\n",
    "X, Y, _ = tf_mtx @ (center[0], center[1], 1)\n",
    "print(X,Y)\n",
    "move.MovL(X, Y, -60, 0)\n",
    "utils.correct_J4_angle(0, dash, move)"
   ]
  },
  {
   "cell_type": "code",
   "execution_count": 57,
   "metadata": {},
   "outputs": [
    {
     "name": "stdout",
     "output_type": "stream",
     "text": [
      "X = 276.282774\n",
      "Y = 16.918357\n",
      "Z = -59.999992\n",
      "r = 3.504169\n"
     ]
    },
    {
     "data": {
      "text/plain": [
       "array([276.282774,  16.918357, -59.999992,   3.504169])"
      ]
     },
     "execution_count": 57,
     "metadata": {},
     "output_type": "execute_result"
    }
   ],
   "source": [
    "utils.get_pose(dash)"
   ]
  },
  {
   "cell_type": "code",
   "execution_count": 60,
   "metadata": {},
   "outputs": [
    {
     "name": "stdout",
     "output_type": "stream",
     "text": [
      "X = 276.282774\n",
      "Y = 16.918357\n",
      "Z = -59.999992\n",
      "r = 3.504169\n",
      "X = 276.282774\n",
      "Y = 16.91836\n",
      "Z = -59.999992\n",
      "r = 103.504166\n"
     ]
    },
    {
     "data": {
      "text/plain": [
       "array([276.282774,  16.91836 , -59.999992, 103.504166])"
      ]
     },
     "execution_count": 60,
     "metadata": {},
     "output_type": "execute_result"
    }
   ],
   "source": [
    "x,y,z,r = utils.get_pose(dash)\n",
    "move.MovL(X,Y,-60,r+angles[0])\n",
    "move.Sync()\n",
    "utils.get_pose(dash)"
   ]
  },
  {
   "cell_type": "code",
   "execution_count": 96,
   "metadata": {},
   "outputs": [
    {
     "name": "stdout",
     "output_type": "stream",
     "text": [
      "X = 284.412914\n",
      "Y = -81.050924\n",
      "Z = -78.937172\n",
      "r = -15.9008\n"
     ]
    }
   ],
   "source": [
    "pos2 = utils.get_pose(dash)"
   ]
  },
  {
   "cell_type": "code",
   "execution_count": 51,
   "metadata": {},
   "outputs": [
    {
     "data": {
      "text/plain": [
       "'0,{},MovL(300.000000,-20.000000,-90.000000,0.000000);'"
      ]
     },
     "execution_count": 51,
     "metadata": {},
     "output_type": "execute_result"
    }
   ],
   "source": [
    "dash.ClearError()\n",
    "dash.EnableRobot()\n",
    "move.MovL(300, -20, -90,  0)"
   ]
  },
  {
   "cell_type": "code",
   "execution_count": 55,
   "metadata": {},
   "outputs": [
    {
     "name": "stdout",
     "output_type": "stream",
     "text": [
      "X = 281.199519\n",
      "Y = 1.368729\n",
      "Z = -60.000004\n",
      "r = 0.278883\n",
      "X = 224.578397\n",
      "Y = -138.370443\n",
      "Z = -59.999989\n",
      "r = 128.640244\n",
      "X = 224.578397\n",
      "Y = -138.370443\n",
      "Z = -84.999992\n",
      "r = -31.638643\n",
      "X = 277.695075\n",
      "Y = 7.658427\n",
      "Z = -59.999992\n",
      "r = 1.579734\n",
      "X = 225.502708\n",
      "Y = -130.119314\n",
      "Z = -60.0\n",
      "r = 131.593964\n",
      "X = 225.502681\n",
      "Y = -130.119299\n",
      "Z = -85.000008\n",
      "r = -29.985756\n",
      "X = 271.529993\n",
      "Y = 7.895989\n",
      "Z = -60.000019\n",
      "r = 1.66567\n",
      "X = 226.426991\n",
      "Y = -121.868175\n",
      "Z = -59.999992\n",
      "r = 133.375519\n",
      "X = 226.426991\n",
      "Y = -121.868175\n",
      "Z = -85.000015\n",
      "r = -28.290152\n",
      "X = 273.246595\n",
      "Y = 1.605534\n",
      "Z = -60.000008\n",
      "r = 0.336653\n",
      "X = 227.351267\n",
      "Y = -113.617012\n",
      "Z = -60.000004\n",
      "r = 133.783417\n",
      "X = 227.351267\n",
      "Y = -113.617012\n",
      "Z = -85.0\n",
      "r = -26.55323\n",
      "X = 280.790672\n",
      "Y = 16.026213\n",
      "Z = -60.000023\n",
      "r = 3.26663\n",
      "X = 228.275601\n",
      "Y = -105.365906\n",
      "Z = -59.999981\n",
      "r = 138.489853\n",
      "X = 228.275601\n",
      "Y = -105.365906\n",
      "Z = -84.999992\n",
      "r = -24.776781\n",
      "X = 292.809473\n",
      "Y = 22.841933\n",
      "Z = -60.0\n",
      "r = 4.460584\n",
      "X = 229.199909\n",
      "Y = -97.114774\n",
      "Z = -60.000011\n",
      "r = 141.49762\n",
      "X = 229.199909\n",
      "Y = -97.114774\n",
      "Z = -85.0\n",
      "r = -22.962961\n",
      "X = 279.28937\n",
      "Y = 26.584839\n",
      "Z = -60.0\n",
      "r = 5.437455\n",
      "X = 230.124203\n",
      "Y = -88.863637\n",
      "Z = -60.0\n",
      "r = 144.323135\n",
      "X = 230.124231\n",
      "Y = -88.863648\n",
      "Z = -85.0\n",
      "r = -21.114323\n",
      "X = 280.465962\n",
      "Y = 23.181313\n",
      "Z = -59.999996\n",
      "r = 4.72492\n",
      "X = 231.04844\n",
      "Y = -80.61249\n",
      "Z = -60.000004\n",
      "r = 145.491104\n",
      "X = 231.048428\n",
      "Y = -80.612478\n",
      "Z = -84.999992\n",
      "r = -19.233809\n"
     ]
    }
   ],
   "source": [
    "#centers_cuboids = cont.contour_centers(cont.singular)\n",
    "angles = [200, 240, -250]\n",
    "centers_cuboids = cont.contour_centers(cont.selected)\n",
    "\n",
    "dash.ClearError()\n",
    "dash.EnableRobot()\n",
    "\n",
    "utils.default_pos(move)\n",
    "move.Sync()\n",
    "for idx, center in enumerate(centers_cuboids):\n",
    "    X, Y, _ = tf_mtx @ (center[0], center[1], 1)\n",
    "    move.MovL(X, Y, -60, 0)\n",
    "    move.Sync()\n",
    "    utils.correct_J4_angle(0, dash, move)\n",
    "    move.Sync()\n",
    "    x,y,z,r = utils.get_pose(dash)\n",
    "    # move.MovL(X,Y,-60,r+angles[0])\n",
    "    # move.Sync()\n",
    "    move.MovL(X,Y,-89.5,r)\n",
    "    move.Sync()\n",
    "    move.MovL(X, Y, -89.5,r+160)\n",
    "    move.Sync()\n",
    "    move.MovL(X, Y, -60, r+160)\n",
    "    move.Sync()\n",
    "    x,y = grid[idx+8]\n",
    "    move.MovL(x,y,-60, r+160)\n",
    "    move.Sync()\n",
    "    utils.correct_J4_angle(r+160, dash, move)\n",
    "    move.Sync()\n",
    "    x,y,z,r_new = utils.get_pose(dash)\n",
    "    move.MovL(x, y, -85, r_new)\n",
    "    move.Sync()\n",
    "    utils.correct_J4_angle(0, dash, move)\n",
    "    move.Sync()\n",
    "    x,y,z,r_new = utils.get_pose(dash)\n",
    "    # move.Sync()\n",
    "    move.MovL(x, y, -60, r_new)\n",
    "    move.Sync()\n",
    "\n",
    "#utils.default_pos(move)"
   ]
  },
  {
   "cell_type": "code",
   "execution_count": 30,
   "metadata": {},
   "outputs": [
    {
     "data": {
      "text/plain": [
       "'0,{},MovL(290.412517,1.630035,-90.000000,0.000000);'"
      ]
     },
     "execution_count": 30,
     "metadata": {},
     "output_type": "execute_result"
    }
   ],
   "source": [
    "xs = np.linspace(keys.coords[0][0], keys.coords[1][0], 8)\n",
    "ys = np.linspace(keys.coords[0][1], keys.coords[1][1], 8)\n",
    "\n",
    "for i, y in enumerate(ys):\n",
    "    move.MovL(xs[i],y,-60,0)\n",
    "    move.Sync()\n",
    "    move.MovL(xs[i],y,-87,0)\n",
    "    move.Sync()\n",
    "    move.MovL(xs[i],y,-60,0)\n",
    "    move.Sync()"
   ]
  },
  {
   "cell_type": "code",
   "execution_count": 72,
   "metadata": {},
   "outputs": [
    {
     "data": {
      "text/plain": [
       "'0,{},MovL(299.999996,-110.000000,-89.999992,0.000000);'"
      ]
     },
     "execution_count": 72,
     "metadata": {},
     "output_type": "execute_result"
    }
   ],
   "source": [
    "dash.ClearError()\n",
    "dash.EnableRobot()\n",
    "dash.AccL(20)\n",
    "dash.SpeedL(20)\n",
    "move.MovL(299.999996, -20.      -90, -89.999992,  0)"
   ]
  },
  {
   "cell_type": "code",
   "execution_count": 34,
   "metadata": {},
   "outputs": [
    {
     "name": "stdout",
     "output_type": "stream",
     "text": [
      "X = 299.999996\n",
      "Y = -20.0\n",
      "Z = -89.999992\n",
      "r = 0.0\n"
     ]
    },
    {
     "data": {
      "text/plain": [
       "array([299.999996, -20.      , -89.999992,   0.      ])"
      ]
     },
     "execution_count": 34,
     "metadata": {},
     "output_type": "execute_result"
    }
   ],
   "source": [
    "utils.get_pose(dash)"
   ]
  },
  {
   "cell_type": "markdown",
   "metadata": {},
   "source": [
    "## Automatic laser detection"
   ]
  },
  {
   "cell_type": "code",
   "execution_count": 18,
   "metadata": {},
   "outputs": [
    {
     "name": "stdout",
     "output_type": "stream",
     "text": [
      "X = 282.801858\n",
      "Y = 18.938397\n",
      "Z = -60.000011\n",
      "r = 0.0\n"
     ]
    },
    {
     "data": {
      "text/plain": [
       "array([282.801858,  18.938397, -60.000011,   0.      ])"
      ]
     },
     "execution_count": 18,
     "metadata": {},
     "output_type": "execute_result"
    }
   ],
   "source": [
    "utils.get_pose(dash)"
   ]
  },
  {
   "cell_type": "code",
   "execution_count": null,
   "metadata": {},
   "outputs": [],
   "source": [
    "cap = cv2.VideoCapture(0)\n",
    "cap = cv_core.set_res(cap, cv_core.camera_res_dict['1200'])\n",
    "\n",
    "cv2.namedWindow('frame',  cv2.WINDOW_NORMAL)\n",
    "cv2.resizeWindow('frame', 1348, 1011)\n",
    "\n",
    "while True:\n",
    "    ret, frame = cap.read()\n",
    "    cv2.imshow('frame',plot_img)\n",
    "    if cv2.waitKey(1) & 0xFF == ord('q'):\n",
    "        break\n",
    "\n",
    "cap.release()\n",
    "cv2.destroyAllWindows()"
   ]
  }
 ],
 "metadata": {
  "kernelspec": {
   "display_name": "Python 3.9.12 ('stock')",
   "language": "python",
   "name": "python3"
  },
  "language_info": {
   "codemirror_mode": {
    "name": "ipython",
    "version": 3
   },
   "file_extension": ".py",
   "mimetype": "text/x-python",
   "name": "python",
   "nbconvert_exporter": "python",
   "pygments_lexer": "ipython3",
   "version": "3.9.12"
  },
  "orig_nbformat": 4,
  "vscode": {
   "interpreter": {
    "hash": "8375749a1bafb386f34ea9f0dd7e55daf2784b2541aa2e32281e1f53a27462d2"
   }
  }
 },
 "nbformat": 4,
 "nbformat_minor": 2
}
