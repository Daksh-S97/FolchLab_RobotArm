{
 "cells": [
  {
   "cell_type": "code",
   "execution_count": 6,
   "metadata": {},
   "outputs": [],
   "source": [
    "from deps.dobot_api import DobotApiDashboard, DobotApiMove # deps is a folder and we are importing 2 classes from a file within the folder, these classes \n",
    "# allow us to control the robot informationally and movement oriented \n",
    "from deps import utils # importing the module utils from a file within the folder deps, don't import all files from deps, just utils\n",
    "from deps import cv_core # this module houses all of the functions that are controlling and dealing with the camera and what it's doing\n",
    "import numpy as np # numpy is a module, we want lots of functions from numpy so we import full module\n",
    "import matplotlib.pyplot as plt # module that allows plotting, not used \n",
    "import cv2 # open cv, computer vision module with own GUI\n",
    "from pynput import keyboard # module allows you to get callbacks from keyboard press (control robot using arrow keys)\n",
    "import time # this module allows you to control timings \n",
    "import ipyparallel as ipp # module that allows code to be launched in parallel with other code\n",
    "import heapq\n",
    "import random\n",
    "import math\n",
    "import collections\n",
    "import time"
   ]
  },
  {
   "cell_type": "code",
   "execution_count": 2,
   "metadata": {},
   "outputs": [],
   "source": [
    "# rc = ipp.Cluster(n=1).start_and_connect_sync() # use this to move the robot with arrow keys and view camera feed at the same time \n",
    "# e0 = rc[0]\n",
    "# e0.block = False\n",
    "# e0.activate('0')"
   ]
  },
  {
   "cell_type": "code",
   "execution_count": 7,
   "metadata": {},
   "outputs": [],
   "source": [
    "dash = DobotApiDashboard('192.168.1.6', 29999) # dash is the object that is connected to the robot and gets information from the dashboard\n",
    "move = DobotApiMove('192.168.1.6', 30003) # the object that allows you to control the movement of the robot\n",
    "# both classes we input ip address and port that we are communicating with \n",
    "\n",
    "# Setting speed so for collective happiness \n",
    "# dash.SpeedFactor(100)\n",
    "# dash.AccJ(100)\n",
    "# dash.AccL(100)\n",
    "# dash.SpeedL(100)\n",
    "# dash.SpeedJ(100)\n"
   ]
  },
  {
   "cell_type": "code",
   "execution_count": 28,
   "metadata": {},
   "outputs": [
    {
     "data": {
      "text/plain": [
       "'0,{},DisableRobot();'"
      ]
     },
     "execution_count": 28,
     "metadata": {},
     "output_type": "execute_result"
    }
   ],
   "source": [
    "dash.DisableRobot()"
   ]
  },
  {
   "cell_type": "code",
   "execution_count": 8,
   "metadata": {},
   "outputs": [
    {
     "data": {
      "text/plain": [
       "'0,{},EnableRobot();'"
      ]
     },
     "execution_count": 8,
     "metadata": {},
     "output_type": "execute_result"
    }
   ],
   "source": [
    "dash.ClearError() # dash is an object and ClearError is a method in dash that we are calling, clears error and warning when robot freezes and turns red\n",
    "dash.EnableRobot() # enables the robot for use "
   ]
  },
  {
   "cell_type": "code",
   "execution_count": 8,
   "metadata": {},
   "outputs": [
    {
     "name": "stdout",
     "output_type": "stream",
     "text": [
      "Position saved!\n",
      "Position saved!\n",
      "Position saved!\n",
      "Position saved!\n"
     ]
    }
   ],
   "source": [
    "manmove = utils.ManualMove(move, dash) # initializing the class Keyboard from the module (file that houses functions (methods) and classes utils and we are passing the parameter dash\n",
    "# we are giving the class Keyboard a connection to the robot which is called dash, dash is an object of the class dashboard\n",
    "manmove.execute()\n",
    "\n",
    "np.save('anchors.npy', manmove.coords)\n"
   ]
  },
  {
   "cell_type": "code",
   "execution_count": 20,
   "metadata": {},
   "outputs": [
    {
     "ename": "KeyboardInterrupt",
     "evalue": "",
     "output_type": "error",
     "traceback": [
      "\u001b[0;31m---------------------------------------------------------------------------\u001b[0m",
      "\u001b[0;31mKeyboardInterrupt\u001b[0m                         Traceback (most recent call last)",
      "\u001b[1;32m/home/dobot/github/FolchLab_RobotArm/main_v2.ipynb Cell 15\u001b[0m in \u001b[0;36m<cell line: 4>\u001b[0;34m()\u001b[0m\n\u001b[1;32m      <a href='vscode-notebook-cell:/home/dobot/github/FolchLab_RobotArm/main_v2.ipynb#X20sZmlsZQ%3D%3D?line=6'>7</a>\u001b[0m move\u001b[39m.\u001b[39mSync()\n\u001b[1;32m      <a href='vscode-notebook-cell:/home/dobot/github/FolchLab_RobotArm/main_v2.ipynb#X20sZmlsZQ%3D%3D?line=7'>8</a>\u001b[0m move\u001b[39m.\u001b[39mMovL(x,y,\u001b[39m-\u001b[39m\u001b[39m35\u001b[39m,\u001b[39m0\u001b[39m)\n\u001b[0;32m----> <a href='vscode-notebook-cell:/home/dobot/github/FolchLab_RobotArm/main_v2.ipynb#X20sZmlsZQ%3D%3D?line=8'>9</a>\u001b[0m move\u001b[39m.\u001b[39;49mSync()\n\u001b[1;32m     <a href='vscode-notebook-cell:/home/dobot/github/FolchLab_RobotArm/main_v2.ipynb#X20sZmlsZQ%3D%3D?line=9'>10</a>\u001b[0m move\u001b[39m.\u001b[39mMovL(x,y,\u001b[39m0\u001b[39m,\u001b[39m0\u001b[39m)\n\u001b[1;32m     <a href='vscode-notebook-cell:/home/dobot/github/FolchLab_RobotArm/main_v2.ipynb#X20sZmlsZQ%3D%3D?line=10'>11</a>\u001b[0m move\u001b[39m.\u001b[39mSync()\n",
      "File \u001b[0;32m~/github/FolchLab_RobotArm/deps/dobot_api.py:674\u001b[0m, in \u001b[0;36mDobotApiMove.Sync\u001b[0;34m(self)\u001b[0m\n\u001b[1;32m    672\u001b[0m string \u001b[39m=\u001b[39m \u001b[39m\"\u001b[39m\u001b[39mSync()\u001b[39m\u001b[39m\"\u001b[39m\n\u001b[1;32m    673\u001b[0m \u001b[39mself\u001b[39m\u001b[39m.\u001b[39msend_data(string)\n\u001b[0;32m--> 674\u001b[0m \u001b[39mreturn\u001b[39;00m \u001b[39mself\u001b[39;49m\u001b[39m.\u001b[39;49mwait_reply()\n",
      "File \u001b[0;32m~/github/FolchLab_RobotArm/deps/dobot_api.py:159\u001b[0m, in \u001b[0;36mDobotApi.wait_reply\u001b[0;34m(self)\u001b[0m\n\u001b[1;32m    155\u001b[0m \u001b[39mdef\u001b[39;00m \u001b[39mwait_reply\u001b[39m(\u001b[39mself\u001b[39m):\n\u001b[1;32m    156\u001b[0m     \u001b[39m\"\"\"\u001b[39;00m\n\u001b[1;32m    157\u001b[0m \u001b[39m    Read the return value\u001b[39;00m\n\u001b[1;32m    158\u001b[0m \u001b[39m    \"\"\"\u001b[39;00m\n\u001b[0;32m--> 159\u001b[0m     data \u001b[39m=\u001b[39m \u001b[39mself\u001b[39;49m\u001b[39m.\u001b[39;49msocket_dobot\u001b[39m.\u001b[39;49mrecv(\u001b[39m1024\u001b[39;49m)\n\u001b[1;32m    160\u001b[0m     data_str \u001b[39m=\u001b[39m \u001b[39mstr\u001b[39m(data, encoding\u001b[39m=\u001b[39m\u001b[39m\"\u001b[39m\u001b[39mutf-8\u001b[39m\u001b[39m\"\u001b[39m)\n\u001b[1;32m    161\u001b[0m     \u001b[39m#self.log(f'Receive from 192.168.1.6:{self.port}: {data_str}')\u001b[39;00m\n",
      "\u001b[0;31mKeyboardInterrupt\u001b[0m: "
     ]
    }
   ],
   "source": [
    "grid = np.load('well_plate_96.npy')\n",
    "dash.ClearError()\n",
    "dash.EnableRobot()\n",
    "for coord in grid:\n",
    "    x,y = coord\n",
    "    move.MovL(x,y,0,0)\n",
    "    move.Sync()\n",
    "    move.MovL(x,y,-35,0)\n",
    "    move.Sync()\n",
    "    move.MovL(x,y,0,0)\n",
    "    move.Sync()"
   ]
  },
  {
   "cell_type": "code",
   "execution_count": 4,
   "metadata": {},
   "outputs": [
    {
     "name": "stderr",
     "output_type": "stream",
     "text": [
      "[ WARN:0@27.521] global /opt/conda/conda-bld/opencv-suite_1656606573658/work/modules/videoio/src/cap_gstreamer.cpp (862) isPipelinePlaying OpenCV | GStreamer warning: GStreamer: pipeline have not been created\n",
      "libGL error: MESA-LOADER: failed to open radeonsi: /usr/lib/dri/radeonsi_dri.so: cannot open shared object file: No such file or directory (search paths /usr/lib/x86_64-linux-gnu/dri:\\$${ORIGIN}/dri:/usr/lib/dri, suffix _dri)\n",
      "libGL error: failed to load driver: radeonsi\n",
      "libGL error: MESA-LOADER: failed to open swrast: /usr/lib/dri/swrast_dri.so: cannot open shared object file: No such file or directory (search paths /usr/lib/x86_64-linux-gnu/dri:\\$${ORIGIN}/dri:/usr/lib/dri, suffix _dri)\n",
      "libGL error: failed to load driver: swrast\n"
     ]
    }
   ],
   "source": [
    "cameraMatrix = np.load('./cam_matrices/cam_mtx_1944.npy')\n",
    "dist = np.load('./cam_matrices/dist_1944.npy')\n",
    "newCameraMatrix = np.load('./cam_matrices/newcam_mtx_1944.npy')\n",
    "\n",
    "cap = cv2.VideoCapture(0)\n",
    "cap = cv_core.set_res(cap, cv_core.camera_res_dict['1944'])\n",
    "\n",
    "cv2.namedWindow('frame',  cv2.WINDOW_NORMAL) # creating a GUI window cv2 is a module called open cv which has all the methods related to computer vision\n",
    "cv2.resizeWindow('frame', 1348, 1011)\n",
    "while(True):\n",
    "    ret, frame = cap.read()\n",
    "    frame = cv2.undistort(frame, cameraMatrix, dist, None, newCameraMatrix)\n",
    "    cv2.imshow('frame', frame)\n",
    "    if cv2.waitKey(1) & 0xFF == ord('q'):\n",
    "        break\n",
    "\n",
    "cap.release()\n",
    "cv2.destroyAllWindows()"
   ]
  },
  {
   "cell_type": "markdown",
   "metadata": {},
   "source": [
    "### Pump testing"
   ]
  },
  {
   "cell_type": "code",
   "execution_count": null,
   "metadata": {},
   "outputs": [],
   "source": [
    "\n",
    "grid = np.load('well_plate_96.npy')\n",
    "dash.ClearError()\n",
    "dash.EnableRobot()\n",
    "for i in range(40):\n",
    "    print(i)\n",
    "    move.MovL(289.601919,0.075039,-41.805241,0)\n",
    "    move.Sync()\n",
    "    move.MovL(289.601919,0.075039,-41.805241,120)\n",
    "    move.Sync()\n",
    "#print(grid[0][0], grid[0][1])\n",
    "#for coord in grid:\n",
    "   # x,y = coord\n",
    "    #move.MovL(x,y,-38,0)\n",
    "\n",
    "    #move.MovL(x,y,-80,0)\n",
    "   # move.Sync()\n",
    "   # move.MovL(x,y,-38,0)\n",
    "    #move.Sync()"
   ]
  },
  {
   "cell_type": "code",
   "execution_count": null,
   "metadata": {},
   "outputs": [],
   "source": [
    "manmove = utils.ManualMove(move, dash) # used to control robot with keyboard, uses key presses to control robot \n",
    "manmove.execute()"
   ]
  },
  {
   "cell_type": "code",
   "execution_count": null,
   "metadata": {},
   "outputs": [],
   "source": [
    "manmove.coords"
   ]
  },
  {
   "cell_type": "code",
   "execution_count": null,
   "metadata": {},
   "outputs": [],
   "source": [
    "base_offset = (manmove.coords[0] - np.array([250, 0, -90, 0]))[:2]\n",
    "np.save('base_offset.npy', base_offset)"
   ]
  },
  {
   "cell_type": "code",
   "execution_count": null,
   "metadata": {},
   "outputs": [],
   "source": [
    "def coordinate_rotation(x, y, angle):\n",
    "    xPrime = x*np.cos(angle) - y*np.sin(angle)\n",
    "    yPrime = x*np.sin(angle) + y*np.cos(angle)\n",
    "\n",
    "    return xPrime, yPrime\n",
    "    "
   ]
  },
  {
   "cell_type": "code",
   "execution_count": null,
   "metadata": {},
   "outputs": [],
   "source": [
    "dash.ClearError()\n",
    "dash.EnableRobot()\n",
    "move.MovL(250, 0, -90, 0)\n"
   ]
  },
  {
   "cell_type": "code",
   "execution_count": null,
   "metadata": {},
   "outputs": [],
   "source": [
    "utils.get_pose(dash, angle=True)"
   ]
  },
  {
   "cell_type": "code",
   "execution_count": null,
   "metadata": {},
   "outputs": [],
   "source": [
    "%%px0\n",
    "from deps import utils\n",
    "from deps.dobot_api import DobotApiDashboard, DobotApiMove\n",
    "dash = DobotApiDashboard('192.168.1.6', 29999)\n",
    "move = DobotApiMove('192.168.1.6', 30003)\n",
    "manmove = utils.ManualMove(move, dash)\n",
    "manmove.execute()\n",
    "coords = manmove.coords"
   ]
  },
  {
   "cell_type": "code",
   "execution_count": null,
   "metadata": {},
   "outputs": [],
   "source": [
    "ar = e0.pull('coords')\n",
    "coords = ar.get()\n",
    "coords"
   ]
  },
  {
   "cell_type": "code",
   "execution_count": null,
   "metadata": {},
   "outputs": [],
   "source": [
    "cap = cv2.VideoCapture(0)\n",
    "cap = cv_core.set_res(cap, cv_core.camera_res_dict['1200'])\n",
    "cv_core.video_test(cap)"
   ]
  },
  {
   "cell_type": "code",
   "execution_count": null,
   "metadata": {},
   "outputs": [],
   "source": [
    "np.save('anchors.npy', manmove.coords)\n",
    "np.save('anchors_tk.npy', manmove.coords)"
   ]
  },
  {
   "cell_type": "code",
   "execution_count": 46,
   "metadata": {},
   "outputs": [],
   "source": [
    "anchors = np.load('anchors.npy')\n",
    "#np.save('anchors_tk.npy', anchors)"
   ]
  },
  {
   "cell_type": "code",
   "execution_count": 47,
   "metadata": {},
   "outputs": [
    {
     "data": {
      "text/plain": [
       "array([[ 256.82189 ,  -28.217839,  -38.817001, -350.000305],\n",
       "       [ 309.652415,  -26.146832,  -38.821999, -350.      ],\n",
       "       [ 318.825734,   35.751832,  -38.826061, -350.      ],\n",
       "       [ 272.579972,   35.743979,  -38.832909, -349.999878]])"
      ]
     },
     "execution_count": 47,
     "metadata": {},
     "output_type": "execute_result"
    }
   ],
   "source": [
    "anchors"
   ]
  },
  {
   "cell_type": "code",
   "execution_count": 8,
   "metadata": {},
   "outputs": [],
   "source": [
    "cameraMatrix = np.load('./cam_matrices/cam_mtx_1944.npy')\n",
    "dist = np.load('./cam_matrices/dist_1944.npy')\n",
    "newCameraMatrix = np.load('./cam_matrices/newcam_mtx_1944.npy')\n",
    "\n",
    "\n"
   ]
  },
  {
   "cell_type": "code",
   "execution_count": 9,
   "metadata": {},
   "outputs": [
    {
     "data": {
      "text/plain": [
       "array([9434.92810337,    0.        , 1341.17795578])"
      ]
     },
     "execution_count": 9,
     "metadata": {},
     "output_type": "execute_result"
    }
   ],
   "source": [
    "cameraMatrix[0]"
   ]
  },
  {
   "cell_type": "code",
   "execution_count": 10,
   "metadata": {},
   "outputs": [
    {
     "data": {
      "text/plain": [
       "array([9116.92871094,    0.        , 1338.22245735])"
      ]
     },
     "execution_count": 10,
     "metadata": {},
     "output_type": "execute_result"
    }
   ],
   "source": [
    "newCameraMatrix[0]"
   ]
  },
  {
   "cell_type": "markdown",
   "metadata": {},
   "source": [
    "## Calibration Petri Dish"
   ]
  },
  {
   "cell_type": "code",
   "execution_count": 6,
   "metadata": {},
   "outputs": [
    {
     "name": "stderr",
     "output_type": "stream",
     "text": [
      "[ WARN:0@235.274] global /opt/conda/conda-bld/opencv-suite_1656606573658/work/modules/videoio/src/cap_gstreamer.cpp (862) isPipelinePlaying OpenCV | GStreamer warning: GStreamer: pipeline have not been created\n",
      "[ WARN:0@238.627] global /opt/conda/conda-bld/opencv-suite_1656606573658/work/modules/videoio/src/cap_gstreamer.cpp (862) isPipelinePlaying OpenCV | GStreamer warning: GStreamer: pipeline have not been created\n",
      "[ WARN:0@242.087] global /opt/conda/conda-bld/opencv-suite_1656606573658/work/modules/videoio/src/cap_gstreamer.cpp (862) isPipelinePlaying OpenCV | GStreamer warning: GStreamer: pipeline have not been created\n",
      "[ WARN:0@245.390] global /opt/conda/conda-bld/opencv-suite_1656606573658/work/modules/videoio/src/cap_gstreamer.cpp (862) isPipelinePlaying OpenCV | GStreamer warning: GStreamer: pipeline have not been created\n"
     ]
    }
   ],
   "source": [
    "#anchors = keys.coords\n",
    "anchors = np.load('anchors.npy')\n",
    "# anchors = [np.array([307.315193, -13.865066, -81,  -3.484534]),\n",
    "#  np.array([316.442224,  49.591866, -81,  -3.484533]),\n",
    "#  np.array([268.040607,  48.172406, -81,  -3.484533]),\n",
    "#  np.array([260.923249, -14.987419, -81,  -3.484531])]\n",
    "\n",
    "# anchor positions, positions of the laser that the camera recognizes to create a transformation matrix\n",
    "# allows you to transform pixel coordinates of an object to actual robot coordinates \n",
    "\n",
    "# computer vision stuff\n",
    "\n",
    "cameraMatrix = np.load('./cam_matrices/cam_mtx_1944.npy')\n",
    "dist = np.load('./cam_matrices/dist_1944.npy')\n",
    "newCameraMatrix = np.load('./cam_matrices/newcam_mtx_1944.npy')\n",
    "\n",
    "# cameraMatrix = np.load('./cam_matrices/cam_mtx.npy')\n",
    "# dist = np.load('./cam_matrices/dist.npy')\n",
    "# newCameraMatrix = np.load('./cam_matrices/newcam_mtx.npy')\n",
    "template = cv2.imread('laser_template.png', 0)\n",
    "w, h = template.shape[::-1]\n",
    "\n",
    "# cap = cv2.VideoCapture(0)\n",
    "# cap = cv_core.set_res(cap, cv_corfind_contourse.camera_res_dict['1200'])\n",
    "\n",
    "# cv2.namedWindow('frame',  cv2.WINDOW_NORMAL)\n",
    "# cv2.resizeWindow('frame', 1348, 1011)\n",
    "\n",
    "dash.ClearError()\n",
    "dash.EnableRobot()\n",
    "\n",
    "\n",
    "recorded = []\n",
    "for idx, anchor in enumerate(anchors):\n",
    "    x,y,z,r = anchor\n",
    "    move.MovL(x,y,z,r)\n",
    "    move.Sync()\n",
    "\n",
    "    #while(True):\n",
    "    cap = cv2.VideoCapture(0)\n",
    "    cap = cv_core.set_res(cap, cv_core.camera_res_dict['1944'])\n",
    "\n",
    "    cv2.namedWindow('frame',  cv2.WINDOW_NORMAL) # creating a GUI window cv2 is a module called open cv which has all the methods related to computer vision\n",
    "    cv2.resizeWindow('frame', 1348, 1011)\n",
    "\n",
    "    ret, frame = cap.read() # how to access camera information, gives single frame that has been captured by the camera at the time of execution\n",
    "    # gives ret which is a boolean (true/false) true if frame captured, frame gives a numpy array that is basically the image (if color, 3 channel array rgb)\n",
    "    \n",
    "    \n",
    "    frame = cv2.undistort(frame, cameraMatrix, dist, None, newCameraMatrix) # need these 3 parameters to undistort the frame and give a new undistorted frame\n",
    "    \n",
    "    \n",
    "    \n",
    "    plot_img = frame.copy() # create a copy of the variable frame (create a copy of the image)\n",
    "    gray = cv2.cvtColor(frame, cv2.COLOR_BGR2GRAY) # turn frame to grayscale \n",
    "    (minVal, maxVal, minLoc, maxLoc)=cv2.minMaxLoc(gray) # gives location of minimum and maximum pixel value, gives coordinates in pixels\n",
    "    a, b = maxLoc # unpack max location into 2 variables, the x and y (a and b) in pixels\n",
    "    \n",
    "    top_left = (a-w, b-h) # make white rectangle around desired maximum pixel values\n",
    "    bottom_right = (a+w, b+h)\n",
    "\n",
    "    mask = np.zeros_like(frame) # brightest part not always the center point, we want to isolate the bright spot, we apply a mask onto the image \n",
    "    # we take a grayscale image and we apply a mask around the bright spot, we create absolute black image \n",
    "    cv2.rectangle(mask,top_left, bottom_right, (255,255,255), -1) # we create filled white rectangle around the bright spot \n",
    "    cv2.rectangle(plot_img,top_left, bottom_right, (255,255,255), 2) # puts white hollow rectangle onto the visual image \n",
    "    result = cv2.bitwise_and(frame.astype('uint8'), mask.astype('uint8')) # we multiply the frame by the mask which leaves only the bright spot\n",
    "    gray_result = cv2.cvtColor(result, cv2.COLOR_BGR2GRAY) # result given in rgb and we want to go to grayscale, gives one grayscale array instead of 3 BGR\n",
    "    ret, thresh = cv2.threshold(gray_result,240,255,cv2.THRESH_BINARY) # apply thresholding to take brightest desired pixels and ignore all other values\n",
    "    M = cv2.moments(thresh) # this is what is finding the center by calculating the moments of the bright blob, calculates center of mass of a pixel blob\n",
    "    if M[\"m00\"] != 0:\n",
    "        cX = int(M[\"m10\"] / M[\"m00\"])\n",
    "        cY = int(M[\"m01\"] / M[\"m00\"])\n",
    "        cv2.circle(plot_img, (cX, cY), 5, (0, 255, 0), 2) # drawing a circle around the brightest blob for visual purposes \n",
    "        recorded.append((cX, cY)) # we record the x and y pixel values of the center of the blob so we can map the location onto the robots coordinates, at that point\n",
    "        \n",
    "\n",
    "    cv2.imshow('frame',plot_img) # shows the image\n",
    "    #cv2.imwrite(f'anchor_{idx}.jpg', plot_img)\n",
    "    cv2.waitKey(0) # index zero wait key, tells the computer to wait for any key press before continuing execution\n",
    "    cap.release() # releases the camera from control of the computer, disconnects the camera from the computer and empties memory\n",
    "   \n",
    "cv2.destroyAllWindows() # when 4 loop finishes it destroys (closes) the graphical window "
   ]
  },
  {
   "cell_type": "code",
   "execution_count": 8,
   "metadata": {},
   "outputs": [
    {
     "name": "stderr",
     "output_type": "stream",
     "text": [
      "[ WARN:0@253.618] global /opt/conda/conda-bld/opencv-suite_1656606573658/work/modules/videoio/src/cap_gstreamer.cpp (862) isPipelinePlaying OpenCV | GStreamer warning: GStreamer: pipeline have not been created\n",
      "[ WARN:0@257.794] global /opt/conda/conda-bld/opencv-suite_1656606573658/work/modules/videoio/src/cap_gstreamer.cpp (862) isPipelinePlaying OpenCV | GStreamer warning: GStreamer: pipeline have not been created\n",
      "[ WARN:0@261.759] global /opt/conda/conda-bld/opencv-suite_1656606573658/work/modules/videoio/src/cap_gstreamer.cpp (862) isPipelinePlaying OpenCV | GStreamer warning: GStreamer: pipeline have not been created\n",
      "[ WARN:0@265.982] global /opt/conda/conda-bld/opencv-suite_1656606573658/work/modules/videoio/src/cap_gstreamer.cpp (862) isPipelinePlaying OpenCV | GStreamer warning: GStreamer: pipeline have not been created\n"
     ]
    }
   ],
   "source": [
    "anchors = np.load('anchors.npy')\n",
    "\n",
    "\n",
    "cameraMatrix = np.load('./cam_matrices/cam_mtx_1944.npy')\n",
    "dist = np.load('./cam_matrices/dist_1944.npy')\n",
    "newCameraMatrix = np.load('./cam_matrices/newcam_mtx_1944.npy')\n",
    "\n",
    "\n",
    "template = cv2.imread('laser_template.png')\n",
    "w, h = template.shape[:2]\n",
    "\n",
    "\n",
    "dash.ClearError()\n",
    "dash.EnableRobot()\n",
    "\n",
    "\n",
    "recorded = []\n",
    "for idx, anchor in enumerate(anchors):\n",
    "    x,y,z,r = anchor\n",
    "    move.MovL(x,y,z,r)\n",
    "    move.Sync()\n",
    "\n",
    "    #while(True):\n",
    "    cap = cv2.VideoCapture(0)\n",
    "    cap = cv_core.set_res(cap, cv_core.camera_res_dict['1944'])\n",
    "\n",
    "    cv2.namedWindow('frame',  cv2.WINDOW_NORMAL) # creating a GUI window cv2 is a module called open cv which has all the methods related to computer vision\n",
    "    cv2.resizeWindow('frame', 1348, 1011)\n",
    "\n",
    "    ret, frame = cap.read() # how to access camera information, gives single frame that has been captured by the camera at the time of execution\n",
    "    # gives ret which is a boolean (true/false) true if frame captured, frame gives a numpy array that is basically the image (if color, 3 channel array rgb)\n",
    "    \n",
    "    \n",
    "    frame = cv2.undistort(frame, cameraMatrix, dist, None, newCameraMatrix) # need these 3 parameters to undistort the frame and give a new undistorted frame\n",
    "    plot_img = frame.copy()\n",
    "\n",
    "\n",
    "    res = cv2.matchTemplate(frame,template, cv2.TM_CCORR_NORMED)\n",
    "    min_val, max_val, min_loc, max_loc = cv2.minMaxLoc(res)\n",
    "\n",
    "    top_left = max_loc\n",
    "    bottom_right = (top_left[0] + w, top_left[1] + h)\n",
    "    # cv2.rectangle(plot_img,top_left, bottom_right, 255, 2)\n",
    "\n",
    "\n",
    "    mask = np.zeros_like(frame) # brightest part not always the center point, we want to isolate the bright spot, we apply a mask onto the image \n",
    "    # we take a grayscale image and we apply a mask around the bright spot, we create absolute black image \n",
    "    cv2.rectangle(mask,top_left, bottom_right, (255,255,255), -1) # we create filled white rectangle around the bright spot \n",
    "    cv2.rectangle(plot_img,top_left, bottom_right, (255,255,255), 2) # puts white hollow rectangle onto the visual image \n",
    "    result = cv2.bitwise_and(frame.astype('uint8'), mask.astype('uint8')) # we multiply the frame by the mask which leaves only the bright spot\n",
    "    gray_result = cv2.cvtColor(result, cv2.COLOR_BGR2GRAY) # result given in rgb and we want to go to grayscale, gives one grayscale array instead of 3 BGR\n",
    "    ret, thresh = cv2.threshold(gray_result,240,255,cv2.THRESH_BINARY) # apply thresholding to take brightest desired pixels and ignore all other values\n",
    "    M = cv2.moments(thresh) # this is what is finding the center by calculating the moments of the bright blob, calculates center of mass of a pixel blob\n",
    "    if M[\"m00\"] != 0:\n",
    "        cX = int(M[\"m10\"] / M[\"m00\"])\n",
    "        cY = int(M[\"m01\"] / M[\"m00\"])\n",
    "        cv2.circle(plot_img, (cX, cY), 5, (0, 255, 0), 2) # drawing a circle around the brightest blob for visual purposes \n",
    "        recorded.append((cX, cY)) # we record the x and y pixel values of the center of the blob so we can map the location onto the robots coordinates, at that point\n",
    "        \n",
    "\n",
    "    cv2.imshow('frame',plot_img) # shows the image\n",
    "    #cv2.imwrite(f'anchor_{idx}.jpg', plot_img)\n",
    "    cv2.waitKey(0) # index zero wait key, tells the computer to wait for any key press before continuing execution\n",
    "    cap.release() # releases the camera from control of the computer, disconnects the camera from the computer and empties memory\n",
    "   \n",
    "cv2.destroyAllWindows() # when 4 loop finishes it destroys (closes) the graphical window "
   ]
  },
  {
   "cell_type": "code",
   "execution_count": null,
   "metadata": {},
   "outputs": [],
   "source": [
    "cv2.imwrite('laser_template.png', frame)"
   ]
  },
  {
   "cell_type": "markdown",
   "metadata": {},
   "source": [
    "## Move Pipette down"
   ]
  },
  {
   "cell_type": "code",
   "execution_count": null,
   "metadata": {},
   "outputs": [],
   "source": [
    "dash.ClearError()\n",
    "dash.EnableRobot()\n",
    "move.MovL(315.233371,  49.014043, -97.242516,  -1.563194)"
   ]
  },
  {
   "cell_type": "markdown",
   "metadata": {},
   "source": [
    "## Calculate the transformation matrix"
   ]
  },
  {
   "cell_type": "code",
   "execution_count": 7,
   "metadata": {},
   "outputs": [],
   "source": [
    "# this is the cell that calculates the transformation matrix \n",
    "xys = [(arr[0], arr[1]) for arr in anchors]\n",
    "robot_coor = utils.assign_corners(xys, reverse=True) # assign corners to the robot coordinates at the 4 corner positions \n",
    "pix_coor = utils.assign_corners(recorded) # assign corners to the pixel coordinates at the 4 corner positions \n",
    "\n",
    "features_mm_to_pixels_dict = {} # setting up an empty dictionary to store the mapping of the corners from coordinate to pixel\n",
    "for key, value in robot_coor.items():\n",
    "    features_mm_to_pixels_dict[value] = pix_coor[key]\n",
    "\n",
    "\n",
    "tf_mtx = cv_core.compute_tf_mtx(features_mm_to_pixels_dict) # method of cv_core module that calculates transformation matrix\n",
    "np.save('tfm_mtx.npy', tf_mtx)\n",
    "# takes the dictionary and solves the system of linear equations that gives the transformation matrix and gives the actual relation between the pixels and millimeters "
   ]
  },
  {
   "cell_type": "markdown",
   "metadata": {},
   "source": [
    "### Discerning isolated cuboids"
   ]
  },
  {
   "cell_type": "code",
   "execution_count": 4,
   "metadata": {},
   "outputs": [],
   "source": [
    "tf_mtx = np.load('tfm_mtx.npy')\n",
    "\n",
    "def calc_centers(conts):\n",
    "    centers = []\n",
    "    #print(r,a,b)\n",
    "    for i in range(len(conts)):\n",
    "        M = cv2.moments(conts[i])\n",
    "        cX = int(M[\"m10\"] / M[\"m00\"])\n",
    "        cY = int(M[\"m01\"] / M[\"m00\"])\n",
    "        centers.append([cX,cY])\n",
    "    return centers  \n",
    "\n",
    "\n",
    "\n",
    "def mindis(centers,r,a,b):\n",
    "    val = 2.5\n",
    "    res = []\n",
    "    ignore = set()\n",
    "    print(len(centers))\n",
    "    dis = collections.defaultdict(lambda: np.inf)\n",
    "    \n",
    "    for i in range(len(centers)):\n",
    "        xa,ya = centers[i]\n",
    "        c_dis = math.sqrt(abs(a-xa) ** 2 + abs(b-ya) ** 2)\n",
    "        if c_dis > r:\n",
    "            ignore.add(i)\n",
    "        x,y, _ = tf_mtx @ (xa,ya,1)\n",
    "        for j in range(i+1,len(centers)):\n",
    "            xb,yb = centers[j]\n",
    "            x1,y1, _ = tf_mtx @ (xb,yb,1)\n",
    "            distance = math.sqrt(abs(x1-x) ** 2 + abs(y1-y) ** 2)\n",
    "            dis[(i, (x,y))] = min(dis[(i, (x,y))], distance)\n",
    "            dis[(j, (x1,y1))] = min(dis[(j, (x1,y1))],distance)\n",
    "                \n",
    "    dist = list(sorted(dis.items(), key = lambda item : item[1], reverse = True))\n",
    "    \n",
    "    for i in range(len(dist)):\n",
    "        if dist[i][0][0] in ignore or dist[i][1] < val:\n",
    "            continue\n",
    "        res.append(dist[i])\n",
    "    return res\n",
    "    #return list(filter(lambda x: x[1] >= val, dist))         "
   ]
  },
  {
   "attachments": {},
   "cell_type": "markdown",
   "metadata": {},
   "source": [
    "### Find petri dish"
   ]
  },
  {
   "cell_type": "code",
   "execution_count": 6,
   "metadata": {},
   "outputs": [
    {
     "name": "stderr",
     "output_type": "stream",
     "text": [
      "[ WARN:0@13.891] global /opt/conda/conda-bld/opencv-suite_1656606573658/work/modules/videoio/src/cap_gstreamer.cpp (862) isPipelinePlaying OpenCV | GStreamer warning: GStreamer: pipeline have not been created\n",
      "libGL error: MESA-LOADER: failed to open radeonsi: /usr/lib/dri/radeonsi_dri.so: cannot open shared object file: No such file or directory (search paths /usr/lib/x86_64-linux-gnu/dri:\\$${ORIGIN}/dri:/usr/lib/dri, suffix _dri)\n",
      "libGL error: failed to load driver: radeonsi\n",
      "libGL error: MESA-LOADER: failed to open swrast: /usr/lib/dri/swrast_dri.so: cannot open shared object file: No such file or directory (search paths /usr/lib/x86_64-linux-gnu/dri:\\$${ORIGIN}/dri:/usr/lib/dri, suffix _dri)\n",
      "libGL error: failed to load driver: swrast\n"
     ]
    }
   ],
   "source": [
    "# avoid searching for petri dish in every iteration\n",
    "cont = cv_core.Contours() # define class of methods for cuboid detection, initialize class\n",
    "offset = 100 # create smaller inner circle in petri dish to locate cuboids \n",
    "cap = cv2.VideoCapture(0) # gets access to the camera \n",
    "cap = cv_core.set_res(cap, cv_core.camera_res_dict['1944']) # sets the resolution of the camera to 1200 x 1600\n",
    "edit = 10  # how much to adjust offset by\n",
    "tf_mtx = np.load('tfm_mtx.npy')\n",
    "anchors = np.load('anchors.npy')\n",
    "cameraMatrix = np.load('./cam_matrices/cam_mtx_1944.npy')\n",
    "dist = np.load('./cam_matrices/dist_1944.npy')\n",
    "newCameraMatrix = np.load('./cam_matrices/newcam_mtx_1944.npy')\n",
    "dr = 0\n",
    "cv2.namedWindow('frame',  cv2.WINDOW_NORMAL) # create window\n",
    "cv2.resizeWindow('frame', 1348, 1011)\n",
    "while(True):\n",
    "    \n",
    "    ret,frame= cap.read()\n",
    "    frame = cv2.undistort(frame, cameraMatrix, dist, None, newCameraMatrix)\n",
    "    pt = cont.find_contours(frame, 10, offset)\n",
    "    a,b,r = pt # gives the x y coordinates and the radius of the circle\n",
    "    plot_img = frame.copy() # create a copy of the frame so things can be drawn on it without altering original image\n",
    "    ra = r + dr\n",
    "    cv2.circle(plot_img, (a, b), ra, (3, 162, 255), 2) # circles being drawn on image to locate petri dish\n",
    "    cv2.circle(plot_img, (a, b), 1, (0, 0, 255), 3)\n",
    "    cv2.circle(plot_img, (a, b), ra - offset+10, (0, 255, 0), 2)\n",
    "\n",
    "    cv2.imshow('frame',plot_img) # this just displays the image \n",
    "\n",
    "    k = cv2.waitKey(0)\n",
    "\n",
    "    if k == ord('q'): # satisfied with the circles\n",
    "        break\n",
    "    elif k == ord('i'):  # increase the size of petri dish circle, i.e, decrease offset\n",
    "        offset -= edit\n",
    "    elif k == ord('d'): # decrease the size of petri dish circle, i.e, increase offset\n",
    "        offset += edit  \n",
    "    elif k == ord('s'):  # increase the size of petri dish circle, i.e, decrease offset\n",
    "        dr -= edit\n",
    "    elif k == ord('w'): # decrease the size of petri dish circle, i.e, increase offset\n",
    "        dr += edit      \n",
    "          \n",
    "cap.release()\n",
    "cv2.destroyAllWindows()"
   ]
  },
  {
   "cell_type": "code",
   "execution_count": 7,
   "metadata": {},
   "outputs": [
    {
     "data": {
      "text/plain": [
       "<matplotlib.image.AxesImage at 0x7ff153eea910>"
      ]
     },
     "execution_count": 7,
     "metadata": {},
     "output_type": "execute_result"
    },
    {
     "data": {
      "image/png": "[encoded data removed]",
      "text/plain": [
       "<Figure size 432x288 with 1 Axes>"
      ]
     },
     "metadata": {
      "needs_background": "light"
     },
     "output_type": "display_data"
    }
   ],
   "source": [
    "plt.imshow(plot_img)"
   ]
  },
  {
   "attachments": {},
   "cell_type": "markdown",
   "metadata": {},
   "source": [
    "## Cuboid Recognition and Positioning"
   ]
  },
  {
   "cell_type": "code",
   "execution_count": 7,
   "metadata": {},
   "outputs": [
    {
     "name": "stderr",
     "output_type": "stream",
     "text": [
      "[ WARN:0@978.076] global /opt/conda/conda-bld/opencv-suite_1656606573658/work/modules/videoio/src/cap_gstreamer.cpp (862) isPipelinePlaying OpenCV | GStreamer warning: GStreamer: pipeline have not been created\n"
     ]
    }
   ],
   "source": [
    "cont = cv_core.Contours() # define class of methods for cuboid detection, initialize class\n",
    "tf_mtx = np.load('tfm_mtx.npy')\n",
    "def on_change(val): pass\n",
    "\n",
    "offset = 80 # create smaller inner circle in petri dish to locate cuboids \n",
    "cap = cv2.VideoCapture(0) # gets access to the camera \n",
    "cap = cv_core.set_res(cap, cv_core.camera_res_dict['1944']) # sets the resolution of the camera to 1200 x 1600\n",
    "\n",
    "# cameraMatrix = np.load('./cam_matrices/cam_mtx.npy') # uploading the camera matrices for the calibration of the camera for undistortion\n",
    "# dist = np.load('./cam_matrices/dist.npy') \n",
    "# newCameraMatrix = np.load('./cam_matrices/newcam_mtx.npy') \n",
    "\n",
    "cameraMatrix = np.load('./cam_matrices/cam_mtx_1944.npy') # uploading the camera matrices for the calibration of the camera for undistortion\n",
    "dist = np.load('./cam_matrices/dist_1944.npy') \n",
    "newCameraMatrix = np.load('./cam_matrices/newcam_mtx_1944.npy') \n",
    "\n",
    "cv2.namedWindow('frame',  cv2.WINDOW_NORMAL) # create window\n",
    "cv2.resizeWindow('frame', 1348, 1011) # set resolution of window\n",
    "cv2.createTrackbar('Manual Lock', 'frame', 0, 1, on_change) # create trackbar between values of 0 and 1, basically a switch (manual lock of the circle recognition)\n",
    "# stops trying to recognize the petri dish (locked) increases performance of more fps because it recognizes a lot of circles which takes time so this locks it \n",
    "# circle recognition needs optimizing \n",
    "cv2.createTrackbar('Mask Offset', 'frame', offset, 150, on_change) # second trackbar allows control of offset which changes the size of the petri dish detection circle\n",
    "cv2.setMouseCallback('frame', cont.mousecallback) # set a callback function for double clicks of the mouse, this allows us to select cuboids by double clicking\n",
    "# initializes a double click response to select a certain contour on the screen \n",
    "\n",
    "idx = 0 \n",
    "prev_point = (0,0,0)\n",
    "while(True): # we want a video stream so we want a while loop to continuously take new images until loop is broken\n",
    "    ret, frame = cap.read()\n",
    "    frame = cv2.undistort(frame, cameraMatrix, dist, None, newCameraMatrix)\n",
    "    val = cv2.getTrackbarPos('Manual Lock', 'frame') # checks position of trackbar for manual lock, if trackbar 1, then val = 1, this turns off circle detection\n",
    "    offset = cv2.getTrackbarPos('Mask Offset', 'frame') # the trackbar with the offset, changes the offset value for the circle\n",
    "    if val == 1:\n",
    "        cont.locked = True\n",
    "    else:\n",
    "        cont.locked = False\n",
    "\n",
    "    # if cont.best_circ is None:\n",
    "    #     while cont.best_circ is None:\n",
    "    #         pt = cont.find_contours(frame, 10, offset)\n",
    "    # else:\n",
    "    pt = cont.find_contours(frame, 5, offset) # 10 og,takes the frame and looks for the circle of the petri dish, also looks for the cuboids \n",
    "\n",
    "    a,b,r = pt # gives the x y coordinates and the radius of the circle\n",
    "    plot_img = frame.copy() # create a copy of the frame so things can be drawn on it without altering original image\n",
    "    cv2.circle(plot_img, (a, b), r, (3, 162, 255), 2) # circles being drawn on image to locate petri dish\n",
    "    cv2.circle(plot_img, (a, b), 1, (0, 0, 255), 3)\n",
    "    cv2.circle(plot_img, (a, b), r - offset, (0, 255, 0), 2)\n",
    "    # print(cont.big_circ[2])\n",
    "    cv2.circle(plot_img, cont.big_circ[:2], int(cont.big_circ[2]), (0, 0, 255), 2)\n",
    "    cv2.putText(plot_img, f\"{cont.big_circ[2]*2}px = 60mm\", (cont.big_circ[0]-25, cont.big_circ[1] - cont.big_circ[2] - 10),\n",
    "    cv2.FONT_HERSHEY_SIMPLEX, 0.75, (0, 0, 255), 2) # how to decide size of cuboids, use diameter of petri dish being 60 mm to approximate size of cuboids\n",
    "    # just a text sign around the biggest circle of the image (petri dish) saying that this circle is 60 mm\n",
    "\n",
    "    cv2.drawContours(plot_img, cont.singular, -1,(0,255, 0),2) # two lists of contours (cuboid contours) that we draw on the plotting image\n",
    "    cv2.drawContours(plot_img, cont.clusters, -1,(0,0,255),2) # we do this to distinguish between clusters and cuboids \n",
    "\n",
    "    if cont.selected: # if we selected cuboids with the double click, we draw them in blue\n",
    "        cv2.drawContours(plot_img, cont.selected, -1,(255,0,0),2) # BGR, this is blue contour \n",
    "\n",
    "    # for c in cont.singular: # we find the centers of the contours similar to how we found centers with the calibration step\n",
    "    #     # compute the center of the contour\n",
    "    #     M = cv2.moments(c)\n",
    "    #     cX = int(M[\"m10\"] / M[\"m00\"]) # the function moments gives a mysterious dictionary with elements of matrix, it seems that you gotta divide one element by another to get x&y\n",
    "    #     cY = int(M[\"m01\"] / M[\"m00\"])\n",
    "    \n",
    "    #     cv2.circle(plot_img, (cX, cY), 2, (0, 0, 255), -1) # just draw a cirlce around the contour \n",
    "    #     cv2.putText(plot_img, f\"{cX},{cY}\", (cX - 20, cY - 20),\n",
    "    #     cv2.FONT_HERSHEY_SIMPLEX, 0.5, (0, 255, 0), 2)\n",
    "\n",
    "        # cv2.putText(plot_img, f\"{cv2.contourArea(c)}\", (cX - 20, cY - 20), # putting the area of the cuboids onto the screen as text next to the cuboid\n",
    "        # cv2.FONT_HERSHEY_SIMPLEX, 0.7, (0, 255, 0), 1)\n",
    "#out.write(with_contours)\n",
    "\n",
    "    for c in cont.clusters: # same thing for clustes as above but no printed text for cuboid area or coordinate\n",
    "        # compute the center of the contour\n",
    "        M = cv2.moments(c)\n",
    "        cX = int(M[\"m10\"] / M[\"m00\"])\n",
    "        cY = int(M[\"m01\"] / M[\"m00\"])\n",
    "        # draw the contour and center of the shape on the image\n",
    "        #cv2.drawContours(plot_img, [c], -1, (0, 255, 0), 2)\n",
    "        cv2.circle(plot_img, (cX, cY), 2, (0, 0, 255), -1)\n",
    "        # cv2.putText(plot_img, f\"{cX},{cY}\", (cX - 20, cY - 20),\n",
    "        # cv2.FONT_HERSHEY_SIMPLEX, 0.35, (0, 255, 0), 1)\n",
    "\n",
    "        # cv2.putText(plot_img, f\"{cv2.contourArea(c)}\", (cX - 20, cY - 20),\n",
    "        # cv2.FONT_HERSHEY_SIMPLEX, 0.7, (0, 0, 255), 1)\n",
    "\n",
    "\n",
    "    if prev_point is pt:\n",
    "        idx += 1\n",
    "    else:\n",
    "        idx = 0\n",
    "    prev_point = pt\n",
    "\n",
    "\n",
    "    if idx >= 30: # if circle stays same for awhile then it will show as locked (30 frames the same)\n",
    "        message = 'LOCKED'\n",
    "        color = (0,255,0)\n",
    "    else:\n",
    "        message = 'SEARCHING' # more text messages \n",
    "        color = (0,0,255)\n",
    "\n",
    "    cv2.putText(plot_img, \"TARGET:\", (25,25), cv2.FONT_HERSHEY_SIMPLEX, 0.75, (0,255,0), 2) # text messages, target displays constantly\n",
    "    cv2.putText(plot_img, f\"{message}\", (125,25), cv2.FONT_HERSHEY_SIMPLEX, 0.75, color, 2) # displays message locked or searching\n",
    "    cv2.putText(plot_img, f\"Found: {len(cont.singular)}\", (25,50), cv2.FONT_HERSHEY_SIMPLEX, 0.75, (0,255,0), 2) # how many cuboids it sees\n",
    "\n",
    "\n",
    "    cv2.imshow('frame',plot_img) # this just displays the image \n",
    "    if cv2.waitKey(1) & 0xFF == ord('q'): # if you press q, the while loop will break and the video and locating will stop, then the camera is released and windows destroyed\n",
    "        break\n",
    "#cv2.waitKey(0)\n",
    "cap.release()\n",
    "cv2.destroyAllWindows()"
   ]
  },
  {
   "attachments": {},
   "cell_type": "markdown",
   "metadata": {},
   "source": [
    "## Move to selected cuboid for height adjustment"
   ]
  },
  {
   "cell_type": "code",
   "execution_count": 8,
   "metadata": {},
   "outputs": [
    {
     "data": {
      "text/plain": [
       "'0,{},Sync();'"
      ]
     },
     "execution_count": 8,
     "metadata": {},
     "output_type": "execute_result"
    }
   ],
   "source": [
    "dash.ClearError()\n",
    "dash.EnableRobot()\n",
    "M = cv2.moments(cont.selected[0])\n",
    "cX = int(M[\"m10\"] / M[\"m00\"])\n",
    "cY = int(M[\"m01\"] / M[\"m00\"])\n",
    "X, Y, _ = tf_mtx @ (cX, cY, 1)\n",
    "move.MovL(X, Y, -45.683968, 0)\n",
    "move.Sync()\n",
    "#utils.correct_J4_angle(0, dash, move)"
   ]
  },
  {
   "attachments": {},
   "cell_type": "markdown",
   "metadata": {},
   "source": [
    "## Calibrate for well plate grid"
   ]
  },
  {
   "cell_type": "code",
   "execution_count": 11,
   "metadata": {},
   "outputs": [
    {
     "name": "stdout",
     "output_type": "stream",
     "text": [
      "Position saved!\n",
      "Position saved!\n",
      "Position saved!\n",
      "Position saved!\n",
      "Special key pressed: Key.esc\n",
      "\n",
      "Coords: [array([ 228.080266, -170.380843,  -35.067741,  -24.7607  ]), array([ 237.997984, -111.289629,  -34.07267 ,  -13.06407 ]), array([ 341.331115, -113.226047,  -34.599758,   -6.351851]), array([ 333.984161, -174.307534,  -34.873409,  -15.5604  ])]\n"
     ]
    }
   ],
   "source": [
    "keys = utils.Keyboard(dash) # initializing the class Keyboard from the module (file that houses functions (methods) and classes utils and we are passing the parameter dash\n",
    "# we are giving the class Keyboard a connection to the robot which is called dash, dash is an object of the class dashboard\n",
    "keys.execute() # Keyboard has a method called execute, use this to record the position of the robot by pressing s. if finished press esc\n",
    "# we want to find corners of well plate so we record the position of the 4 corners and use this information later, just one use of execute of class keyboard\n",
    "print(f'\\nCoords: {keys.coords}')"
   ]
  },
  {
   "cell_type": "code",
   "execution_count": 12,
   "metadata": {},
   "outputs": [],
   "source": [
    "# this cell calculates the grid for the 96 and the 384 well plate well plate\n",
    "well_plate = utils.assign_corners(keys.coords, reverse=True) # assign_corners is a method in the module utils \n",
    "left_side_points = np.linspace(well_plate['ul'], well_plate['ll'], 12)[:,:2]  ## for 96 well plate\n",
    "right_side_points = np.linspace(well_plate['ur'], well_plate['lr'], 12)[:,:2]\n",
    "# left_side_points = np.linspace(well_plate['ul'], well_plate['ll'], 24)[:,:2]  # for 384 well plate\n",
    "# right_side_points = np.linspace(well_plate['ur'], well_plate['lr'], 24)[:,:2]\n",
    "grid = []\n",
    "for i in range(len(left_side_points)):\n",
    "    x1, y1 = left_side_points[i]\n",
    "    x2, y2 = right_side_points[i]\n",
    "    a = (x2-x1)/(y2-y1)\n",
    "    b = x1 - a*y1\n",
    "    ys = np.linspace(y1,y2,8) \n",
    "    xs = a*ys + b\n",
    "    grid += (list(zip(xs,ys)))\n",
    "\n",
    "np.save('well_plate_96.npy',np.array(grid))"
   ]
  },
  {
   "attachments": {},
   "cell_type": "markdown",
   "metadata": {},
   "source": [
    "### Manual (developer mode)"
   ]
  },
  {
   "cell_type": "code",
   "execution_count": 13,
   "metadata": {},
   "outputs": [
    {
     "name": "stderr",
     "output_type": "stream",
     "text": [
      "[ WARN:0@1186.040] global /opt/conda/conda-bld/opencv-suite_1656606573658/work/modules/videoio/src/cap_gstreamer.cpp (862) isPipelinePlaying OpenCV | GStreamer warning: GStreamer: pipeline have not been created\n"
     ]
    },
    {
     "name": "stdout",
     "output_type": "stream",
     "text": [
      "243\n",
      "240\n",
      "240\n",
      "241\n",
      "234\n",
      "231\n"
     ]
    }
   ],
   "source": [
    "start_idx = 0  # start from this well\n",
    "\n",
    "move.JointMovJ(-30,0,0,0)\n",
    "tf_mtx = np.load('tfm_mtx.npy')\n",
    "anchors = np.load('anchors.npy')\n",
    "ctrs = []\n",
    "grid = np.load('well_plate_96.npy')\n",
    "\n",
    "\n",
    "cont = cv_core.Contours() # define class of methods for cuboid detection, initialize class\n",
    "offset = 100 # create smaller inner circle in petri dish to locate cuboids \n",
    "cap = cv2.VideoCapture(0) # gets access to the camera \n",
    "cap = cv_core.set_res(cap, cv_core.camera_res_dict['1944']) # sets the resolution of the camera to 1200 x 1600\n",
    "\n",
    "cameraMatrix = np.load('./cam_matrices/cam_mtx_1944.npy')\n",
    "dist = np.load('./cam_matrices/dist_1944.npy')\n",
    "newCameraMatrix = np.load('./cam_matrices/newcam_mtx_1944.npy')\n",
    "\n",
    "cv2.namedWindow('frame',  cv2.WINDOW_NORMAL) # create window\n",
    "cv2.resizeWindow('frame', 1348, 1011) # set resolution of window\n",
    "idx = 0\n",
    "edit = 20\n",
    "calibration_z = np.mean(anchors[:,2])\n",
    "z_offset = 35\n",
    "# print(calibration_z)\n",
    "prev = [-1,-1]\n",
    "\n",
    "#for j in range(96): # we want a video stream so we want a while loop to continuously take new images until loop is broken\n",
    "while(True):    \n",
    "    for i in range(5):   # TODO: Test with this and see if you still need five presses on the spacebar # Sarmad Hassan\n",
    "        ret, frame = cap.read()\n",
    "        \n",
    "    frame = cv2.undistort(frame, cameraMatrix, dist, None, newCameraMatrix)\n",
    "\n",
    "    \n",
    "    # getting circles from above cell now so don't need the commented code below (TODO: test if this works)\n",
    "    pt = cont.find_contours(frame, 10, offset) # takes the frame and looks for the circle of the petri dish, also looks for the cuboids \n",
    "    a,b,r = pt # gives the x y coordinates and the radius of the circle\n",
    "    plot_img = frame.copy() # create a copy of the frame so things can be drawn on it without altering original image\n",
    "    cv2.circle(plot_img, (a, b), r, (3, 162, 255), 2) # circles being drawn on image to locate petri dish\n",
    "    cv2.circle(plot_img, (a, b), 1, (0, 0, 255), 3)\n",
    "    cv2.circle(plot_img, (a, b), r - offset, (0, 255, 0), 2) \n",
    "    cv2.drawContours(plot_img, cont.singular, -1,(0,255, 0),2) # two lists of contours (cuboid contours) that we draw on the plotting image\n",
    "    cv2.drawContours(plot_img, cont.clusters, -1,(0,255,0),2)\n",
    "    cv2.circle(plot_img, (a, b), r - offset - edit, (0, 255, 255), 2)  \n",
    "\n",
    "    cv2.putText(plot_img, f\"Found: {len(cont.singular)}\", (25,50), cv2.FONT_HERSHEY_SIMPLEX, 0.75, (0,255,0), 2) # how many cuboids it sees\n",
    "  \n",
    "    cs = cv_core.calc_centers(cont.singular)\n",
    "    ds = utils.mindis(cs, r-offset-edit, a, b, tf_mtx)\n",
    "    # print('ds: ', len(ds))\n",
    "    #print(len(cont.singular))\n",
    "    #print(max(ds))\n",
    "    #print(cont.singular[ds[0][0]])\n",
    "    if len(ds)==0:\n",
    "        print('Threshold too high')\n",
    "        break\n",
    "    cv2.drawContours(plot_img, [cont.singular[ds[0][0][0]]],-1,(255,0,0),2)\n",
    "    \n",
    "    cv2.imshow('frame',plot_img) # this just displays the image \n",
    "    \n",
    "    \n",
    "    \n",
    "    k = cv2.waitKey(0)\n",
    "    if k == ord('q'): # if you press q, the while loop will break and the video and locating will stop, then the camera is released and windows destroyed\n",
    "        break\n",
    "    elif k == ord('e'):\n",
    "        #print(len(cont.singular))\n",
    "        if len(cont.singular) >= 1:\n",
    "            # center = cont.contour_centers(cont.singular)[0]            \n",
    "            #center = random.choice(cont.contour_centers(cont.singular))\n",
    "            #X, Y, _ = tf_mtx @ (center[0], center[1], 1)\n",
    "            \n",
    "            X,Y = ds[0][0][1]\n",
    "\n",
    "            if abs(X-prev[0]) <= 0.5 and abs(Y-prev[1]) <= 0.5:\n",
    "                print('Shake time')\n",
    "                time.sleep(10)\n",
    "                continue\n",
    "            prev = [X,Y]\n",
    "            move.MovL(X, Y, calibration_z + z_offset, 0)\n",
    "            move.Sync()\n",
    "            utils.correct_J4_angle(0, dash, move)\n",
    "            # utils.correct_J4_angle(-360, dash, move)\n",
    "            # utils.correct_J4_angle(0, dash, move)\n",
    "            move.RelMovL(0,0, -z_offset) #(0,0,-36)\n",
    "            move.Sync()\n",
    "            utils.correct_J4_angle(120, dash, move)\n",
    "            move.RelMovL(0,0,z_offset) #(0,0,36) #24 works!!\n",
    "            move.Sync()\n",
    "            x,y = grid[idx+start_idx]\n",
    "            idx += 1\n",
    "            move.MovL(x,y,calibration_z + z_offset, 120)\n",
    "            move.Sync()\n",
    "            utils.correct_J4_angle(120, dash, move)\n",
    "            move.RelMovL(0,0,-33) #(0,0,-27)\n",
    "            move.Sync()\n",
    "            utils.correct_J4_angle(-100, dash, move)\n",
    "            move.RelMovL(0,0, 33) #(0,0,-27)\n",
    "            move.Sync()\n",
    "    \n",
    "    \n",
    "    elif k == ord('r'): # refill well if no cuboid picked\n",
    "        idx -= 1\n",
    "    elif k == ord('i'):  # increase the size of petri dish circle, i.e, decrease offset\n",
    "        edit -= 10\n",
    "    elif k == ord('d'): # decrease the size of petri dish circle, i.e, increase offset\n",
    "        edit += 10              \n",
    "    # elif k == ord('w'):\n",
    "    #     move.MovL(water_dish[0], water_dish[1], water_dish[2]+35, water_dish[3])\n",
    "    #     move.Sync()\n",
    "    #     move.RelMovL(0,0,-35)\n",
    "    #     move.Sync()\n",
    "    #     utils.correct_J4_angle(480, dash, move)\n",
    "    #     move.movL(x,y,z,r) # move back to where??\n",
    "                \n",
    "            \n",
    "cap.release()\n",
    "cv2.destroyAllWindows()\n"
   ]
  },
  {
   "attachments": {},
   "cell_type": "markdown",
   "metadata": {},
   "source": [
    "### Automated"
   ]
  },
  {
   "cell_type": "code",
   "execution_count": 5,
   "metadata": {},
   "outputs": [
    {
     "name": "stderr",
     "output_type": "stream",
     "text": [
      "[ WARN:0@27.061] global /opt/conda/conda-bld/opencv-suite_1656606573658/work/modules/videoio/src/cap_gstreamer.cpp (862) isPipelinePlaying OpenCV | GStreamer warning: GStreamer: pipeline have not been created\n"
     ]
    },
    {
     "name": "stdout",
     "output_type": "stream",
     "text": [
      "219\n",
      "ds:  17\n",
      "222\n",
      "ds:  16\n",
      "226\n",
      "ds:  15\n",
      "214\n",
      "ds:  11\n",
      "214\n",
      "ds:  13\n",
      "143\n",
      "ds:  6\n",
      "143\n",
      "ds:  5\n",
      "145\n",
      "ds:  5\n",
      "Shake time\n",
      "143\n",
      "ds:  7\n",
      "140\n",
      "ds:  4\n",
      "138\n",
      "ds:  4\n",
      "140\n",
      "ds:  2\n",
      "133\n",
      "ds:  3\n",
      "134\n",
      "ds:  3\n",
      "133\n",
      "ds:  1\n",
      "136\n",
      "ds:  2\n",
      "Shake time\n",
      "114\n",
      "ds:  6\n",
      "114\n",
      "ds:  6\n",
      "116\n",
      "ds:  4\n",
      "112\n",
      "ds:  4\n",
      "111\n",
      "ds:  5\n",
      "Shake time\n",
      "114\n",
      "ds:  7\n",
      "113\n",
      "ds:  9\n",
      "111\n",
      "ds:  8\n",
      "add water\n",
      "108\n",
      "ds:  10\n",
      "108\n",
      "ds:  9\n",
      "Shake time\n",
      "220\n",
      "ds:  15\n",
      "199\n",
      "ds:  14\n",
      "179\n",
      "ds:  10\n",
      "173\n",
      "ds:  10\n"
     ]
    },
    {
     "ename": "KeyboardInterrupt",
     "evalue": "",
     "output_type": "error",
     "traceback": [
      "\u001b[0;31m---------------------------------------------------------------------------\u001b[0m",
      "\u001b[0;31mKeyboardInterrupt\u001b[0m                         Traceback (most recent call last)",
      "\u001b[1;32m/home/dobot/github/FolchLab_RobotArm/main_v2.ipynb Cell 49\u001b[0m in \u001b[0;36m<cell line: 34>\u001b[0;34m()\u001b[0m\n\u001b[1;32m     <a href='vscode-notebook-cell:/home/dobot/github/FolchLab_RobotArm/main_v2.ipynb#X66sZmlsZQ%3D%3D?line=92'>93</a>\u001b[0m utils\u001b[39m.\u001b[39mcorrect_J4_angle(\u001b[39m120\u001b[39m, dash, move)\n\u001b[1;32m     <a href='vscode-notebook-cell:/home/dobot/github/FolchLab_RobotArm/main_v2.ipynb#X66sZmlsZQ%3D%3D?line=93'>94</a>\u001b[0m move\u001b[39m.\u001b[39mRelMovL(\u001b[39m0\u001b[39m,\u001b[39m0\u001b[39m,\u001b[39m-\u001b[39m\u001b[39m33\u001b[39m) \u001b[39m#(0,0,-27)\u001b[39;00m\n\u001b[0;32m---> <a href='vscode-notebook-cell:/home/dobot/github/FolchLab_RobotArm/main_v2.ipynb#X66sZmlsZQ%3D%3D?line=94'>95</a>\u001b[0m move\u001b[39m.\u001b[39;49mSync()\n\u001b[1;32m     <a href='vscode-notebook-cell:/home/dobot/github/FolchLab_RobotArm/main_v2.ipynb#X66sZmlsZQ%3D%3D?line=95'>96</a>\u001b[0m utils\u001b[39m.\u001b[39mcorrect_J4_angle(\u001b[39m-\u001b[39m\u001b[39m100\u001b[39m, dash, move)\n\u001b[1;32m     <a href='vscode-notebook-cell:/home/dobot/github/FolchLab_RobotArm/main_v2.ipynb#X66sZmlsZQ%3D%3D?line=96'>97</a>\u001b[0m move\u001b[39m.\u001b[39mRelMovL(\u001b[39m0\u001b[39m,\u001b[39m0\u001b[39m, \u001b[39m33\u001b[39m) \u001b[39m#(0,0,-27)\u001b[39;00m\n",
      "File \u001b[0;32m~/github/FolchLab_RobotArm/deps/dobot_api.py:674\u001b[0m, in \u001b[0;36mDobotApiMove.Sync\u001b[0;34m(self)\u001b[0m\n\u001b[1;32m    672\u001b[0m string \u001b[39m=\u001b[39m \u001b[39m\"\u001b[39m\u001b[39mSync()\u001b[39m\u001b[39m\"\u001b[39m\n\u001b[1;32m    673\u001b[0m \u001b[39mself\u001b[39m\u001b[39m.\u001b[39msend_data(string)\n\u001b[0;32m--> 674\u001b[0m \u001b[39mreturn\u001b[39;00m \u001b[39mself\u001b[39;49m\u001b[39m.\u001b[39;49mwait_reply()\n",
      "File \u001b[0;32m~/github/FolchLab_RobotArm/deps/dobot_api.py:159\u001b[0m, in \u001b[0;36mDobotApi.wait_reply\u001b[0;34m(self)\u001b[0m\n\u001b[1;32m    155\u001b[0m \u001b[39mdef\u001b[39;00m \u001b[39mwait_reply\u001b[39m(\u001b[39mself\u001b[39m):\n\u001b[1;32m    156\u001b[0m     \u001b[39m\"\"\"\u001b[39;00m\n\u001b[1;32m    157\u001b[0m \u001b[39m    Read the return value\u001b[39;00m\n\u001b[1;32m    158\u001b[0m \u001b[39m    \"\"\"\u001b[39;00m\n\u001b[0;32m--> 159\u001b[0m     data \u001b[39m=\u001b[39m \u001b[39mself\u001b[39;49m\u001b[39m.\u001b[39;49msocket_dobot\u001b[39m.\u001b[39;49mrecv(\u001b[39m1024\u001b[39;49m)\n\u001b[1;32m    160\u001b[0m     data_str \u001b[39m=\u001b[39m \u001b[39mstr\u001b[39m(data, encoding\u001b[39m=\u001b[39m\u001b[39m\"\u001b[39m\u001b[39mutf-8\u001b[39m\u001b[39m\"\u001b[39m)\n\u001b[1;32m    161\u001b[0m     \u001b[39m#self.log(f'Receive from 192.168.1.6:{self.port}: {data_str}')\u001b[39;00m\n",
      "\u001b[0;31mKeyboardInterrupt\u001b[0m: "
     ]
    }
   ],
   "source": [
    "start_idx = 0  # start from this well\n",
    "break_point = 8 # break to add water after (break_point)^th iteration\n",
    "\n",
    "grid = np.load('well_plate_96.npy')\n",
    "move.JointMovJ(-30,0,0,0)\n",
    "tf_mtx = np.load('tfm_mtx.npy')\n",
    "anchors = np.load('anchors.npy')\n",
    "ctrs = []\n",
    "grid_size = len(grid)\n",
    "edit = 20\n",
    "cont = cv_core.Contours() # define class of methods for cuboid detection, initialize class\n",
    "offset = 130 # create smaller inner circle in petri dish to locate cuboids \n",
    "cap = cv2.VideoCapture(0) # gets access to the camera \n",
    "cap = cv_core.set_res(cap, cv_core.camera_res_dict['1944']) # sets the resolution of the camera to 1200 x 1600\n",
    "\n",
    "# don't need this now since not undistorting\n",
    "\n",
    "# cameraMatrix = np.load('./cam_matrices/cam_mtx.npy') # uploading the camera matrices for the calibration of the camera for undistortion\n",
    "# dist = np.load('./cam_matrices/dist.npy') \n",
    "# newCameraMatrix = np.load('./cam_matrices/newcam_mtx.npy') \n",
    "\n",
    "cameraMatrix = np.load('./cam_matrices/cam_mtx_1944.npy')\n",
    "dist = np.load('./cam_matrices/dist_1944.npy')\n",
    "newCameraMatrix = np.load('./cam_matrices/newcam_mtx_1944.npy')\n",
    "\n",
    "# cv2.namedWindow('frame',  cv2.WINDOW_NORMAL) # create window\n",
    "# cv2.resizeWindow('frame', 1348, 1011) # set resolution of window\n",
    "idx = 0\n",
    "\n",
    "calibration_z = np.mean(anchors[:,2])\n",
    "z_offset = 35\n",
    "prev = [-1,-1]\n",
    "\n",
    "j=0\n",
    "while j < grid_size-start_idx:\n",
    "#for j in range(grid_size-start_idx): # we want a video stream so we want a while loop to continuously take new images until loop is broken\n",
    "\n",
    "    for i in range(5):   # TODO: Test with this and see if you still need five presses on the spacebar # Sarmad Hassan\n",
    "        ret, frame = cap.read()\n",
    "  \n",
    "    frame = cv2.undistort(frame, cameraMatrix, dist, None, newCameraMatrix)\n",
    "\n",
    "    \n",
    "    # getting circles from above cell now so don't need the commented code below (TODO: test if this works)\n",
    "    pt = cont.find_contours(frame, 10, offset) # takes the frame and looks for the circle of the petri dish, also looks for the cuboids \n",
    "    a,b,r = pt # gives the x y coordinates and the radius of the circle\n",
    "    #plot_img = frame.copy() # create a copy of the frame so things can be drawn on it without altering original image\n",
    "    #cv2.circle(plot_img, (a, b), r, (3, 162, 255), 2) # circles being drawn on image to locate petri dish\n",
    "    #cv2.circle(plot_img, (a, b), 1, (0, 0, 255), 3)\n",
    "    #cv2.circle(plot_img, (a, b), r - offset, (0, 255, 0), 2) \n",
    "    #cv2.drawContours(plot_img, cont.singular, -1,(0,255, 0),2) # two lists of contours (cuboid contours) that we draw on the plotting image\n",
    "    #cv2.drawContours(plot_img, cont.clusters, -1,(0,255,0),2)\n",
    "    #cv2.circle(plot_img, (a, b), r - offset - edit, (0, 255, 255), 2)  \n",
    "\n",
    "    #cv2.putText(plot_img, f\"Found: {len(cont.singular)}\", (25,50), cv2.FONT_HERSHEY_SIMPLEX, 0.75, (0,255,0), 2) # how many cuboids it sees\n",
    "  \n",
    "    cs = calc_centers(cont.singular)\n",
    "    ds = mindis(cs, r-offset-edit, a, b)\n",
    "    print(f'Well index = {j}, len(ds) = {len(ds)}')\n",
    "    #cv2.drawContours(plot_img, [cont.singular[ds[0][0][0]]],-1,(255,0,0),2)\n",
    "    \n",
    "    #cv2.imshow('frame',plot_img) \n",
    "    \n",
    "    \n",
    "    if len(cont.singular) >= 1:\n",
    "        \n",
    "        \n",
    "        if not ds:\n",
    "            print('ds list empty, fix pls')\n",
    "            j -= 1\n",
    "            continue\n",
    "\n",
    "        X,Y = ds[0][0][1]\n",
    "        if abs(X-prev[0]) <= 0.5 and abs(Y-prev[1]) <= 0.5:\n",
    "            print('Shake time')\n",
    "            j -= 1\n",
    "            time.sleep(10)\n",
    "            continue\n",
    "\n",
    "        j += 1\n",
    "        prev = [X,Y]\n",
    "        #print(cs[ds[0][1]])\n",
    "        move.MovL(X, Y, calibration_z + z_offset, 0)\n",
    "        move.Sync()\n",
    "        utils.correct_J4_angle(0, dash, move)\n",
    "        # utils.correct_J4_angle(-360, dash, move)\n",
    "        # utils.correct_J4_angle(0, dash, move)\n",
    "        move.RelMovL(0,0, -z_offset) #(0,0,-36)\n",
    "        move.Sync()\n",
    "        utils.correct_J4_angle(120, dash, move)\n",
    "        move.RelMovL(0,0,z_offset) #(0,0,36) #24 works!!\n",
    "        move.Sync()\n",
    "        x,y = grid[j+start_idx]\n",
    "        #idx += 1\n",
    "        move.MovL(x,y,calibration_z + z_offset, 120)\n",
    "        move.Sync()\n",
    "        utils.correct_J4_angle(120, dash, move)\n",
    "        move.RelMovL(0,0,-33) #(0,0,-27)\n",
    "        move.Sync()\n",
    "        utils.correct_J4_angle(-100, dash, move)\n",
    "        move.RelMovL(0,0, 33) #(0,0,-27)\n",
    "        move.Sync()    \n",
    "    \n",
    "    #break after defined interval\n",
    "    if j!=0 and (j+1) % break_point == 0:\n",
    "        print('add water')\n",
    "        time.sleep(10)\n",
    "        # k = cv2.waitKey(0)\n",
    "        #cv2.imshow('frame',plot_img)\n",
    "        # if k == ord('w'):\n",
    "        #     move.MovL(water_dish[0], water_dish[1], water_dish[2]+35, water_dish[3])\n",
    "        #     move.Sync()\n",
    "        #     move.RelMovL(0,0,-35)\n",
    "        #     move.Sync()\n",
    "        #     utils.correct_J4_angle(480, dash, move)\n",
    "        #     move.movL(x,y,z,r) # move back to where??\n",
    "        # else:\n",
    "        #     time.sleep(10)   \n",
    "                \n",
    "            \n",
    "cap.release()\n",
    "cv2.destroyAllWindows()\n"
   ]
  },
  {
   "cell_type": "code",
   "execution_count": 7,
   "metadata": {},
   "outputs": [
    {
     "name": "stderr",
     "output_type": "stream",
     "text": [
      "[ WARN:0@1509.906] global /opt/conda/conda-bld/opencv-suite_1656606573658/work/modules/videoio/src/cap_gstreamer.cpp (862) isPipelinePlaying OpenCV | GStreamer warning: GStreamer: pipeline have not been created\n"
     ]
    }
   ],
   "source": [
    "cont = cv_core.Contours() # define class of methods for cuboid detection, initialize class\n",
    "offset = 40 # create smaller inner circle in petri dish to locate cuboids \n",
    "cap = cv2.VideoCapture(0) # gets access to the camera \n",
    "cap = cv_core.set_res(cap, cv_core.camera_res_dict['1944'])\n",
    "cv2.namedWindow('frame',  cv2.WINDOW_NORMAL) # create window\n",
    "cv2.resizeWindow('frame', 1348, 1011)\n",
    "\n",
    "while(True):\n",
    "    #ret, frame = cap.read()\n",
    "    for i in range(5):\n",
    "        ret, frame = cap.read()\n",
    "    plot_img = frame.copy()\n",
    "    mask = np.zeros_like(frame)\n",
    "\n",
    "    a, b, _ = frame.shape\n",
    "    mask = cv2.circle(mask, (round(b/2), round(a/2)), 700, (255, 255, 255), -1)\n",
    "    masked = cv2.bitwise_and(frame.astype('uint8'), mask.astype('uint8'))\n",
    "\n",
    "    plot_mask = cv2.circle(mask, (round(b/2), round(a/2)), 800, (255, 255, 255), -1)\n",
    "    plot_img = cv2.bitwise_and(plot_img.astype('uint8'), plot_mask.astype('uint8'))\n",
    "    cv2.circle(plot_img, (round(b/2), round(a/2)), 700, (0, 0, 255), 3)\n",
    "    gray = cv2.cvtColor(masked, cv2.COLOR_BGR2GRAY)\n",
    "\n",
    "    thresh = cv2.adaptiveThreshold(gray,255,cv2.ADAPTIVE_THRESH_GAUSSIAN_C,cv2.THRESH_BINARY_INV,29,5)\n",
    "    kernel = np.ones((3,3),np.uint8)\n",
    "    # dilation = cv2.dilate(thresh,kernel,iterations = 1)\n",
    "    # erosion = cv2.erode(thresh,kernel,iterations = 1)\n",
    "    res = cv2.morphologyEx(thresh, cv2.MORPH_OPEN, kernel, iterations=2)\n",
    "    contours, hierarchy = cv2.findContours(\n",
    "            res, cv2.RETR_TREE, cv2.CHAIN_APPROX_SIMPLE)\n",
    "    contours = cont.filter_contours(contours, 30, 500)\n",
    "\n",
    "    \n",
    "    cv2.drawContours(plot_img, contours, -1,(0,255, 0),2)\n",
    "    \n",
    "    for c in contours:\n",
    "        M = cv2.moments(c)\n",
    "        cX = int(M[\"m10\"] / M[\"m00\"]) # the function moments gives a mysterious dictionary with elements of matrix, it seems that you gotta divide one element by another to get x&y\n",
    "        cY = int(M[\"m01\"] / M[\"m00\"])\n",
    "        cv2.putText(plot_img, f\"{cv2.contourArea(c)}\", (cX - 20, cY - 20), # putting the area of the cuboids onto the screen as text next to the cuboid\n",
    "              cv2.FONT_HERSHEY_SIMPLEX, 0.7, (0, 255, 0), 1)\n",
    "\n",
    "    cv2.imshow('frame',plot_img)\n",
    "    k = cv2.waitKey(0)\n",
    "    if k == ord('q'): # if you press q, the while loop will break and the video and locating will stop, then the camera is released and windows destroyed\n",
    "        break  \n",
    "\n",
    "cap.release()\n",
    "cv2.destroyAllWindows()"
   ]
  },
  {
   "cell_type": "code",
   "execution_count": null,
   "metadata": {},
   "outputs": [],
   "source": [
    "cont = cv_core.Contours() # define class of methods for cuboid detection, initialize class\n",
    "offset = 40 # create smaller inner circle in petri dish to locate cuboids \n",
    "cap = cv2.VideoCapture(0) # gets access to the camera \n",
    "cap = cv_core.set_res(cap, cv_core.camera_res_dict['1944'])\n",
    "\n",
    "for i in range(30):\n",
    "    ret, frame = cap.read()\n",
    "\n",
    "cap.release()"
   ]
  },
  {
   "cell_type": "code",
   "execution_count": null,
   "metadata": {},
   "outputs": [],
   "source": [
    "cv2.namedWindow('frame',  cv2.WINDOW_NORMAL) # create window\n",
    "cv2.resizeWindow('frame', 1348, 1011)\n",
    "cv2.namedWindow('frame2',  cv2.WINDOW_NORMAL) # create window\n",
    "cv2.resizeWindow('frame2', 1348, 1011)\n",
    "\n",
    "plot_img = frame.copy()\n",
    "\n",
    "gray = cv2.cvtColor(frame, cv2.COLOR_BGR2GRAY)\n",
    "thresh = cv2.adaptiveThreshold(gray,255,cv2.ADAPTIVE_THRESH_GAUSSIAN_C,cv2.THRESH_BINARY_INV,29,5)\n",
    "kernel = np.ones((3,3),np.uint8)\n",
    "# dilation = cv2.dilate(thresh,kernel,iterations = 1)\n",
    "# erosion = cv2.erode(thresh,kernel,iterations = 1)\n",
    "res = cv2.morphologyEx(thresh, cv2.MORPH_OPEN, kernel, iterations=2)\n",
    "contours, hierarchy = cv2.findContours(\n",
    "        res, cv2.RETR_TREE, cv2.CHAIN_APPROX_SIMPLE)\n",
    "contours = cont.filter_contours(contours, 30, 500)\n",
    "\n",
    "\n",
    "cv2.drawContours(plot_img, contours, -1,(0,255, 0),2)\n",
    "\n",
    "# for c in contours:\n",
    "#         M = cv2.moments(c)\n",
    "#         cX = int(M[\"m10\"] / M[\"m00\"]) # the function moments gives a mysterious dictionary with elements of matrix, it seems that you gotta divide one element by another to get x&y\n",
    "#         cY = int(M[\"m01\"] / M[\"m00\"])\n",
    "        # cv2.putText(plot_img, f\"{cv2.contourArea(c)}\", (cX - 20, cY - 20), # putting the area of the cuboids onto the screen as text next to the cuboid\n",
    "        #         cv2.FONT_HERSHEY_SIMPLEX, 0.7, (0, 255, 0), 1)\n",
    "\n",
    "cv2.imshow('frame',res)\n",
    "cv2.imshow('frame2', plot_img)\n",
    "k = cv2.waitKey(0)\n",
    "cv2.destroyAllWindows()"
   ]
  },
  {
   "cell_type": "code",
   "execution_count": 3,
   "metadata": {},
   "outputs": [
    {
     "name": "stderr",
     "output_type": "stream",
     "text": [
      "[ WARN:0@32.621] global /opt/conda/conda-bld/opencv-suite_1656606573658/work/modules/videoio/src/cap_gstreamer.cpp (862) isPipelinePlaying OpenCV | GStreamer warning: GStreamer: pipeline have not been created\n",
      "libGL error: MESA-LOADER: failed to open radeonsi: /usr/lib/dri/radeonsi_dri.so: cannot open shared object file: No such file or directory (search paths /usr/lib/x86_64-linux-gnu/dri:\\$${ORIGIN}/dri:/usr/lib/dri, suffix _dri)\n",
      "libGL error: failed to load driver: radeonsi\n",
      "libGL error: MESA-LOADER: failed to open swrast: /usr/lib/dri/swrast_dri.so: cannot open shared object file: No such file or directory (search paths /usr/lib/x86_64-linux-gnu/dri:\\$${ORIGIN}/dri:/usr/lib/dri, suffix _dri)\n",
      "libGL error: failed to load driver: swrast\n"
     ]
    }
   ],
   "source": [
    "cap = cv2.VideoCapture(0)\n",
    "ret, frame = cap.read()  \n",
    "cap.release()  \n",
    "cv2.imshow('frame',frame) # this just displays the image \n",
    "cv2.waitKey(0)\n",
    "cv2.destroyAllWindows()"
   ]
  },
  {
   "attachments": {},
   "cell_type": "markdown",
   "metadata": {},
   "source": [
    "## Camera feed"
   ]
  },
  {
   "cell_type": "code",
   "execution_count": null,
   "metadata": {},
   "outputs": [],
   "source": [
    "cap = cv2.VideoCapture(0) # gets access to the camera \n",
    "cap = cv_core.set_res(cap, cv_core.camera_res_dict['1944'])\n",
    "cv2.namedWindow('frame',  cv2.WINDOW_NORMAL) # create window\n",
    "cv2.resizeWindow('frame', 1348, 1011)\n",
    "key = cv2.waitKey(0)\n",
    "while True:\n",
    "    ret, frame = cap.read()\n",
    "    cv2.imshow('frame', frame)\n",
    "    if key > -1:\n",
    "        break\n",
    "\n",
    "cap.release()\n",
    "cv2.destroyAllWindows()"
   ]
  },
  {
   "cell_type": "markdown",
   "metadata": {},
   "source": [
    "## Launches the cuboid transfer individual selection"
   ]
  },
  {
   "cell_type": "code",
   "execution_count": null,
   "metadata": {},
   "outputs": [],
   "source": [
    "#centers_cuboids = cont.contour_centers(cont.singular)\n",
    "grid = np.load('well_plate_96.npy')\n",
    "centers_cuboids = cont.contour_centers(cont.selected)\n",
    "#cub_offset = np.load('offset.npy')\n",
    "#x_off_base, y_off_base = base_offset\n",
    "dash.ResetRobot()\n",
    "dash.ClearError()\n",
    "dash.EnableRobot()\n",
    "\n",
    "utils.default_pos(move)\n",
    "move.Sync()\n",
    "for idx, center in enumerate(centers_cuboids):\n",
    "    if idx == 96:\n",
    "        break # idx is index, enumerate takes an array and assigns indexes to each element of the array, each element in the array is a cuboid\n",
    "    X, Y, _ = tf_mtx @ (center[0], center[1], 1)\n",
    "    move.MovL(X, Y, -60, 0)\n",
    "    move.Sync()\n",
    "    # base_angle = utils.get_pose(dash, angle=True, verbose=False)[0]\n",
    "    # x_off, y_off = coordinate_rotation(y_off_base, x_off_base, base_angle)\n",
    "   \n",
    "    utils.correct_J4_angle(0, dash, move)\n",
    "    # utils.correct_J4_angle(-360, dash, move)\n",
    "    # utils.correct_J4_angle(0, dash, move)\n",
    "    move.RelMovL(0,0,-29)\n",
    "    # move.Sync()\n",
    "    # utils.correct_J4_angle(120, dash, move)\n",
    "    # move.RelMovL(0,0,29)\n",
    "    # move.Sync()\n",
    "    # x,y = grid[idx]\n",
    "    # move.MovL(x,y,-60, 120)\n",
    "    # move.Sync()\n",
    "    # utils.correct_J4_angle(120, dash, move)\n",
    "    # move.RelMovL(0,0,-23)\n",
    "    # move.Sync()\n",
    "    # utils.correct_J4_angle(-100, dash, move)\n",
    "    # move.RelMovL(0,0,23)\n",
    "    # move.Sync()\n",
    "    \n",
    "\n",
    "# utils.default_pos(move)"
   ]
  },
  {
   "cell_type": "markdown",
   "metadata": {},
   "source": [
    "# Laser test"
   ]
  },
  {
   "cell_type": "code",
   "execution_count": null,
   "metadata": {},
   "outputs": [],
   "source": [
    "centers_cuboids = cont.contour_centers(cont.selected)\n",
    "grid = np.load('well_plate_96.npy')\n",
    "#centers_cuboids = cont.contour_centers(cont.selected)\n",
    "#cub_offset = np.load('offset.npy')\n",
    "#x_off_base, y_off_base = base_offset\n",
    "dash.ResetRobot()\n",
    "dash.ClearError()\n",
    "dash.EnableRobot()\n",
    "\n",
    "utils.default_pos(move)\n",
    "move.Sync()\n",
    "for idx, center in enumerate(centers_cuboids):\n",
    "    if idx == 96:\n",
    "        break # idx is index, enumerate takes an array and assigns indexes to each element of the array, each element in the array is a cuboid\n",
    "    X, Y, _ = tf_mtx @ (center[0], center[1], 1)\n",
    "    move.MovL(X, Y, -89, 0)\n",
    "    move.Sync()\n",
    "    break\n",
    "    # base_angle = utils.get_pose(dash, angle=True, verbose=False)[0]\n",
    "    # x_off, y_off = coordinate_rotation(y_off_base, x_off_base, base_angle)\n",
    "   \n",
    "    # utils.correct_J4_angle(0, dash, move)\n",
    "    # # utils.correct_J4_angle(-360, dash, move)\n",
    "    # # utils.correct_J4_angle(0, dash, move)\n",
    "    # move.RelMovL(0,0,-29)\n",
    "    # move.Sync()\n",
    "    # utils.correct_J4_angle(120, dash, move)\n",
    "    # move.RelMovL(0,0,29)\n",
    "    # move.Sync()\n",
    "    # x,y = grid[idx]\n",
    "    # move.MovL(x,y,-60, 120)\n",
    "    # move.Sync()\n",
    "    # utils.correct_J4_angle(120, dash, move)\n",
    "    # move.RelMovL(0,0,-23)\n",
    "    # move.Sync()\n",
    "    # utils.correct_J4_angle(-100, dash, move)\n",
    "    # move.RelMovL(0,0,23)\n",
    "    # move.Sync()\n",
    "    \n",
    "\n",
    "#utils.default_pos(move)"
   ]
  },
  {
   "cell_type": "code",
   "execution_count": null,
   "metadata": {},
   "outputs": [],
   "source": []
  }
 ],
 "metadata": {
  "kernelspec": {
   "display_name": "stock",
   "language": "python",
   "name": "python3"
  },
  "language_info": {
   "codemirror_mode": {
    "name": "ipython",
    "version": 3
   },
   "file_extension": ".py",
   "mimetype": "text/x-python",
   "name": "python",
   "nbconvert_exporter": "python",
   "pygments_lexer": "ipython3",
   "version": "3.9.12"
  },
  "orig_nbformat": 4,
  "vscode": {
   "interpreter": {
    "hash": "8375749a1bafb386f34ea9f0dd7e55daf2784b2541aa2e32281e1f53a27462d2"
   }
  }
 },
 "nbformat": 4,
 "nbformat_minor": 2
}
