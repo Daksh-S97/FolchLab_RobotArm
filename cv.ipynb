{
 "cells": [
  {
   "cell_type": "code",
   "execution_count": 1,
   "metadata": {},
   "outputs": [],
   "source": [
    "import numpy as np\n",
    "import matplotlib.pyplot as plt\n",
    "from deps import cv_core\n",
    "import cv2\n",
    "import glob\n",
    "from deps.dobot_api import DobotApiDashboard, DobotApiMove"
   ]
  },
  {
   "cell_type": "code",
   "execution_count": 2,
   "metadata": {},
   "outputs": [],
   "source": [
    "camera_res = {\n",
    "            '240':(320,240),\n",
    "            '480':(640,480),\n",
    "            '600':(800,600),\n",
    "            '768':(1024, 768),\n",
    "            '960':(1280, 960),\n",
    "            '1200':(1600, 1200),\n",
    "            '1536':(2048, 1536),\n",
    "            '1944':(2592, 1944),\n",
    "            '2448':(3264, 2448)}"
   ]
  },
  {
   "cell_type": "code",
   "execution_count": 3,
   "metadata": {},
   "outputs": [
    {
     "name": "stderr",
     "output_type": "stream",
     "text": [
      "Qt: Session management error: Could not open network socket\n",
      "Only C and default locale supported with the posix collation implementation\n",
      "Only C and default locale supported with the posix collation implementation\n",
      "Case insensitive sorting unsupported in the posix collation implementation\n",
      "Numeric mode unsupported in the posix collation implementation\n"
     ]
    }
   ],
   "source": [
    "cap = cv2.VideoCapture(0)\n",
    "cap = cv_core.set_res(cap, camera_res['768'])\n",
    "cv_core.video_test(cap)\n",
    "cap.release()"
   ]
  },
  {
   "cell_type": "code",
   "execution_count": 3,
   "metadata": {},
   "outputs": [],
   "source": [
    "features_mm_to_pixels_dict =  {(382.76, -113.37): (499, 412), #bottom left\n",
    "                                (225.27, 94.68): (240, 103), #top right\n",
    "                                (386.5, 91.55): (492, 98), # bottom right\n",
    "                                (221.25, -110.62): (248, 419)} # top left\n",
    "\n",
    "tf_mtx = cv_core.compute_tf_mtx(features_mm_to_pixels_dict)"
   ]
  },
  {
   "cell_type": "code",
   "execution_count": 4,
   "metadata": {},
   "outputs": [
    {
     "ename": "UnboundLocalError",
     "evalue": "local variable 'a' referenced before assignment",
     "output_type": "error",
     "traceback": [
      "\u001b[0;31m---------------------------------------------------------------------------\u001b[0m",
      "\u001b[0;31mUnboundLocalError\u001b[0m                         Traceback (most recent call last)",
      "\u001b[1;32m/home/dobot/project/FolchLab_RobotArm/cv.ipynb Cell 6'\u001b[0m in \u001b[0;36m<cell line: 6>\u001b[0;34m()\u001b[0m\n\u001b[1;32m      <a href='vscode-notebook-cell:/home/dobot/project/FolchLab_RobotArm/cv.ipynb#ch0000006?line=4'>5</a>\u001b[0m \u001b[39mwhile\u001b[39;00m(\u001b[39mTrue\u001b[39;00m):\n\u001b[1;32m      <a href='vscode-notebook-cell:/home/dobot/project/FolchLab_RobotArm/cv.ipynb#ch0000006?line=5'>6</a>\u001b[0m     ret, frame \u001b[39m=\u001b[39m cap\u001b[39m.\u001b[39mread()\n\u001b[0;32m----> <a href='vscode-notebook-cell:/home/dobot/project/FolchLab_RobotArm/cv.ipynb#ch0000006?line=7'>8</a>\u001b[0m     a,b,r,sorted_contours \u001b[39m=\u001b[39m cv_core\u001b[39m.\u001b[39;49mfind_contours(frame)\n\u001b[1;32m      <a href='vscode-notebook-cell:/home/dobot/project/FolchLab_RobotArm/cv.ipynb#ch0000006?line=8'>9</a>\u001b[0m     plot_img \u001b[39m=\u001b[39m frame\u001b[39m.\u001b[39mcopy()\n\u001b[1;32m     <a href='vscode-notebook-cell:/home/dobot/project/FolchLab_RobotArm/cv.ipynb#ch0000006?line=9'>10</a>\u001b[0m     cv2\u001b[39m.\u001b[39mcircle(plot_img, (a, b), r, (\u001b[39m0\u001b[39m, \u001b[39m255\u001b[39m, \u001b[39m0\u001b[39m), \u001b[39m2\u001b[39m)\n",
      "File \u001b[0;32m~/project/FolchLab_RobotArm/deps/cv_core.py:97\u001b[0m, in \u001b[0;36mfind_contours\u001b[0;34m(frame, eps)\u001b[0m\n\u001b[1;32m     95\u001b[0m \u001b[39m#Create mask to isolate the information in the petri dish.\u001b[39;00m\n\u001b[1;32m     96\u001b[0m mask \u001b[39m=\u001b[39m np\u001b[39m.\u001b[39mzeros_like(frame)\n\u001b[0;32m---> 97\u001b[0m mask \u001b[39m=\u001b[39m cv2\u001b[39m.\u001b[39mcircle(mask, (a,b), r\u001b[39m-\u001b[39m\u001b[39m25\u001b[39m, (\u001b[39m255\u001b[39m,\u001b[39m255\u001b[39m,\u001b[39m255\u001b[39m), \u001b[39m-\u001b[39m\u001b[39m1\u001b[39m)\n\u001b[1;32m     98\u001b[0m mask \u001b[39m=\u001b[39m cv2\u001b[39m.\u001b[39mcvtColor(mask, cv2\u001b[39m.\u001b[39mCOLOR_BGR2GRAY)\n\u001b[1;32m     99\u001b[0m \u001b[39m#Apply the mask to the image.\u001b[39;00m\n",
      "\u001b[0;31mUnboundLocalError\u001b[0m: local variable 'a' referenced before assignment"
     ]
    }
   ],
   "source": [
    "cap = cv2.VideoCapture(0)\n",
    "cap = cv_core.set_res(cap, camera_res['768'])\n",
    "#out = cv2.VideoWriter('out.avi',cv2.VideoWriter_fourcc('M','J','P','G'), 25, (640,480))\n",
    "\n",
    "while(True):\n",
    "    ret, frame = cap.read()\n",
    "\n",
    "    a,b,r,sorted_contours = cv_core.find_contours(frame)\n",
    "    plot_img = frame.copy()\n",
    "    cv2.circle(plot_img, (a, b), r, (0, 255, 0), 2)\n",
    "    cv2.circle(plot_img, (a, b), 1, (255, 0, 0), 3)\n",
    "    with_contours = cv2.drawContours(plot_img, sorted_contours, -1,(0,255, 0),2)\n",
    "    #out.write(with_contours)\n",
    "\n",
    "    cv2.imshow('frame',with_contours)\n",
    "    if cv2.waitKey(1) & 0xFF == ord('q'):\n",
    "        break\n",
    "\n",
    "cap.release()\n",
    "#out.release()\n",
    "cv2.destroyAllWindows()"
   ]
  },
  {
   "cell_type": "code",
   "execution_count": 2,
   "metadata": {},
   "outputs": [],
   "source": [
    "images = sorted(glob.glob('data/image*.png'))\n",
    "\n",
    "\n",
    "font = cv2.FONT_HERSHEY_SIMPLEX\n",
    "  \n",
    "# org\n",
    "org = (50, 50)\n",
    "  \n",
    "# fontScale\n",
    "fontScale = 1\n",
    "   \n",
    "# Blue color in BGR\n",
    "color = (255, 0, 0)\n",
    "  \n",
    "# Line thickness of 2 px\n",
    "thickness = 2\n",
    "\n",
    "for idx, image in enumerate(images):\n",
    "    img = cv2.imread(image)\n",
    "    img = cv2.putText(img, f'{idx}', org, font, \n",
    "                   fontScale, color, thickness, cv2.LINE_AA)\n",
    "    cv2.imwrite(f'marked/image{idx}.png', img)"
   ]
  },
  {
   "cell_type": "code",
   "execution_count": 4,
   "metadata": {},
   "outputs": [],
   "source": [
    "img = cv2.imread('image0.png')\n",
    "gray = cv2.cvtColor(img, cv2.COLOR_RGB2GRAY)\n",
    "ret, corners = cv2.findChessboardCorners(gray, (9,7), None)"
   ]
  },
  {
   "cell_type": "code",
   "execution_count": 5,
   "metadata": {},
   "outputs": [],
   "source": [
    "dash = DobotApiDashboard('192.168.1.6', 29999)\n",
    "move = DobotApiMove('192.168.1.6', 30003)"
   ]
  },
  {
   "cell_type": "code",
   "execution_count": 7,
   "metadata": {},
   "outputs": [
    {
     "data": {
      "text/plain": [
       "'0,{},EnableRobot();'"
      ]
     },
     "execution_count": 7,
     "metadata": {},
     "output_type": "execute_result"
    }
   ],
   "source": [
    "dash.ClearError()\n",
    "dash.EnableRobot()"
   ]
  },
  {
   "cell_type": "code",
   "execution_count": 9,
   "metadata": {},
   "outputs": [
    {
     "data": {
      "text/plain": [
       "'0,{},DisableRobot();'"
      ]
     },
     "execution_count": 9,
     "metadata": {},
     "output_type": "execute_result"
    }
   ],
   "source": [
    "dash.DisableRobot()"
   ]
  },
  {
   "cell_type": "code",
   "execution_count": 8,
   "metadata": {},
   "outputs": [],
   "source": [
    "Z = -145\n",
    "for corner in corners:\n",
    "    x = corner[0][0]\n",
    "    y = corner[0][1]\n",
    "\n",
    "    X, Y, _ = tf_mtx @ (x,y,1)    \n",
    "\n",
    "    move.MovL(X, Y, Z, 0)"
   ]
  }
 ],
 "metadata": {
  "kernelspec": {
   "display_name": "Python ('robot')",
   "language": "python",
   "name": "python3"
  },
  "language_info": {
   "codemirror_mode": {
    "name": "ipython",
    "version": 3
   },
   "file_extension": ".py",
   "mimetype": "text/x-python",
   "name": "python",
   "nbconvert_exporter": "python",
   "pygments_lexer": "ipython3",
   "version": "3.9.7"
  },
  "orig_nbformat": 4,
  "vscode": {
   "interpreter": {
    "hash": "d173b489ab521b9601af30cf6d3a545463870cf66e6f35e203379ef2b30a8bb1"
   }
  }
 },
 "nbformat": 4,
 "nbformat_minor": 2
}
