{
 "cells": [
  {
   "cell_type": "code",
   "execution_count": 4,
   "metadata": {},
   "outputs": [],
   "source": [
    "import numpy as np\n",
    "import matplotlib.pyplot as plt\n",
    "from deps import cv_core\n",
    "import cv2\n",
    "import glob\n",
    "from deps.dobot_api import DobotApiDashboard, DobotApiMove\n",
    "import imutils"
   ]
  },
  {
   "cell_type": "code",
   "execution_count": 5,
   "metadata": {},
   "outputs": [],
   "source": [
    "camera_res = {\n",
    "            '240':(320,240),\n",
    "            '480':(640,480),\n",
    "            '600':(800,600),\n",
    "            '768':(1024, 768),\n",
    "            '960':(1280, 960),\n",
    "            '1200':(1600, 1200),\n",
    "            '1536':(2048, 1536),\n",
    "            '1944':(2592, 1944),\n",
    "            '2448':(3264, 2448)}"
   ]
  },
  {
   "cell_type": "code",
   "execution_count": 16,
   "metadata": {},
   "outputs": [],
   "source": [
    "cap = cv2.VideoCapture(0)\n",
    "cap = cv_core.set_res(cap, camera_res['1200'])\n",
    "cv_core.video_test(cap)\n",
    "cap.release()"
   ]
  },
  {
   "cell_type": "code",
   "execution_count": 3,
   "metadata": {},
   "outputs": [],
   "source": [
    "features_mm_to_pixels_dict =  {(382.76, -113.37): (499, 412), #bottom left\n",
    "                                (225.27, 94.68): (240, 103), #top right\n",
    "                                (386.5, 91.55): (492, 98), # bottom right\n",
    "                                (221.25, -110.62): (248, 419)} # top left\n",
    "\n",
    "tf_mtx = cv_core.compute_tf_mtx(features_mm_to_pixels_dict)"
   ]
  },
  {
   "cell_type": "code",
   "execution_count": 20,
   "metadata": {},
   "outputs": [],
   "source": [
    "cap = cv2.VideoCapture(0)\n",
    "cap = cv_core.set_res(cap, camera_res['768'])\n",
    "#out = cv2.VideoWriter('out.avi',cv2.VideoWriter_fourcc('M','J','P','G'), 25, (640,480))\n",
    "\n",
    "while(True):\n",
    "    ret, frame = cap.read()\n",
    "\n",
    "    a,b,r,sorted_contours = cv_core.find_contours(frame)\n",
    "    plot_img = frame.copy()\n",
    "    cv2.circle(plot_img, (a, b), r, (0, 255, 0), 2)\n",
    "    cv2.circle(plot_img, (a, b), 1, (255, 0, 0), 3)\n",
    "    #with_contours = cv2.drawContours(plot_img, sorted_contours, -1,(0,255, 0),2)\n",
    "\n",
    "    for c in sorted_contours:\n",
    "        # compute the center of the contour\n",
    "        M = cv2.moments(c)\n",
    "        cX = int(M[\"m10\"] / M[\"m00\"])\n",
    "        cY = int(M[\"m01\"] / M[\"m00\"])\n",
    "        # draw the contour and center of the shape on the image\n",
    "        #cv2.drawContours(plot_img, [c], -1, (0, 255, 0), 2)\n",
    "        cv2.circle(plot_img, (cX, cY), 1, (255, 0, 0), -1)\n",
    "        cv2.putText(plot_img, f\"{cX},{cY}\", (cX - 20, cY - 20),\n",
    "        cv2.FONT_HERSHEY_SIMPLEX, 0.5, (0, 255, 0), 2)\n",
    "    #out.write(with_contours)\n",
    "\n",
    "    cv2.imshow('frame',plot_img)\n",
    "    if cv2.waitKey(1) & 0xFF == ord('q'):\n",
    "        break\n",
    "\n",
    "cap.release()\n",
    "#out.release()\n",
    "cv2.destroyAllWindows()"
   ]
  },
  {
   "cell_type": "code",
   "execution_count": 14,
   "metadata": {},
   "outputs": [],
   "source": [
    "images = sorted(glob.glob('camera_data/raw/*.png'))\n",
    "\n",
    "\n",
    "font = cv2.FONT_HERSHEY_SIMPLEX\n",
    "  \n",
    "# org\n",
    "org = (50, 50)\n",
    "  \n",
    "# fontScale\n",
    "fontScale = 1\n",
    "   \n",
    "# Blue color in BGR\n",
    "color = (0, 255, 0)\n",
    "  \n",
    "# Line thickness of 2 px\n",
    "thickness = 2\n",
    "\n",
    "for idx, image in enumerate(images):\n",
    "    img = cv2.imread(image)\n",
    "    img = cv2.putText(img, f'{idx}', org, font, \n",
    "                   fontScale, color, thickness, cv2.LINE_AA)\n",
    "    cv2.imwrite(f'camera_data/marked/image{idx}.png', img)"
   ]
  },
  {
   "cell_type": "code",
   "execution_count": 20,
   "metadata": {},
   "outputs": [],
   "source": [
    "cameraMatrix = np.load('./cam_matrices/cam_mtx.npy')\n",
    "dist = np.load('./cam_matrices/dist.npy')\n",
    "newCameraMatrix = np.load('./cam_matrices/newcam_mtx.npy')\n",
    "\n",
    "cap = cv2.VideoCapture(0)\n",
    "cap = cv_core.set_res(cap, camera_res['1200'])\n",
    "\n",
    "while True:\n",
    "    ret, frame = cap.read()\n",
    "    \n",
    "    frame = cv2.undistort(frame, cameraMatrix, dist, None, newCameraMatrix)\n",
    "    cv2.namedWindow('frame', cv2.WINDOW_NORMAL)\n",
    "    cv2.imshow('frame', frame)\n",
    "    if cv2.waitKey(1) & 0xFF == ord('q'):\n",
    "        break\n",
    "            \n",
    "cap.release()\n",
    "cv2.destroyAllWindows()"
   ]
  },
  {
   "cell_type": "code",
   "execution_count": 4,
   "metadata": {},
   "outputs": [],
   "source": [
    "img = cv2.imread('image0.png')\n",
    "gray = cv2.cvtColor(img, cv2.COLOR_RGB2GRAY)\n",
    "ret, corners = cv2.findChessboardCorners(gray, (9,7), None)"
   ]
  },
  {
   "cell_type": "code",
   "execution_count": 5,
   "metadata": {},
   "outputs": [],
   "source": [
    "dash = DobotApiDashboard('192.168.1.6', 29999)\n",
    "move = DobotApiMove('192.168.1.6', 30003)"
   ]
  },
  {
   "cell_type": "code",
   "execution_count": 7,
   "metadata": {},
   "outputs": [
    {
     "data": {
      "text/plain": [
       "'0,{},EnableRobot();'"
      ]
     },
     "execution_count": 7,
     "metadata": {},
     "output_type": "execute_result"
    }
   ],
   "source": [
    "dash.ClearError()\n",
    "dash.EnableRobot()"
   ]
  },
  {
   "cell_type": "code",
   "execution_count": 9,
   "metadata": {},
   "outputs": [
    {
     "data": {
      "text/plain": [
       "'0,{},DisableRobot();'"
      ]
     },
     "execution_count": 9,
     "metadata": {},
     "output_type": "execute_result"
    }
   ],
   "source": [
    "dash.DisableRobot()"
   ]
  },
  {
   "cell_type": "code",
   "execution_count": 8,
   "metadata": {},
   "outputs": [],
   "source": [
    "Z = -145\n",
    "for corner in corners:\n",
    "    x = corner[0][0]\n",
    "    y = corner[0][1]\n",
    "\n",
    "    X, Y, _ = tf_mtx @ (x,y,1)    \n",
    "\n",
    "    move.MovL(X, Y, Z, 0)"
   ]
  }
 ],
 "metadata": {
  "kernelspec": {
   "display_name": "Python ('robot')",
   "language": "python",
   "name": "python3"
  },
  "language_info": {
   "codemirror_mode": {
    "name": "ipython",
    "version": 3
   },
   "file_extension": ".py",
   "mimetype": "text/x-python",
   "name": "python",
   "nbconvert_exporter": "python",
   "pygments_lexer": "ipython3",
   "version": "3.9.7"
  },
  "orig_nbformat": 4,
  "vscode": {
   "interpreter": {
    "hash": "d173b489ab521b9601af30cf6d3a545463870cf66e6f35e203379ef2b30a8bb1"
   }
  }
 },
 "nbformat": 4,
 "nbformat_minor": 2
}
